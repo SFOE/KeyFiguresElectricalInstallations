{
  "cells": [
    {
      "cell_type": "markdown",
      "source": [
        "# Key Figures Electrical Installations >36kV\n",
        "Notebook to get key figures of the geodataset Electrical installations with a nominal voltage exceeding 36 kV"
      ],
      "metadata": {
        "id": "TvAaPsApM6kf"
      },
      "id": "TvAaPsApM6kf"
    },
    {
      "cell_type": "code",
      "source": [
        "import geopandas as gpd\n",
        "#import fiona\n",
        "#import shapely"
      ],
      "metadata": {
        "id": "O1snWJw5Nm8f"
      },
      "id": "O1snWJw5Nm8f",
      "execution_count": null,
      "outputs": []
    },
    {
      "cell_type": "code",
      "source": [
        "url = \"https://data.geo.admin.ch/ch.bfe.elektrische-anlagen_ueber_36/gpkg/2056/ElektrischeAnlagenNennspannungUeber36kV_V1.gpkg\"\n",
        "#Leitung = gpd.read_file(url, driver=\"GPKG\", layer='ElektrischeAnlagenNennspannungUeber36kV_V1_ElektrischeAnlagen_Leitung')\n",
        "#Leitung"
      ],
      "metadata": {
        "id": "-xzTRhr-Nd4g"
      },
      "id": "-xzTRhr-Nd4g",
      "execution_count": null,
      "outputs": []
    },
    {
      "cell_type": "code",
      "source": [
        "for layername in fiona.listlayers(url):\n",
        "    with fiona.open(url, driver=\"GPKG\", layer=layername) as src:\n",
        "        print(layername, len(src))\n"
      ],
      "metadata": {
        "id": "0pa4XTODNkLv",
        "outputId": "678b54fd-effb-433b-f8ec-7708f5dab0b9",
        "colab": {
          "base_uri": "https://localhost:8080/"
        }
      },
      "id": "0pa4XTODNkLv",
      "execution_count": null,
      "outputs": [
        {
          "output_type": "stream",
          "name": "stdout",
          "text": [
            "ElektrischeAnlagenNennspannungUeber36kV_V1_ElektrischeAnlagen_Leitung 4733\n",
            "ElektrischeAnlagenNennspannungUeber36kV_V1_ElektrischeAnlagen_Mast 19349\n",
            "ElektrischeAnlagenNennspannungUeber36kV_V1_ElektrischeAnlagen_Station 323\n"
          ]
        }
      ]
    },
    {
      "cell_type": "code",
      "source": [
        "df = fiona.read_file(url, driver=\"GPKG\", layer='ElektrischeAnlagenNennspannungUeber36kV_V1_ElektrischeAnlagen_Leitung')"
      ],
      "metadata": {
        "id": "LR7tfhWtOVo2",
        "outputId": "a3c8c233-09b5-4b76-87bd-6913b918e6f4",
        "colab": {
          "base_uri": "https://localhost:8080/",
          "height": 166
        }
      },
      "id": "LR7tfhWtOVo2",
      "execution_count": null,
      "outputs": [
        {
          "output_type": "error",
          "ename": "AttributeError",
          "evalue": "ignored",
          "traceback": [
            "\u001b[0;31m---------------------------------------------------------------------------\u001b[0m",
            "\u001b[0;31mAttributeError\u001b[0m                            Traceback (most recent call last)",
            "\u001b[0;32m<ipython-input-25-8356fd9c395b>\u001b[0m in \u001b[0;36m<cell line: 1>\u001b[0;34m()\u001b[0m\n\u001b[0;32m----> 1\u001b[0;31m \u001b[0mdf\u001b[0m \u001b[0;34m=\u001b[0m \u001b[0mfiona\u001b[0m\u001b[0;34m.\u001b[0m\u001b[0mread_file\u001b[0m\u001b[0;34m(\u001b[0m\u001b[0murl\u001b[0m\u001b[0;34m,\u001b[0m \u001b[0mdriver\u001b[0m\u001b[0;34m=\u001b[0m\u001b[0;34m\"GPKG\"\u001b[0m\u001b[0;34m,\u001b[0m \u001b[0mlayer\u001b[0m\u001b[0;34m=\u001b[0m\u001b[0;34m'ElektrischeAnlagenNennspannungUeber36kV_V1_ElektrischeAnlagen_Leitung'\u001b[0m\u001b[0;34m)\u001b[0m\u001b[0;34m\u001b[0m\u001b[0;34m\u001b[0m\u001b[0m\n\u001b[0m",
            "\u001b[0;31mAttributeError\u001b[0m: module 'fiona' has no attribute 'read_file'"
          ]
        }
      ]
    },
    {
      "cell_type": "code",
      "source": [
        "df.dtypes"
      ],
      "metadata": {
        "id": "Dt1dONLBRkNV",
        "outputId": "b9eb17a7-302f-412e-852f-3eefb06a867b",
        "colab": {
          "base_uri": "https://localhost:8080/",
          "height": 166
        }
      },
      "id": "Dt1dONLBRkNV",
      "execution_count": null,
      "outputs": [
        {
          "output_type": "error",
          "ename": "AttributeError",
          "evalue": "ignored",
          "traceback": [
            "\u001b[0;31m---------------------------------------------------------------------------\u001b[0m",
            "\u001b[0;31mAttributeError\u001b[0m                            Traceback (most recent call last)",
            "\u001b[0;32m<ipython-input-24-5cc0934cc03c>\u001b[0m in \u001b[0;36m<cell line: 1>\u001b[0;34m()\u001b[0m\n\u001b[0;32m----> 1\u001b[0;31m \u001b[0mdf\u001b[0m\u001b[0;34m.\u001b[0m\u001b[0mdtypes\u001b[0m\u001b[0;34m\u001b[0m\u001b[0;34m\u001b[0m\u001b[0m\n\u001b[0m",
            "\u001b[0;31mAttributeError\u001b[0m: 'Collection' object has no attribute 'dtypes'"
          ]
        }
      ]
    }
  ],
  "metadata": {
    "kernelspec": {
      "display_name": "Python 3",
      "language": "python",
      "name": "python3"
    },
    "language_info": {
      "codemirror_mode": {
        "name": "ipython",
        "version": 3
      },
      "file_extension": ".py",
      "mimetype": "text/x-python",
      "name": "python",
      "nbconvert_exporter": "python",
      "pygments_lexer": "ipython3",
      "version": "3.7.11"
    },
    "colab": {
      "provenance": []
    }
  },
  "nbformat": 4,
  "nbformat_minor": 5
}