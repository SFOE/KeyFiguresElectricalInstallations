{
  "cells": [
    {
      "cell_type": "markdown",
      "metadata": {
        "id": "view-in-github",
        "colab_type": "text"
      },
      "source": [
        "<a href=\"https://colab.research.google.com/github/nrohrbach/KeyFiguresElectricalInstallations/blob/main/KeyFiguresElectricalInstallations36kV.ipynb\" target=\"_parent\"><img src=\"https://colab.research.google.com/assets/colab-badge.svg\" alt=\"Open In Colab\"/></a>"
      ]
    },
    {
      "cell_type": "markdown",
      "source": [
        "# Kennzahlen Geobasisdatensatz Elektrische Anlagen mit einer Nennspannung von über 36kV\n",
        "\n",
        "---\n",
        "\n",
        "Notebook um Kennzahlen des Geobasisdatensatzes \"Elektrische Anlagen mit einer Nennspannung von über 36kV abzuleiten.\n",
        "\n",
        "\n",
        "**Offene Fragen**\n",
        "\n",
        "*   Sollen bei Leitungen die Erdungen auch gezählt werden oder nicht?\n",
        "*   Hat Swissgrid auch Stationen der Netzebene 4?\n",
        "\n",
        "**ToDo**\n",
        "\n",
        "*   Kennzahlen Stationen nach Netzebene 2 und 4 unterteilen\n",
        "\n",
        "\n",
        "\n"
      ],
      "metadata": {
        "id": "TvAaPsApM6kf"
      },
      "id": "TvAaPsApM6kf"
    },
    {
      "cell_type": "code",
      "source": [
        "pip install geopandas"
      ],
      "metadata": {
        "id": "BtBcPFkSsYlX",
        "outputId": "881da521-8e35-4639-a45e-b1c3ae6b7c8c",
        "colab": {
          "base_uri": "https://localhost:8080/"
        }
      },
      "id": "BtBcPFkSsYlX",
      "execution_count": 1,
      "outputs": [
        {
          "output_type": "stream",
          "name": "stdout",
          "text": [
            "Looking in indexes: https://pypi.org/simple, https://us-python.pkg.dev/colab-wheels/public/simple/\n",
            "Collecting geopandas\n",
            "  Downloading geopandas-0.13.2-py3-none-any.whl (1.1 MB)\n",
            "\u001b[2K     \u001b[90m━━━━━━━━━━━━━━━━━━━━━━━━━━━━━━━━━━━━━━━━\u001b[0m \u001b[32m1.1/1.1 MB\u001b[0m \u001b[31m15.3 MB/s\u001b[0m eta \u001b[36m0:00:00\u001b[0m\n",
            "\u001b[?25hCollecting fiona>=1.8.19 (from geopandas)\n",
            "  Downloading Fiona-1.9.4.post1-cp310-cp310-manylinux_2_17_x86_64.manylinux2014_x86_64.whl (16.4 MB)\n",
            "\u001b[2K     \u001b[90m━━━━━━━━━━━━━━━━━━━━━━━━━━━━━━━━━━━━━━━━\u001b[0m \u001b[32m16.4/16.4 MB\u001b[0m \u001b[31m55.4 MB/s\u001b[0m eta \u001b[36m0:00:00\u001b[0m\n",
            "\u001b[?25hRequirement already satisfied: packaging in /usr/local/lib/python3.10/dist-packages (from geopandas) (23.1)\n",
            "Requirement already satisfied: pandas>=1.1.0 in /usr/local/lib/python3.10/dist-packages (from geopandas) (1.5.3)\n",
            "Collecting pyproj>=3.0.1 (from geopandas)\n",
            "  Downloading pyproj-3.6.0-cp310-cp310-manylinux_2_17_x86_64.manylinux2014_x86_64.whl (7.9 MB)\n",
            "\u001b[2K     \u001b[90m━━━━━━━━━━━━━━━━━━━━━━━━━━━━━━━━━━━━━━━━\u001b[0m \u001b[32m7.9/7.9 MB\u001b[0m \u001b[31m73.4 MB/s\u001b[0m eta \u001b[36m0:00:00\u001b[0m\n",
            "\u001b[?25hRequirement already satisfied: shapely>=1.7.1 in /usr/local/lib/python3.10/dist-packages (from geopandas) (2.0.1)\n",
            "Requirement already satisfied: attrs>=19.2.0 in /usr/local/lib/python3.10/dist-packages (from fiona>=1.8.19->geopandas) (23.1.0)\n",
            "Requirement already satisfied: certifi in /usr/local/lib/python3.10/dist-packages (from fiona>=1.8.19->geopandas) (2022.12.7)\n",
            "Requirement already satisfied: click~=8.0 in /usr/local/lib/python3.10/dist-packages (from fiona>=1.8.19->geopandas) (8.1.3)\n",
            "Collecting click-plugins>=1.0 (from fiona>=1.8.19->geopandas)\n",
            "  Downloading click_plugins-1.1.1-py2.py3-none-any.whl (7.5 kB)\n",
            "Collecting cligj>=0.5 (from fiona>=1.8.19->geopandas)\n",
            "  Downloading cligj-0.7.2-py3-none-any.whl (7.1 kB)\n",
            "Requirement already satisfied: six in /usr/local/lib/python3.10/dist-packages (from fiona>=1.8.19->geopandas) (1.16.0)\n",
            "Requirement already satisfied: python-dateutil>=2.8.1 in /usr/local/lib/python3.10/dist-packages (from pandas>=1.1.0->geopandas) (2.8.2)\n",
            "Requirement already satisfied: pytz>=2020.1 in /usr/local/lib/python3.10/dist-packages (from pandas>=1.1.0->geopandas) (2022.7.1)\n",
            "Requirement already satisfied: numpy>=1.21.0 in /usr/local/lib/python3.10/dist-packages (from pandas>=1.1.0->geopandas) (1.22.4)\n",
            "Installing collected packages: pyproj, cligj, click-plugins, fiona, geopandas\n",
            "Successfully installed click-plugins-1.1.1 cligj-0.7.2 fiona-1.9.4.post1 geopandas-0.13.2 pyproj-3.6.0\n"
          ]
        }
      ]
    },
    {
      "cell_type": "code",
      "source": [
        "pip install datetime"
      ],
      "metadata": {
        "id": "FIFlyBbH1nym",
        "outputId": "a0fbca78-7303-4fd3-911b-3d7ec07de6d0",
        "colab": {
          "base_uri": "https://localhost:8080/"
        }
      },
      "id": "FIFlyBbH1nym",
      "execution_count": 2,
      "outputs": [
        {
          "output_type": "stream",
          "name": "stdout",
          "text": [
            "Looking in indexes: https://pypi.org/simple, https://us-python.pkg.dev/colab-wheels/public/simple/\n",
            "Collecting datetime\n",
            "  Downloading DateTime-5.1-py3-none-any.whl (52 kB)\n",
            "\u001b[2K     \u001b[90m━━━━━━━━━━━━━━━━━━━━━━━━━━━━━━━━━━━━━━━━\u001b[0m \u001b[32m52.1/52.1 kB\u001b[0m \u001b[31m2.1 MB/s\u001b[0m eta \u001b[36m0:00:00\u001b[0m\n",
            "\u001b[?25hCollecting zope.interface (from datetime)\n",
            "  Downloading zope.interface-6.0-cp310-cp310-manylinux_2_5_x86_64.manylinux1_x86_64.manylinux_2_17_x86_64.manylinux2014_x86_64.whl (246 kB)\n",
            "\u001b[2K     \u001b[90m━━━━━━━━━━━━━━━━━━━━━━━━━━━━━━━━━━━━━━━\u001b[0m \u001b[32m247.0/247.0 kB\u001b[0m \u001b[31m7.8 MB/s\u001b[0m eta \u001b[36m0:00:00\u001b[0m\n",
            "\u001b[?25hRequirement already satisfied: pytz in /usr/local/lib/python3.10/dist-packages (from datetime) (2022.7.1)\n",
            "Requirement already satisfied: setuptools in /usr/local/lib/python3.10/dist-packages (from zope.interface->datetime) (67.7.2)\n",
            "Installing collected packages: zope.interface, datetime\n",
            "Successfully installed datetime-5.1 zope.interface-6.0\n"
          ]
        }
      ]
    },
    {
      "cell_type": "code",
      "source": [
        "pip install numpy"
      ],
      "metadata": {
        "id": "SgnmLfym-vE4",
        "outputId": "1aa0bf3b-43e0-41eb-8294-151de96b703c",
        "colab": {
          "base_uri": "https://localhost:8080/"
        }
      },
      "id": "SgnmLfym-vE4",
      "execution_count": 3,
      "outputs": [
        {
          "output_type": "stream",
          "name": "stdout",
          "text": [
            "Looking in indexes: https://pypi.org/simple, https://us-python.pkg.dev/colab-wheels/public/simple/\n",
            "Requirement already satisfied: numpy in /usr/local/lib/python3.10/dist-packages (1.22.4)\n"
          ]
        }
      ]
    },
    {
      "cell_type": "code",
      "source": [
        "import geopandas as gpd\n",
        "import pandas as pd\n",
        "import numpy as np\n",
        "from datetime import datetime\n",
        "import matplotlib.pyplot as plt\n",
        "%matplotlib inline"
      ],
      "metadata": {
        "id": "O1snWJw5Nm8f"
      },
      "id": "O1snWJw5Nm8f",
      "execution_count": 4,
      "outputs": []
    },
    {
      "cell_type": "code",
      "source": [
        "url = \"https://data.geo.admin.ch/ch.bfe.elektrische-anlagen_ueber_36/gpkg/2056/ElektrischeAnlagenNennspannungUeber36kV_V1.gpkg\"\n",
        "dfLeitung = gpd.read_file(url, driver=\"GPKG\", layer='ElektrischeAnlagenNennspannungUeber36kV_V1_ElektrischeAnlagen_Leitung')\n",
        "dfStation = gpd.read_file(url, driver=\"GPKG\", layer='ElektrischeAnlagenNennspannungUeber36kV_V1_ElektrischeAnlagen_Station')\n",
        "dfMast = gpd.read_file(url, driver=\"GPKG\", layer='ElektrischeAnlagenNennspannungUeber36kV_V1_ElektrischeAnlagen_Mast')"
      ],
      "metadata": {
        "id": "-xzTRhr-Nd4g",
        "colab": {
          "base_uri": "https://localhost:8080/"
        },
        "outputId": "ec25d9d9-bda1-4749-d379-1a676be2de51"
      },
      "id": "-xzTRhr-Nd4g",
      "execution_count": 5,
      "outputs": [
        {
          "output_type": "stream",
          "name": "stderr",
          "text": [
            "WARNING:fiona._env:File /vsimem/425a219b36644c7eabaf3a2bd9688968 has GPKG application_id, but non conformant file extension\n",
            "WARNING:fiona._env:File /vsimem/80ec76a1235146f2af419f1f8ab6b383 has GPKG application_id, but non conformant file extension\n",
            "WARNING:fiona._env:File /vsimem/5e75a57af6c4490e8ba0a633f9660d23 has GPKG application_id, but non conformant file extension\n"
          ]
        }
      ]
    },
    {
      "cell_type": "markdown",
      "source": [
        "## Kennzahlen Leitungen"
      ],
      "metadata": {
        "id": "PRptTEzMFt3o"
      },
      "id": "PRptTEzMFt3o"
    },
    {
      "cell_type": "code",
      "source": [
        "# Länge der Leitungen berechnen und nach Spannung aufsummieren\n",
        "dfLeitung[\"Laenge\"] = dfLeitung.length\n",
        "dfLeitungKPI = dfLeitung.groupby(['StromnetzTyp','Spannung','LeitungTyp'])['Laenge'].sum()\n",
        "dfLeitungKPI = dfLeitungKPI.to_frame().reset_index()\n",
        "dfLeitungKPI['Datum'] = datetime.today().strftime(\"%Y-%m-%d\")"
      ],
      "metadata": {
        "id": "A5dxmBTfvY3u"
      },
      "id": "A5dxmBTfvY3u",
      "execution_count": 6,
      "outputs": []
    },
    {
      "cell_type": "code",
      "source": [
        "#Speichern\n",
        "dfLeitungKPI.to_csv(\"Kennzahlen_Leitungen.csv\", header=False, index=False, mode='a')"
      ],
      "metadata": {
        "id": "Dt1dONLBRkNV"
      },
      "id": "Dt1dONLBRkNV",
      "execution_count": 7,
      "outputs": []
    },
    {
      "cell_type": "markdown",
      "source": [
        "## Kennzahlen Masten"
      ],
      "metadata": {
        "id": "pH1oWHxLGONC"
      },
      "id": "pH1oWHxLGONC"
    },
    {
      "cell_type": "code",
      "source": [
        "dfMastKPI = dfMast.groupby(['StromnetzTyp','MastTyp'])['xtf_id'].count().reset_index()\n",
        "dfMastKPI = dfMastKPI.rename(columns={'xtf_id':'Anzahl'})\n",
        "dfMastKPI['Datum'] = datetime.today().strftime(\"%Y-%m-%d\")"
      ],
      "metadata": {
        "id": "cIqj0wiVGSCa"
      },
      "id": "cIqj0wiVGSCa",
      "execution_count": 8,
      "outputs": []
    },
    {
      "cell_type": "code",
      "source": [
        "#Speichern\n",
        "dfMastKPI.to_csv(\"Kennzahlen_Masten.csv\", header=True, index=False, mode='a')"
      ],
      "metadata": {
        "id": "N-dEcwdHGTgn"
      },
      "id": "N-dEcwdHGTgn",
      "execution_count": 9,
      "outputs": []
    },
    {
      "cell_type": "markdown",
      "source": [
        "## Kennzahlen Stationen"
      ],
      "metadata": {
        "id": "GGnwlH5EJX4A"
      },
      "id": "GGnwlH5EJX4A"
    },
    {
      "cell_type": "code",
      "source": [
        "dfStationKPI = dfStation.groupby(['StromnetzTyp','StationTyp'])['xtf_id'].count().reset_index()\n",
        "dfStationKPI = dfStationKPI.rename(columns={'xtf_id':'Anzahl'})\n",
        "dfStationKPI['Datum'] = datetime.today().strftime(\"%Y-%m-%d\")"
      ],
      "metadata": {
        "id": "Xa3Vnx8NGvEI"
      },
      "id": "Xa3Vnx8NGvEI",
      "execution_count": 10,
      "outputs": []
    },
    {
      "cell_type": "code",
      "source": [
        "#Speichern\n",
        "dfStationKPI.to_csv(\"Kennzahlen_Stationen.csv\", header=True, index=False, mode='a')"
      ],
      "metadata": {
        "id": "V1XOLqR3Jo5Q"
      },
      "id": "V1XOLqR3Jo5Q",
      "execution_count": 11,
      "outputs": []
    },
    {
      "cell_type": "markdown",
      "source": [
        "## Kennzahlen Werke"
      ],
      "metadata": {
        "id": "be5rdoCHR_Bs"
      },
      "id": "be5rdoCHR_Bs"
    },
    {
      "cell_type": "code",
      "source": [
        "# Leitungslänge pro Werk ableiten.\n",
        "dfWerkeLeitung = dfLeitung.groupby(['Eigentuemer','LeitungTyp'])['Laenge'].sum()\n",
        "dfWerkeLeitung = dfWerkeLeitung.to_frame().reset_index()\n",
        "dfWerkeLeitung = pd.pivot(dfWerkeLeitung,index='Eigentuemer',columns='LeitungTyp')\n",
        "dfWerkeLeitung = dfWerkeLeitung.reset_index()\n",
        "dfWerkeLeitung.columns = dfWerkeLeitung.columns.droplevel()\n",
        "dfWerkeLeitung.columns = ['Werk','Freileitung','Kabelleitung']\n",
        "dfWerkeLeitung = dfWerkeLeitung.fillna(0)\n",
        "dfWerkeLeitung['LeitungGesamt']= dfWerkeLeitung['Kabelleitung']+dfWerkeLeitung['Freileitung']"
      ],
      "metadata": {
        "id": "4nqMeP4onPy_"
      },
      "id": "4nqMeP4onPy_",
      "execution_count": 12,
      "outputs": []
    },
    {
      "cell_type": "code",
      "source": [
        "# Anzahl Masten pro Werk ableiten.\n",
        "dfWerkeMast = dfMast\n",
        "dfWerkeMast['Werk'] = dfWerkeMast['Eigentuemer']\n",
        "dfWerkeMast = dfWerkeMast.groupby(['Werk'])['xtf_id'].count().reset_index()\n",
        "dfWerkeMast = dfWerkeMast.rename(columns={'xtf_id':'AnzahlMasten'})"
      ],
      "metadata": {
        "id": "PGtabzpdUiYk"
      },
      "id": "PGtabzpdUiYk",
      "execution_count": 13,
      "outputs": []
    },
    {
      "cell_type": "code",
      "source": [
        "# Anzahl Stationen pro Werk ableiten.\n",
        "dfWerkeStation = dfStation\n",
        "dfWerkeStation['Werk'] = dfWerkeStation['Eigentuemer']\n",
        "dfWerkeStation = dfWerkeStation.groupby(['Werk'])['xtf_id'].count().reset_index()\n",
        "dfWerkeStation = dfWerkeStation.rename(columns={'xtf_id':'AnzahlStationen'})"
      ],
      "metadata": {
        "id": "ol2pE__CUjgk"
      },
      "id": "ol2pE__CUjgk",
      "execution_count": 14,
      "outputs": []
    },
    {
      "cell_type": "code",
      "source": [
        "# Zusammenführen\n",
        "dfWerke = pd.merge(dfWerkeLeitung, dfWerkeMast, how=\"left\", on=[\"Werk\"])\n",
        "dfWerke = pd.merge(dfWerke, dfWerkeStation, how=\"left\", on=[\"Werk\"])\n",
        "dfWerke = dfWerke.fillna(0)\n",
        "dfWerke['Datum'] = datetime.today().strftime(\"%Y-%m-%d\")"
      ],
      "metadata": {
        "id": "h-zBkvApU5g9"
      },
      "id": "h-zBkvApU5g9",
      "execution_count": 15,
      "outputs": []
    },
    {
      "cell_type": "code",
      "source": [
        "#Speichern\n",
        "dfWerke.to_csv(\"Kennzahlen_Werke.csv\", header=True, index=False, mode='a')"
      ],
      "metadata": {
        "id": "BtD90pTTU6Rr"
      },
      "id": "BtD90pTTU6Rr",
      "execution_count": 16,
      "outputs": []
    },
    {
      "cell_type": "markdown",
      "source": [
        "## Kennzahlen für Visualisierung in Storymap ableiten"
      ],
      "metadata": {
        "id": "StNwzcm9AaFu"
      },
      "id": "StNwzcm9AaFu"
    },
    {
      "cell_type": "code",
      "source": [
        "dfLeitungStorymap = dfLeitungKPI\n",
        "\n",
        "# Gewünschte Kategorien definieren\n",
        "Bedingungen = [dfLeitungStorymap['Spannung']=='S380kV',\n",
        "               dfLeitungStorymap['Spannung']=='S220kV',\n",
        "               (dfLeitungStorymap['StromnetzTyp']=='Allgemeinstrom') & (dfLeitungStorymap['Spannung'].isin(['S150kV','S132kV','S130kV','S125kV','S110kV'])),\n",
        "               (dfLeitungStorymap['StromnetzTyp']=='Allgemeinstrom') & (dfLeitungStorymap['Spannung'].isin(['S66kV','S65kV','S60kV','S50kV','S36kV','Andere'])),\n",
        "               (dfLeitungStorymap['StromnetzTyp']=='Bahnstrom') & (dfLeitungStorymap['Spannung']=='S132kV'),\n",
        "               (dfLeitungStorymap['StromnetzTyp']=='Bahnstrom') & (dfLeitungStorymap['Spannung'].isin(['S66kV','Andere']))\n",
        "               ]\n",
        "\n",
        "Spannungen = ['s380','s220','s150','s66','s132B','s66B']\n",
        "\n",
        "# Neues Attribut \"Kategorie\" erstellen welches für alle Objekte die gewünschte Kategorie bestimmt\n",
        "dfLeitungStorymap['Kategorie'] =  np.select(Bedingungen,Spannungen)"
      ],
      "metadata": {
        "id": "pTRV_22WvXn2"
      },
      "id": "pTRV_22WvXn2",
      "execution_count": 17,
      "outputs": []
    },
    {
      "cell_type": "code",
      "source": [
        "# Dataframe für Totale Länge vorbereiten\n",
        "dfTotal = dfLeitungStorymap.groupby('Kategorie').sum(numeric_only=True).reset_index()\n",
        "dfTotal['Kategorie'] = 'Total_'+ dfTotal['Kategorie']\n",
        "dfTotal = dfTotal.transpose()\n",
        "dfTotal.columns = dfTotal.iloc[0]\n",
        "dfTotal = dfTotal[1:]\n",
        "dfTotal['Datum'] = datetime.today().strftime(\"%Y-%m-%d\")"
      ],
      "metadata": {
        "id": "LcuJ0bh_vkRl"
      },
      "id": "LcuJ0bh_vkRl",
      "execution_count": 18,
      "outputs": []
    },
    {
      "cell_type": "code",
      "source": [
        "# Dataframe für Länge von Kabel vorbereiten\n",
        "dfKabel = dfLeitungStorymap.loc[dfLeitungStorymap['LeitungTyp']=='Kabelleitung'].groupby('Kategorie').sum(numeric_only=True).reset_index()\n",
        "dfKabel['Kategorie'] = 'Kabel_'+ dfKabel['Kategorie']\n",
        "dfKabel = dfKabel.transpose()\n",
        "dfKabel.columns = dfKabel.iloc[0]\n",
        "dfKabel = dfKabel[1:]\n",
        "dfKabel['Datum'] = datetime.today().strftime(\"%Y-%m-%d\")"
      ],
      "metadata": {
        "id": "kCBR3i-ZvkPF"
      },
      "id": "kCBR3i-ZvkPF",
      "execution_count": 19,
      "outputs": []
    },
    {
      "cell_type": "code",
      "source": [
        "# Zusammenführen\n",
        "dfStorymap = pd.merge(dfTotal, dfKabel, how='left', on=[\"Datum\"])"
      ],
      "metadata": {
        "id": "HegE9FV7XF3Z"
      },
      "id": "HegE9FV7XF3Z",
      "execution_count": 20,
      "outputs": []
    },
    {
      "cell_type": "code",
      "source": [
        "#Temporäre Platzhalter für die Bahnstromkategorien erstellen. kann später gelöscht werden!\n",
        "dfStorymap['Total_s132B'] = 1\n",
        "dfStorymap['Kabel_s132B'] = 1\n",
        "dfStorymap['Total_s66B'] = 1\n",
        "dfStorymap['Kabel_s66B'] = 1\n",
        "dfStorymap"
      ],
      "metadata": {
        "colab": {
          "base_uri": "https://localhost:8080/",
          "height": 81
        },
        "id": "K-SEPYHuaE8e",
        "outputId": "981cb2c6-3ee5-4674-d08c-1b18825f1516"
      },
      "id": "K-SEPYHuaE8e",
      "execution_count": 21,
      "outputs": [
        {
          "output_type": "execute_result",
          "data": {
            "text/plain": [
              "Kategorie     Total_s150      Total_s220      Total_s380       Total_s66  \\\n",
              "0          2349055.72573  4857296.789805  1915187.111824  4925036.313929   \n",
              "\n",
              "Kategorie       Datum     Kabel_s150    Kabel_s220    Kabel_s380  \\\n",
              "0          2023-06-21  894904.391234  25013.209003  22044.578551   \n",
              "\n",
              "Kategorie      Kabel_s66  Total_s132B  Kabel_s132B  Total_s66B  Kabel_s66B  \n",
              "0          752335.000308            1            1           1           1  "
            ],
            "text/html": [
              "\n",
              "  <div id=\"df-2684be61-ee83-47dc-99d7-3e1d2483dba3\">\n",
              "    <div class=\"colab-df-container\">\n",
              "      <div>\n",
              "<style scoped>\n",
              "    .dataframe tbody tr th:only-of-type {\n",
              "        vertical-align: middle;\n",
              "    }\n",
              "\n",
              "    .dataframe tbody tr th {\n",
              "        vertical-align: top;\n",
              "    }\n",
              "\n",
              "    .dataframe thead th {\n",
              "        text-align: right;\n",
              "    }\n",
              "</style>\n",
              "<table border=\"1\" class=\"dataframe\">\n",
              "  <thead>\n",
              "    <tr style=\"text-align: right;\">\n",
              "      <th>Kategorie</th>\n",
              "      <th>Total_s150</th>\n",
              "      <th>Total_s220</th>\n",
              "      <th>Total_s380</th>\n",
              "      <th>Total_s66</th>\n",
              "      <th>Datum</th>\n",
              "      <th>Kabel_s150</th>\n",
              "      <th>Kabel_s220</th>\n",
              "      <th>Kabel_s380</th>\n",
              "      <th>Kabel_s66</th>\n",
              "      <th>Total_s132B</th>\n",
              "      <th>Kabel_s132B</th>\n",
              "      <th>Total_s66B</th>\n",
              "      <th>Kabel_s66B</th>\n",
              "    </tr>\n",
              "  </thead>\n",
              "  <tbody>\n",
              "    <tr>\n",
              "      <th>0</th>\n",
              "      <td>2349055.72573</td>\n",
              "      <td>4857296.789805</td>\n",
              "      <td>1915187.111824</td>\n",
              "      <td>4925036.313929</td>\n",
              "      <td>2023-06-21</td>\n",
              "      <td>894904.391234</td>\n",
              "      <td>25013.209003</td>\n",
              "      <td>22044.578551</td>\n",
              "      <td>752335.000308</td>\n",
              "      <td>1</td>\n",
              "      <td>1</td>\n",
              "      <td>1</td>\n",
              "      <td>1</td>\n",
              "    </tr>\n",
              "  </tbody>\n",
              "</table>\n",
              "</div>\n",
              "      <button class=\"colab-df-convert\" onclick=\"convertToInteractive('df-2684be61-ee83-47dc-99d7-3e1d2483dba3')\"\n",
              "              title=\"Convert this dataframe to an interactive table.\"\n",
              "              style=\"display:none;\">\n",
              "        \n",
              "  <svg xmlns=\"http://www.w3.org/2000/svg\" height=\"24px\"viewBox=\"0 0 24 24\"\n",
              "       width=\"24px\">\n",
              "    <path d=\"M0 0h24v24H0V0z\" fill=\"none\"/>\n",
              "    <path d=\"M18.56 5.44l.94 2.06.94-2.06 2.06-.94-2.06-.94-.94-2.06-.94 2.06-2.06.94zm-11 1L8.5 8.5l.94-2.06 2.06-.94-2.06-.94L8.5 2.5l-.94 2.06-2.06.94zm10 10l.94 2.06.94-2.06 2.06-.94-2.06-.94-.94-2.06-.94 2.06-2.06.94z\"/><path d=\"M17.41 7.96l-1.37-1.37c-.4-.4-.92-.59-1.43-.59-.52 0-1.04.2-1.43.59L10.3 9.45l-7.72 7.72c-.78.78-.78 2.05 0 2.83L4 21.41c.39.39.9.59 1.41.59.51 0 1.02-.2 1.41-.59l7.78-7.78 2.81-2.81c.8-.78.8-2.07 0-2.86zM5.41 20L4 18.59l7.72-7.72 1.47 1.35L5.41 20z\"/>\n",
              "  </svg>\n",
              "      </button>\n",
              "      \n",
              "  <style>\n",
              "    .colab-df-container {\n",
              "      display:flex;\n",
              "      flex-wrap:wrap;\n",
              "      gap: 12px;\n",
              "    }\n",
              "\n",
              "    .colab-df-convert {\n",
              "      background-color: #E8F0FE;\n",
              "      border: none;\n",
              "      border-radius: 50%;\n",
              "      cursor: pointer;\n",
              "      display: none;\n",
              "      fill: #1967D2;\n",
              "      height: 32px;\n",
              "      padding: 0 0 0 0;\n",
              "      width: 32px;\n",
              "    }\n",
              "\n",
              "    .colab-df-convert:hover {\n",
              "      background-color: #E2EBFA;\n",
              "      box-shadow: 0px 1px 2px rgba(60, 64, 67, 0.3), 0px 1px 3px 1px rgba(60, 64, 67, 0.15);\n",
              "      fill: #174EA6;\n",
              "    }\n",
              "\n",
              "    [theme=dark] .colab-df-convert {\n",
              "      background-color: #3B4455;\n",
              "      fill: #D2E3FC;\n",
              "    }\n",
              "\n",
              "    [theme=dark] .colab-df-convert:hover {\n",
              "      background-color: #434B5C;\n",
              "      box-shadow: 0px 1px 3px 1px rgba(0, 0, 0, 0.15);\n",
              "      filter: drop-shadow(0px 1px 2px rgba(0, 0, 0, 0.3));\n",
              "      fill: #FFFFFF;\n",
              "    }\n",
              "  </style>\n",
              "\n",
              "      <script>\n",
              "        const buttonEl =\n",
              "          document.querySelector('#df-2684be61-ee83-47dc-99d7-3e1d2483dba3 button.colab-df-convert');\n",
              "        buttonEl.style.display =\n",
              "          google.colab.kernel.accessAllowed ? 'block' : 'none';\n",
              "\n",
              "        async function convertToInteractive(key) {\n",
              "          const element = document.querySelector('#df-2684be61-ee83-47dc-99d7-3e1d2483dba3');\n",
              "          const dataTable =\n",
              "            await google.colab.kernel.invokeFunction('convertToInteractive',\n",
              "                                                     [key], {});\n",
              "          if (!dataTable) return;\n",
              "\n",
              "          const docLinkHtml = 'Like what you see? Visit the ' +\n",
              "            '<a target=\"_blank\" href=https://colab.research.google.com/notebooks/data_table.ipynb>data table notebook</a>'\n",
              "            + ' to learn more about interactive tables.';\n",
              "          element.innerHTML = '';\n",
              "          dataTable['output_type'] = 'display_data';\n",
              "          await google.colab.output.renderOutput(dataTable, element);\n",
              "          const docLink = document.createElement('div');\n",
              "          docLink.innerHTML = docLinkHtml;\n",
              "          element.appendChild(docLink);\n",
              "        }\n",
              "      </script>\n",
              "    </div>\n",
              "  </div>\n",
              "  "
            ]
          },
          "metadata": {},
          "execution_count": 21
        }
      ]
    },
    {
      "cell_type": "code",
      "source": [
        "#Speichern\n",
        "dfStorymap.to_csv(\"Kennzahlen_Storymap.csv\", header=True, index=False, mode='a')"
      ],
      "metadata": {
        "id": "oyMD6TWfXYfj"
      },
      "id": "oyMD6TWfXYfj",
      "execution_count": 22,
      "outputs": []
    },
    {
      "cell_type": "code",
      "source": [
        "#Daten für Visualisierung laden\n",
        "df = pd.read_csv(\"Kennzahlen_Werke.csv\", parse_dates=['Datum'])\n",
        "dfVis = df.loc[df.Datum == datetime.today().strftime(\"%Y-%m-%d\")]\n",
        "dfVis['Freileitung'] = dfVis['Freileitung']/1000\n",
        "dfVis['Kabelleitung'] = dfVis['Kabelleitung']/1000\n",
        "dfVis['LeitungGesamt'] = dfVis['LeitungGesamt']/1000\n",
        "dfVis['Freileitung'] = dfVis['Freileitung'].round(0)\n",
        "dfVis['Kabelleitung'] = dfVis['Kabelleitung'].round(0)\n",
        "dfVis['LeitungGesamt'] = dfVis['LeitungGesamt'].round(0)\n",
        "dfVis"
      ],
      "metadata": {
        "id": "h-iOxBcgYbVg",
        "colab": {
          "base_uri": "https://localhost:8080/",
          "height": 238
        },
        "outputId": "38a27ed4-22b0-4760-8a91-cfab06233d46"
      },
      "id": "h-iOxBcgYbVg",
      "execution_count": 23,
      "outputs": [
        {
          "output_type": "execute_result",
          "data": {
            "text/plain": [
              "           Werk  Freileitung  Kabelleitung  LeitungGesamt  AnzahlMasten  \\\n",
              "0           AEK          0.0          10.0           10.0           0.0   \n",
              "1  Axpo Grid AG       1824.0         418.0         2242.0        7010.0   \n",
              "2           IBC         10.0          36.0           46.0          25.0   \n",
              "3           IWB          0.0        1137.0         1137.0           0.0   \n",
              "4           SEG         16.0           8.0           23.0         339.0   \n",
              "5     Swissgrid      10502.0          86.0        10588.0       11975.0   \n",
              "\n",
              "   AnzahlStationen      Datum  \n",
              "0              0.0 2023-06-21  \n",
              "1             37.0 2023-06-21  \n",
              "2              4.0 2023-06-21  \n",
              "3            145.0 2023-06-21  \n",
              "4              3.0 2023-06-21  \n",
              "5            134.0 2023-06-21  "
            ],
            "text/html": [
              "\n",
              "  <div id=\"df-8567bf3b-7fb5-43fc-9af7-d67f44209cc4\">\n",
              "    <div class=\"colab-df-container\">\n",
              "      <div>\n",
              "<style scoped>\n",
              "    .dataframe tbody tr th:only-of-type {\n",
              "        vertical-align: middle;\n",
              "    }\n",
              "\n",
              "    .dataframe tbody tr th {\n",
              "        vertical-align: top;\n",
              "    }\n",
              "\n",
              "    .dataframe thead th {\n",
              "        text-align: right;\n",
              "    }\n",
              "</style>\n",
              "<table border=\"1\" class=\"dataframe\">\n",
              "  <thead>\n",
              "    <tr style=\"text-align: right;\">\n",
              "      <th></th>\n",
              "      <th>Werk</th>\n",
              "      <th>Freileitung</th>\n",
              "      <th>Kabelleitung</th>\n",
              "      <th>LeitungGesamt</th>\n",
              "      <th>AnzahlMasten</th>\n",
              "      <th>AnzahlStationen</th>\n",
              "      <th>Datum</th>\n",
              "    </tr>\n",
              "  </thead>\n",
              "  <tbody>\n",
              "    <tr>\n",
              "      <th>0</th>\n",
              "      <td>AEK</td>\n",
              "      <td>0.0</td>\n",
              "      <td>10.0</td>\n",
              "      <td>10.0</td>\n",
              "      <td>0.0</td>\n",
              "      <td>0.0</td>\n",
              "      <td>2023-06-21</td>\n",
              "    </tr>\n",
              "    <tr>\n",
              "      <th>1</th>\n",
              "      <td>Axpo Grid AG</td>\n",
              "      <td>1824.0</td>\n",
              "      <td>418.0</td>\n",
              "      <td>2242.0</td>\n",
              "      <td>7010.0</td>\n",
              "      <td>37.0</td>\n",
              "      <td>2023-06-21</td>\n",
              "    </tr>\n",
              "    <tr>\n",
              "      <th>2</th>\n",
              "      <td>IBC</td>\n",
              "      <td>10.0</td>\n",
              "      <td>36.0</td>\n",
              "      <td>46.0</td>\n",
              "      <td>25.0</td>\n",
              "      <td>4.0</td>\n",
              "      <td>2023-06-21</td>\n",
              "    </tr>\n",
              "    <tr>\n",
              "      <th>3</th>\n",
              "      <td>IWB</td>\n",
              "      <td>0.0</td>\n",
              "      <td>1137.0</td>\n",
              "      <td>1137.0</td>\n",
              "      <td>0.0</td>\n",
              "      <td>145.0</td>\n",
              "      <td>2023-06-21</td>\n",
              "    </tr>\n",
              "    <tr>\n",
              "      <th>4</th>\n",
              "      <td>SEG</td>\n",
              "      <td>16.0</td>\n",
              "      <td>8.0</td>\n",
              "      <td>23.0</td>\n",
              "      <td>339.0</td>\n",
              "      <td>3.0</td>\n",
              "      <td>2023-06-21</td>\n",
              "    </tr>\n",
              "    <tr>\n",
              "      <th>5</th>\n",
              "      <td>Swissgrid</td>\n",
              "      <td>10502.0</td>\n",
              "      <td>86.0</td>\n",
              "      <td>10588.0</td>\n",
              "      <td>11975.0</td>\n",
              "      <td>134.0</td>\n",
              "      <td>2023-06-21</td>\n",
              "    </tr>\n",
              "  </tbody>\n",
              "</table>\n",
              "</div>\n",
              "      <button class=\"colab-df-convert\" onclick=\"convertToInteractive('df-8567bf3b-7fb5-43fc-9af7-d67f44209cc4')\"\n",
              "              title=\"Convert this dataframe to an interactive table.\"\n",
              "              style=\"display:none;\">\n",
              "        \n",
              "  <svg xmlns=\"http://www.w3.org/2000/svg\" height=\"24px\"viewBox=\"0 0 24 24\"\n",
              "       width=\"24px\">\n",
              "    <path d=\"M0 0h24v24H0V0z\" fill=\"none\"/>\n",
              "    <path d=\"M18.56 5.44l.94 2.06.94-2.06 2.06-.94-2.06-.94-.94-2.06-.94 2.06-2.06.94zm-11 1L8.5 8.5l.94-2.06 2.06-.94-2.06-.94L8.5 2.5l-.94 2.06-2.06.94zm10 10l.94 2.06.94-2.06 2.06-.94-2.06-.94-.94-2.06-.94 2.06-2.06.94z\"/><path d=\"M17.41 7.96l-1.37-1.37c-.4-.4-.92-.59-1.43-.59-.52 0-1.04.2-1.43.59L10.3 9.45l-7.72 7.72c-.78.78-.78 2.05 0 2.83L4 21.41c.39.39.9.59 1.41.59.51 0 1.02-.2 1.41-.59l7.78-7.78 2.81-2.81c.8-.78.8-2.07 0-2.86zM5.41 20L4 18.59l7.72-7.72 1.47 1.35L5.41 20z\"/>\n",
              "  </svg>\n",
              "      </button>\n",
              "      \n",
              "  <style>\n",
              "    .colab-df-container {\n",
              "      display:flex;\n",
              "      flex-wrap:wrap;\n",
              "      gap: 12px;\n",
              "    }\n",
              "\n",
              "    .colab-df-convert {\n",
              "      background-color: #E8F0FE;\n",
              "      border: none;\n",
              "      border-radius: 50%;\n",
              "      cursor: pointer;\n",
              "      display: none;\n",
              "      fill: #1967D2;\n",
              "      height: 32px;\n",
              "      padding: 0 0 0 0;\n",
              "      width: 32px;\n",
              "    }\n",
              "\n",
              "    .colab-df-convert:hover {\n",
              "      background-color: #E2EBFA;\n",
              "      box-shadow: 0px 1px 2px rgba(60, 64, 67, 0.3), 0px 1px 3px 1px rgba(60, 64, 67, 0.15);\n",
              "      fill: #174EA6;\n",
              "    }\n",
              "\n",
              "    [theme=dark] .colab-df-convert {\n",
              "      background-color: #3B4455;\n",
              "      fill: #D2E3FC;\n",
              "    }\n",
              "\n",
              "    [theme=dark] .colab-df-convert:hover {\n",
              "      background-color: #434B5C;\n",
              "      box-shadow: 0px 1px 3px 1px rgba(0, 0, 0, 0.15);\n",
              "      filter: drop-shadow(0px 1px 2px rgba(0, 0, 0, 0.3));\n",
              "      fill: #FFFFFF;\n",
              "    }\n",
              "  </style>\n",
              "\n",
              "      <script>\n",
              "        const buttonEl =\n",
              "          document.querySelector('#df-8567bf3b-7fb5-43fc-9af7-d67f44209cc4 button.colab-df-convert');\n",
              "        buttonEl.style.display =\n",
              "          google.colab.kernel.accessAllowed ? 'block' : 'none';\n",
              "\n",
              "        async function convertToInteractive(key) {\n",
              "          const element = document.querySelector('#df-8567bf3b-7fb5-43fc-9af7-d67f44209cc4');\n",
              "          const dataTable =\n",
              "            await google.colab.kernel.invokeFunction('convertToInteractive',\n",
              "                                                     [key], {});\n",
              "          if (!dataTable) return;\n",
              "\n",
              "          const docLinkHtml = 'Like what you see? Visit the ' +\n",
              "            '<a target=\"_blank\" href=https://colab.research.google.com/notebooks/data_table.ipynb>data table notebook</a>'\n",
              "            + ' to learn more about interactive tables.';\n",
              "          element.innerHTML = '';\n",
              "          dataTable['output_type'] = 'display_data';\n",
              "          await google.colab.output.renderOutput(dataTable, element);\n",
              "          const docLink = document.createElement('div');\n",
              "          docLink.innerHTML = docLinkHtml;\n",
              "          element.appendChild(docLink);\n",
              "        }\n",
              "      </script>\n",
              "    </div>\n",
              "  </div>\n",
              "  "
            ]
          },
          "metadata": {},
          "execution_count": 23
        }
      ]
    },
    {
      "cell_type": "code",
      "source": [
        "#Barchart Anzahl Masten\n",
        "dfVis = dfVis.sort_values('AnzahlMasten',ascending=False)\n",
        "fig, ax = plt.subplots()\n",
        "ax.bar(dfVis['Werk'], dfVis['AnzahlMasten'])\n",
        "ax.set_title('Anzahl Masten')\n",
        "plt.xticks(rotation = 90)\n",
        "plt.ylabel(\"Anzahl Masten\")\n",
        "ax.bar_label(ax.containers[0], label_type='edge')\n",
        "plt.savefig('AnzahlMasten.png',bbox_inches='tight')\n",
        "plt.close()"
      ],
      "metadata": {
        "id": "ufMSOqQ40J0t"
      },
      "id": "ufMSOqQ40J0t",
      "execution_count": 24,
      "outputs": []
    },
    {
      "cell_type": "code",
      "source": [
        "#Barchart Anzahl Stationen\n",
        "dfVis = dfVis.sort_values('AnzahlStationen',ascending=False)\n",
        "fig, ax = plt.subplots()\n",
        "ax.bar(dfVis['Werk'], dfVis['AnzahlStationen'])\n",
        "ax.set_title('Anzahl Stationen')\n",
        "plt.xticks(rotation = 90)\n",
        "plt.ylabel(\"Anzahl Stationen\")\n",
        "ax.bar_label(ax.containers[0], label_type='edge')\n",
        "plt.savefig('AnzahlStationen.png',bbox_inches='tight')\n",
        "plt.close()"
      ],
      "metadata": {
        "id": "m-Ey3roy2Lbx"
      },
      "id": "m-Ey3roy2Lbx",
      "execution_count": 25,
      "outputs": []
    },
    {
      "cell_type": "code",
      "source": [
        "#Barchart Länge Leitungen\n",
        "dfVis = dfVis.sort_values('LeitungGesamt',ascending=False)\n",
        "\n",
        "#bar chart properties\n",
        "x = np.arange(len(dfVis['Werk']))\n",
        "width = 0.3\n",
        "\n",
        "#draw grouped bar chart\n",
        "fig, ax = plt.subplots()\n",
        "bar1 = ax.bar(x - width/2, dfVis['Freileitung'], width, label='Freileitung')\n",
        "bar2 = ax.bar(x + width/2, dfVis['Kabelleitung'], width, label='Kabelleitung')\n",
        "\n",
        "#ax.set_xlabel('Year')\n",
        "ax.set_ylabel('Länge (km)')\n",
        "ax.set_title('Länge der Leitungen')\n",
        "ax.set_xticks(x, dfVis['Werk'])\n",
        "ax.legend()\n",
        "\n",
        "#setting bar labels\n",
        "ax.bar_label(bar1)\n",
        "ax.bar_label(bar2)\n",
        "plt.xticks(rotation = 90)\n",
        "\n",
        "plt.savefig('LaengeLeitungen.png',bbox_inches='tight')\n",
        "plt.close()"
      ],
      "metadata": {
        "id": "P6YydczLQ9FF",
        "outputId": "779383e9-52b8-47a1-c94b-773afdca8e01",
        "colab": {
          "base_uri": "https://localhost:8080/",
          "height": 653
        }
      },
      "id": "P6YydczLQ9FF",
      "execution_count": 35,
      "outputs": [
        {
          "output_type": "execute_result",
          "data": {
            "text/plain": [
              "(array([0, 1, 2, 3, 4, 5]),\n",
              " [Text(0, 0, 'Swissgrid'),\n",
              "  Text(1, 0, 'Axpo Grid AG'),\n",
              "  Text(2, 0, 'IWB'),\n",
              "  Text(3, 0, 'IBC'),\n",
              "  Text(4, 0, 'SEG'),\n",
              "  Text(5, 0, 'AEK')])"
            ]
          },
          "metadata": {},
          "execution_count": 35
        },
        {
          "output_type": "display_data",
          "data": {
            "text/plain": [
              "<Figure size 640x480 with 1 Axes>"
            ],
            "image/png": "[encoded data removed]"
          },
          "metadata": {}
        }
      ]
    }
  ],
  "metadata": {
    "kernelspec": {
      "display_name": "Python 3",
      "language": "python",
      "name": "python3"
    },
    "language_info": {
      "codemirror_mode": {
        "name": "ipython",
        "version": 3
      },
      "file_extension": ".py",
      "mimetype": "text/x-python",
      "name": "python",
      "nbconvert_exporter": "python",
      "pygments_lexer": "ipython3",
      "version": "3.7.11"
    },
    "colab": {
      "provenance": [],
      "include_colab_link": true
    }
  },
  "nbformat": 4,
  "nbformat_minor": 5
}