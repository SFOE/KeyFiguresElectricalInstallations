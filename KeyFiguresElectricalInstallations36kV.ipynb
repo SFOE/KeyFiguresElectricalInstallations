{
  "cells": [
    {
      "cell_type": "markdown",
      "metadata": {
        "id": "view-in-github",
        "colab_type": "text"
      },
      "source": [
        "<a href=\"https://colab.research.google.com/github/nrohrbach/KeyFiguresElectricalInstallations/blob/main/KeyFiguresElectricalInstallations36kV.ipynb\" target=\"_parent\"><img src=\"https://colab.research.google.com/assets/colab-badge.svg\" alt=\"Open In Colab\"/></a>"
      ]
    },
    {
      "cell_type": "markdown",
      "source": [
        "# Kennzahlen Geobasisdatensatz Elektrische Anlagen mit einer Nennspannung von über 36kV\n",
        "\n",
        "---\n",
        "\n",
        "Notebook um Kennzahlen des Geobasisdatensatzes \"Elektrische Anlagen mit einer Nennspannung von über 36kV abzuleiten.\n",
        "\n",
        "\n",
        "**Offene Fragen**\n",
        "\n",
        "*   Sollen bei Leitungen die Erdungen auch gezählt werden oder nicht?\n",
        "*   Hat Swissgrid auch Stationen der Netzebene 4?\n",
        "\n",
        "**ToDo**\n",
        "\n",
        "*   Kennzahlen Stationen nach Netzebene 2 und 4 unterteilen\n",
        "\n",
        "\n",
        "\n"
      ],
      "metadata": {
        "id": "TvAaPsApM6kf"
      },
      "id": "TvAaPsApM6kf"
    },
    {
      "cell_type": "code",
      "source": [
        "#pip install geopandas"
      ],
      "metadata": {
        "id": "BtBcPFkSsYlX"
      },
      "id": "BtBcPFkSsYlX",
      "execution_count": null,
      "outputs": []
    },
    {
      "cell_type": "code",
      "source": [
        "#pip install datetime"
      ],
      "metadata": {
        "id": "FIFlyBbH1nym"
      },
      "id": "FIFlyBbH1nym",
      "execution_count": null,
      "outputs": []
    },
    {
      "cell_type": "code",
      "source": [
        "pip install numpy"
      ],
      "metadata": {
        "id": "SgnmLfym-vE4"
      },
      "id": "SgnmLfym-vE4",
      "execution_count": null,
      "outputs": []
    },
    {
      "cell_type": "code",
      "source": [
        "import geopandas as gpd\n",
        "import pandas as pd\n",
        "import numpy as np\n",
        "from datetime import datetime\n",
        "import matplotlib.pyplot as plt\n",
        "%matplotlib inline"
      ],
      "metadata": {
        "id": "O1snWJw5Nm8f"
      },
      "id": "O1snWJw5Nm8f",
      "execution_count": 4,
      "outputs": []
    },
    {
      "cell_type": "code",
      "source": [
        "url = \"https://data.geo.admin.ch/ch.bfe.elektrische-anlagen_ueber_36/gpkg/2056/ElektrischeAnlagenNennspannungUeber36kV_V1.gpkg\"\n",
        "dfLeitung = gpd.read_file(url, driver=\"GPKG\", layer='ElektrischeAnlagenNennspannungUeber36kV_V1_ElektrischeAnlagen_Leitung')\n",
        "dfStation = gpd.read_file(url, driver=\"GPKG\", layer='ElektrischeAnlagenNennspannungUeber36kV_V1_ElektrischeAnlagen_Station')\n",
        "dfMast = gpd.read_file(url, driver=\"GPKG\", layer='ElektrischeAnlagenNennspannungUeber36kV_V1_ElektrischeAnlagen_Mast')"
      ],
      "metadata": {
        "id": "-xzTRhr-Nd4g",
        "colab": {
          "base_uri": "https://localhost:8080/"
        },
        "outputId": "a8a6cce7-6d20-4b3a-f4aa-bd37de082808"
      },
      "id": "-xzTRhr-Nd4g",
      "execution_count": 60,
      "outputs": [
        {
          "output_type": "stream",
          "name": "stderr",
          "text": [
            "WARNING:fiona._env:File /vsimem/895ccc5d1b5d4b8f8bf0044d28c27ffb has GPKG application_id, but non conformant file extension\n",
            "WARNING:fiona._env:File /vsimem/71283b4642be41e3ab234061a64711f6 has GPKG application_id, but non conformant file extension\n",
            "WARNING:fiona._env:File /vsimem/e13e36ec5f79493b8e70e87b5c3e827b has GPKG application_id, but non conformant file extension\n"
          ]
        }
      ]
    },
    {
      "cell_type": "markdown",
      "source": [
        "## Kennzahlen Leitungen"
      ],
      "metadata": {
        "id": "PRptTEzMFt3o"
      },
      "id": "PRptTEzMFt3o"
    },
    {
      "cell_type": "code",
      "source": [
        "# Länge der Leitungen berechnen und nach Spannung aufsummieren\n",
        "dfLeitung[\"Laenge\"] = dfLeitung.length\n",
        "dfLeitungKPI = dfLeitung.groupby(['StromnetzTyp','Spannung','LeitungTyp'])['Laenge'].sum()\n",
        "dfLeitungKPI = dfLeitungKPI.to_frame().reset_index()\n",
        "dfLeitungKPI['Datum'] = datetime.today().strftime(\"%Y-%m-%d\")"
      ],
      "metadata": {
        "id": "A5dxmBTfvY3u"
      },
      "id": "A5dxmBTfvY3u",
      "execution_count": 61,
      "outputs": []
    },
    {
      "cell_type": "code",
      "source": [
        "#Speichern\n",
        "dfLeitungKPI.to_csv(\"Kennzahlen_Leitungen.csv\", header=False, index=False, mode='a')"
      ],
      "metadata": {
        "id": "Dt1dONLBRkNV"
      },
      "id": "Dt1dONLBRkNV",
      "execution_count": 62,
      "outputs": []
    },
    {
      "cell_type": "markdown",
      "source": [
        "## Kennzahlen Masten"
      ],
      "metadata": {
        "id": "pH1oWHxLGONC"
      },
      "id": "pH1oWHxLGONC"
    },
    {
      "cell_type": "code",
      "source": [
        "dfMastKPI = dfMast.groupby(['StromnetzTyp','MastTyp'])['xtf_id'].count().reset_index()\n",
        "dfMastKPI = dfMastKPI.rename(columns={'xtf_id':'Anzahl'})\n",
        "dfMastKPI['Datum'] = datetime.today().strftime(\"%Y-%m-%d\")"
      ],
      "metadata": {
        "id": "cIqj0wiVGSCa"
      },
      "id": "cIqj0wiVGSCa",
      "execution_count": 63,
      "outputs": []
    },
    {
      "cell_type": "code",
      "source": [
        "#Speichern\n",
        "dfMastKPI.to_csv(\"Kennzahlen_Masten.csv\", header=True, index=False, mode='a')"
      ],
      "metadata": {
        "id": "N-dEcwdHGTgn"
      },
      "id": "N-dEcwdHGTgn",
      "execution_count": 64,
      "outputs": []
    },
    {
      "cell_type": "markdown",
      "source": [
        "## Kennzahlen Stationen"
      ],
      "metadata": {
        "id": "GGnwlH5EJX4A"
      },
      "id": "GGnwlH5EJX4A"
    },
    {
      "cell_type": "code",
      "source": [
        "dfStationKPI = dfStation.groupby(['StromnetzTyp','StationTyp'])['xtf_id'].count().reset_index()\n",
        "dfStationKPI = dfStationKPI.rename(columns={'xtf_id':'Anzahl'})\n",
        "dfStationKPI['Datum'] = datetime.today().strftime(\"%Y-%m-%d\")"
      ],
      "metadata": {
        "id": "Xa3Vnx8NGvEI"
      },
      "id": "Xa3Vnx8NGvEI",
      "execution_count": 65,
      "outputs": []
    },
    {
      "cell_type": "code",
      "source": [
        "#Speichern\n",
        "dfStationKPI.to_csv(\"Kennzahlen_Stationen.csv\", header=True, index=False, mode='a')"
      ],
      "metadata": {
        "id": "V1XOLqR3Jo5Q"
      },
      "id": "V1XOLqR3Jo5Q",
      "execution_count": 66,
      "outputs": []
    },
    {
      "cell_type": "markdown",
      "source": [
        "## Kennzahlen Werke"
      ],
      "metadata": {
        "id": "be5rdoCHR_Bs"
      },
      "id": "be5rdoCHR_Bs"
    },
    {
      "cell_type": "code",
      "source": [
        "# Leitungslänge pro Werk ableiten.\n",
        "dfWerkeLeitung = dfLeitung.groupby(['Eigentuemer','LeitungTyp'])['Laenge'].sum()\n",
        "dfWerkeLeitung = dfWerkeLeitung.to_frame().reset_index()\n",
        "dfWerkeLeitung = pd.pivot(dfWerkeLeitung,index='Eigentuemer',columns='LeitungTyp')\n",
        "dfWerkeLeitung = dfWerkeLeitung.reset_index()\n",
        "dfWerkeLeitung.columns = dfWerkeLeitung.columns.droplevel()\n",
        "dfWerkeLeitung.columns = ['Werk','Freileitung','Kabelleitung']\n",
        "dfWerkeLeitung = dfWerkeLeitung.fillna(0)\n",
        "dfWerkeLeitung['LeitungGesamt']= dfWerkeLeitung['Kabelleitung']+dfWerkeLeitung['Freileitung']"
      ],
      "metadata": {
        "id": "4nqMeP4onPy_"
      },
      "id": "4nqMeP4onPy_",
      "execution_count": 67,
      "outputs": []
    },
    {
      "cell_type": "code",
      "source": [
        "# Leitungslänge pro Werk ableiten.\n",
        "#dfWerkeLeitung = dfLeitung\n",
        "#dfWerkeLeitung['Werk'] = dfWerkeLeitung['xtf_id'].str.split('_').str[0]\n",
        "#dfWerkeLeitung = dfWerkeLeitung.groupby(['Werk'])['Laenge'].sum()\n",
        "#dfWerkeLeitung = dfWerkeLeitung.to_frame().reset_index()\n",
        "#dfWerkeLeitung = dfWerkeLeitung.rename(columns={'Laenge':'LaengeLeitung'})"
      ],
      "metadata": {
        "id": "Ae33RtXcLsxO"
      },
      "id": "Ae33RtXcLsxO",
      "execution_count": 78,
      "outputs": []
    },
    {
      "cell_type": "code",
      "source": [
        "# Anzahl Masten pro Werk ableiten.\n",
        "dfWerkeMast = dfMast\n",
        "dfWerkeMast['Werk'] = dfWerkeMast['Eigentuemer']\n",
        "dfWerkeMast = dfWerkeMast.groupby(['Werk'])['xtf_id'].count().reset_index()\n",
        "dfWerkeMast = dfWerkeMast.rename(columns={'xtf_id':'AnzahlMasten'})"
      ],
      "metadata": {
        "id": "PGtabzpdUiYk"
      },
      "id": "PGtabzpdUiYk",
      "execution_count": 79,
      "outputs": []
    },
    {
      "cell_type": "code",
      "source": [
        "# Anzahl Stationen pro Werk ableiten.\n",
        "dfWerkeStation = dfStation\n",
        "dfWerkeStation['Werk'] = dfWerkeStation['Eigentuemer']\n",
        "dfWerkeStation = dfWerkeStation.groupby(['Werk'])['xtf_id'].count().reset_index()\n",
        "dfWerkeStation = dfWerkeStation.rename(columns={'xtf_id':'AnzahlStationen'})"
      ],
      "metadata": {
        "id": "ol2pE__CUjgk"
      },
      "id": "ol2pE__CUjgk",
      "execution_count": 81,
      "outputs": []
    },
    {
      "cell_type": "code",
      "source": [
        "# Zusammenführen\n",
        "dfWerke = pd.merge(dfWerkeLeitung, dfWerkeMast, how=\"left\", on=[\"Werk\"])\n",
        "dfWerke = pd.merge(dfWerke, dfWerkeStation, how=\"left\", on=[\"Werk\"])\n",
        "dfWerke = dfWerke.fillna(0)\n",
        "dfWerke['Datum'] = datetime.today().strftime(\"%Y-%m-%d\")"
      ],
      "metadata": {
        "id": "h-zBkvApU5g9"
      },
      "id": "h-zBkvApU5g9",
      "execution_count": 82,
      "outputs": []
    },
    {
      "cell_type": "code",
      "source": [
        "#Speichern\n",
        "dfWerke.to_csv(\"Kennzahlen_Werke.csv\", header=True, index=False, mode='a')"
      ],
      "metadata": {
        "id": "BtD90pTTU6Rr"
      },
      "id": "BtD90pTTU6Rr",
      "execution_count": 86,
      "outputs": []
    },
    {
      "cell_type": "markdown",
      "source": [
        "## Kennzahlen für Visualisierung in Storymap ableiten"
      ],
      "metadata": {
        "id": "StNwzcm9AaFu"
      },
      "id": "StNwzcm9AaFu"
    },
    {
      "cell_type": "code",
      "source": [
        "dfLeitungStorymap = dfLeitungKPI\n",
        "\n",
        "# Gewünschte Kategorien definieren\n",
        "Bedingungen = [dfLeitungStorymap['Spannung']=='S380kV',\n",
        "               dfLeitungStorymap['Spannung']=='S220kV',\n",
        "               (dfLeitungStorymap['StromnetzTyp']=='Allgemeinstrom') & (dfLeitungStorymap['Spannung'].isin(['S150kV','S132kV','S130kV','S125kV','S110kV'])),\n",
        "               (dfLeitungStorymap['StromnetzTyp']=='Allgemeinstrom') & (dfLeitungStorymap['Spannung'].isin(['S66kV','S65kV','S60kV','S50kV','S36kV','Andere'])),\n",
        "               (dfLeitungStorymap['StromnetzTyp']=='Bahnstrom') & (dfLeitungStorymap['Spannung']=='S132kV'),\n",
        "               (dfLeitungStorymap['StromnetzTyp']=='Bahnstrom') & (dfLeitungStorymap['Spannung'].isin(['S66kV','Andere']))\n",
        "               ]\n",
        "\n",
        "Spannungen = ['s380','s220','s150','s66','s132B','s66B']\n",
        "\n",
        "# Neues Attribut \"Kategorie\" erstellen welches für alle Objekte die gewünschte Kategorie bestimmt\n",
        "dfLeitungStorymap['Kategorie'] =  np.select(Bedingungen,Spannungen)"
      ],
      "metadata": {
        "id": "pTRV_22WvXn2"
      },
      "id": "pTRV_22WvXn2",
      "execution_count": null,
      "outputs": []
    },
    {
      "cell_type": "code",
      "source": [
        "# Dataframe für Totale Länge vorbereiten\n",
        "dfTotal = dfLeitungStorymap.groupby('Kategorie').sum(numeric_only=True).reset_index()\n",
        "dfTotal['Kategorie'] = 'Total_'+ dfTotal['Kategorie']\n",
        "dfTotal = dfTotal.transpose()\n",
        "dfTotal.columns = dfTotal.iloc[0]\n",
        "dfTotal = dfTotal[1:]\n",
        "dfTotal['Datum'] = datetime.today().strftime(\"%Y-%m-%d\")"
      ],
      "metadata": {
        "id": "LcuJ0bh_vkRl"
      },
      "id": "LcuJ0bh_vkRl",
      "execution_count": null,
      "outputs": []
    },
    {
      "cell_type": "code",
      "source": [
        "# Dataframe für Länge von Kabel vorbereiten\n",
        "dfKabel = dfLeitungStorymap.loc[dfLeitungStorymap['LeitungTyp']=='Kabelleitung'].groupby('Kategorie').sum(numeric_only=True).reset_index()\n",
        "dfKabel['Kategorie'] = 'Kabel_'+ dfKabel['Kategorie']\n",
        "dfKabel = dfKabel.transpose()\n",
        "dfKabel.columns = dfKabel.iloc[0]\n",
        "dfKabel = dfKabel[1:]\n",
        "dfKabel['Datum'] = datetime.today().strftime(\"%Y-%m-%d\")"
      ],
      "metadata": {
        "id": "kCBR3i-ZvkPF"
      },
      "id": "kCBR3i-ZvkPF",
      "execution_count": null,
      "outputs": []
    },
    {
      "cell_type": "code",
      "source": [
        "# Zusammenführen\n",
        "dfStorymap = pd.merge(dfTotal, dfKabel, how='left', on=[\"Datum\"])"
      ],
      "metadata": {
        "id": "HegE9FV7XF3Z"
      },
      "id": "HegE9FV7XF3Z",
      "execution_count": null,
      "outputs": []
    },
    {
      "cell_type": "code",
      "source": [
        "#Temporäre Platzhalter für die Bahnstromkategorien erstellen. kann später gelöscht werden!\n",
        "dfStorymap['Total_s132B'] = 1\n",
        "dfStorymap['Kabel_s132B'] = 1\n",
        "dfStorymap['Total_s66B'] = 1\n",
        "dfStorymap['Kabel_s66B'] = 1\n",
        "dfStorymap"
      ],
      "metadata": {
        "colab": {
          "base_uri": "https://localhost:8080/",
          "height": 81
        },
        "id": "K-SEPYHuaE8e",
        "outputId": "3854e84d-8983-47a9-9a37-719fd959fcf6"
      },
      "id": "K-SEPYHuaE8e",
      "execution_count": null,
      "outputs": [
        {
          "output_type": "execute_result",
          "data": {
            "text/plain": [
              "Kategorie     Total_s150      Total_s220      Total_s380       Total_s66  \\\n",
              "0          2349055.72573  4857296.789805  1915187.111824  4915281.230717   \n",
              "\n",
              "Kategorie       Datum     Kabel_s150    Kabel_s220    Kabel_s380  \\\n",
              "0          2023-05-03  894904.391234  25013.209003  22044.578551   \n",
              "\n",
              "Kategorie      Kabel_s66  Total_s132B  Kabel_s132B  Total_s66B  Kabel_s66B  \n",
              "0          742579.917095            1            1           1           1  "
            ],
            "text/html": [
              "\n",
              "  <div id=\"df-d3acd615-c002-48fc-9638-e81f3e1bed10\">\n",
              "    <div class=\"colab-df-container\">\n",
              "      <div>\n",
              "<style scoped>\n",
              "    .dataframe tbody tr th:only-of-type {\n",
              "        vertical-align: middle;\n",
              "    }\n",
              "\n",
              "    .dataframe tbody tr th {\n",
              "        vertical-align: top;\n",
              "    }\n",
              "\n",
              "    .dataframe thead th {\n",
              "        text-align: right;\n",
              "    }\n",
              "</style>\n",
              "<table border=\"1\" class=\"dataframe\">\n",
              "  <thead>\n",
              "    <tr style=\"text-align: right;\">\n",
              "      <th>Kategorie</th>\n",
              "      <th>Total_s150</th>\n",
              "      <th>Total_s220</th>\n",
              "      <th>Total_s380</th>\n",
              "      <th>Total_s66</th>\n",
              "      <th>Datum</th>\n",
              "      <th>Kabel_s150</th>\n",
              "      <th>Kabel_s220</th>\n",
              "      <th>Kabel_s380</th>\n",
              "      <th>Kabel_s66</th>\n",
              "      <th>Total_s132B</th>\n",
              "      <th>Kabel_s132B</th>\n",
              "      <th>Total_s66B</th>\n",
              "      <th>Kabel_s66B</th>\n",
              "    </tr>\n",
              "  </thead>\n",
              "  <tbody>\n",
              "    <tr>\n",
              "      <th>0</th>\n",
              "      <td>2349055.72573</td>\n",
              "      <td>4857296.789805</td>\n",
              "      <td>1915187.111824</td>\n",
              "      <td>4915281.230717</td>\n",
              "      <td>2023-05-03</td>\n",
              "      <td>894904.391234</td>\n",
              "      <td>25013.209003</td>\n",
              "      <td>22044.578551</td>\n",
              "      <td>742579.917095</td>\n",
              "      <td>1</td>\n",
              "      <td>1</td>\n",
              "      <td>1</td>\n",
              "      <td>1</td>\n",
              "    </tr>\n",
              "  </tbody>\n",
              "</table>\n",
              "</div>\n",
              "      <button class=\"colab-df-convert\" onclick=\"convertToInteractive('df-d3acd615-c002-48fc-9638-e81f3e1bed10')\"\n",
              "              title=\"Convert this dataframe to an interactive table.\"\n",
              "              style=\"display:none;\">\n",
              "        \n",
              "  <svg xmlns=\"http://www.w3.org/2000/svg\" height=\"24px\"viewBox=\"0 0 24 24\"\n",
              "       width=\"24px\">\n",
              "    <path d=\"M0 0h24v24H0V0z\" fill=\"none\"/>\n",
              "    <path d=\"M18.56 5.44l.94 2.06.94-2.06 2.06-.94-2.06-.94-.94-2.06-.94 2.06-2.06.94zm-11 1L8.5 8.5l.94-2.06 2.06-.94-2.06-.94L8.5 2.5l-.94 2.06-2.06.94zm10 10l.94 2.06.94-2.06 2.06-.94-2.06-.94-.94-2.06-.94 2.06-2.06.94z\"/><path d=\"M17.41 7.96l-1.37-1.37c-.4-.4-.92-.59-1.43-.59-.52 0-1.04.2-1.43.59L10.3 9.45l-7.72 7.72c-.78.78-.78 2.05 0 2.83L4 21.41c.39.39.9.59 1.41.59.51 0 1.02-.2 1.41-.59l7.78-7.78 2.81-2.81c.8-.78.8-2.07 0-2.86zM5.41 20L4 18.59l7.72-7.72 1.47 1.35L5.41 20z\"/>\n",
              "  </svg>\n",
              "      </button>\n",
              "      \n",
              "  <style>\n",
              "    .colab-df-container {\n",
              "      display:flex;\n",
              "      flex-wrap:wrap;\n",
              "      gap: 12px;\n",
              "    }\n",
              "\n",
              "    .colab-df-convert {\n",
              "      background-color: #E8F0FE;\n",
              "      border: none;\n",
              "      border-radius: 50%;\n",
              "      cursor: pointer;\n",
              "      display: none;\n",
              "      fill: #1967D2;\n",
              "      height: 32px;\n",
              "      padding: 0 0 0 0;\n",
              "      width: 32px;\n",
              "    }\n",
              "\n",
              "    .colab-df-convert:hover {\n",
              "      background-color: #E2EBFA;\n",
              "      box-shadow: 0px 1px 2px rgba(60, 64, 67, 0.3), 0px 1px 3px 1px rgba(60, 64, 67, 0.15);\n",
              "      fill: #174EA6;\n",
              "    }\n",
              "\n",
              "    [theme=dark] .colab-df-convert {\n",
              "      background-color: #3B4455;\n",
              "      fill: #D2E3FC;\n",
              "    }\n",
              "\n",
              "    [theme=dark] .colab-df-convert:hover {\n",
              "      background-color: #434B5C;\n",
              "      box-shadow: 0px 1px 3px 1px rgba(0, 0, 0, 0.15);\n",
              "      filter: drop-shadow(0px 1px 2px rgba(0, 0, 0, 0.3));\n",
              "      fill: #FFFFFF;\n",
              "    }\n",
              "  </style>\n",
              "\n",
              "      <script>\n",
              "        const buttonEl =\n",
              "          document.querySelector('#df-d3acd615-c002-48fc-9638-e81f3e1bed10 button.colab-df-convert');\n",
              "        buttonEl.style.display =\n",
              "          google.colab.kernel.accessAllowed ? 'block' : 'none';\n",
              "\n",
              "        async function convertToInteractive(key) {\n",
              "          const element = document.querySelector('#df-d3acd615-c002-48fc-9638-e81f3e1bed10');\n",
              "          const dataTable =\n",
              "            await google.colab.kernel.invokeFunction('convertToInteractive',\n",
              "                                                     [key], {});\n",
              "          if (!dataTable) return;\n",
              "\n",
              "          const docLinkHtml = 'Like what you see? Visit the ' +\n",
              "            '<a target=\"_blank\" href=https://colab.research.google.com/notebooks/data_table.ipynb>data table notebook</a>'\n",
              "            + ' to learn more about interactive tables.';\n",
              "          element.innerHTML = '';\n",
              "          dataTable['output_type'] = 'display_data';\n",
              "          await google.colab.output.renderOutput(dataTable, element);\n",
              "          const docLink = document.createElement('div');\n",
              "          docLink.innerHTML = docLinkHtml;\n",
              "          element.appendChild(docLink);\n",
              "        }\n",
              "      </script>\n",
              "    </div>\n",
              "  </div>\n",
              "  "
            ]
          },
          "metadata": {},
          "execution_count": 349
        }
      ]
    },
    {
      "cell_type": "code",
      "source": [
        "#Speichern\n",
        "dfStorymap.to_csv(\"Kennzahlen_Storymap.csv\", header=True, index=False, mode='a')"
      ],
      "metadata": {
        "id": "oyMD6TWfXYfj",
        "colab": {
          "base_uri": "https://localhost:8080/",
          "height": 183
        },
        "outputId": "71ba694a-b4b4-4b0c-f37f-6ef8aa6e4343"
      },
      "id": "oyMD6TWfXYfj",
      "execution_count": 85,
      "outputs": [
        {
          "output_type": "error",
          "ename": "NameError",
          "evalue": "ignored",
          "traceback": [
            "\u001b[0;31m---------------------------------------------------------------------------\u001b[0m",
            "\u001b[0;31mNameError\u001b[0m                                 Traceback (most recent call last)",
            "\u001b[0;32m<ipython-input-85-573993012095>\u001b[0m in \u001b[0;36m<cell line: 2>\u001b[0;34m()\u001b[0m\n\u001b[1;32m      1\u001b[0m \u001b[0;31m#Speichern\u001b[0m\u001b[0;34m\u001b[0m\u001b[0;34m\u001b[0m\u001b[0m\n\u001b[0;32m----> 2\u001b[0;31m \u001b[0mdfStorymap\u001b[0m\u001b[0;34m.\u001b[0m\u001b[0mto_csv\u001b[0m\u001b[0;34m(\u001b[0m\u001b[0;34m\"Kennzahlen_Storymap.csv\"\u001b[0m\u001b[0;34m,\u001b[0m \u001b[0mheader\u001b[0m\u001b[0;34m=\u001b[0m\u001b[0;32mTrue\u001b[0m\u001b[0;34m,\u001b[0m \u001b[0mindex\u001b[0m\u001b[0;34m=\u001b[0m\u001b[0;32mFalse\u001b[0m\u001b[0;34m,\u001b[0m \u001b[0mmode\u001b[0m\u001b[0;34m=\u001b[0m\u001b[0;34m'a'\u001b[0m\u001b[0;34m)\u001b[0m\u001b[0;34m\u001b[0m\u001b[0;34m\u001b[0m\u001b[0m\n\u001b[0m",
            "\u001b[0;31mNameError\u001b[0m: name 'dfStorymap' is not defined"
          ]
        }
      ]
    },
    {
      "cell_type": "code",
      "source": [
        "#Daten für Visualisierung laden\n",
        "df = pd.read_csv(\"Kennzahlen_Werke.csv\", parse_dates=['Datum'])\n",
        "dfVis = df.loc[df.Datum == datetime.today().strftime(\"%Y-%m-%d\")]\n",
        "dfVis['Freileitung'] = dfVis['Freileitung']/1000\n",
        "dfVis['Kabelleitung'] = dfVis['Kabelleitung']/1000\n",
        "dfVis['LeitungGesamt'] = dfVis['LeitungGesamt']/1000\n",
        "dfVis['Freileitung'] = dfVis['Freileitung'].round(0)\n",
        "dfVis['Kabelleitung'] = dfVis['Kabelleitung'].round(0)\n",
        "dfVis['LeitungGesamt'] = dfVis['LeitungGesamt'].round(0)\n",
        "dfVis"
      ],
      "metadata": {
        "id": "h-iOxBcgYbVg",
        "colab": {
          "base_uri": "https://localhost:8080/",
          "height": 238
        },
        "outputId": "39e19e5d-6e18-4c5e-e141-50079f9d7200"
      },
      "id": "h-iOxBcgYbVg",
      "execution_count": 169,
      "outputs": [
        {
          "output_type": "execute_result",
          "data": {
            "text/plain": [
              "           Werk  Freileitung  Kabelleitung  LeitungGesamt  AnzahlMasten  \\\n",
              "0           AEK          0.0          10.0           10.0           0.0   \n",
              "1  Axpo Grid AG       1824.0         418.0         2242.0        7010.0   \n",
              "2           IBC         10.0          36.0           46.0          25.0   \n",
              "3           IWB          0.0        1137.0         1137.0           0.0   \n",
              "4           SEG         16.0           8.0           23.0         339.0   \n",
              "5     Swissgrid      10502.0          86.0        10588.0       11975.0   \n",
              "\n",
              "   AnzahlStationen      Datum  \n",
              "0              0.0 2023-06-20  \n",
              "1             37.0 2023-06-20  \n",
              "2              4.0 2023-06-20  \n",
              "3            145.0 2023-06-20  \n",
              "4              3.0 2023-06-20  \n",
              "5            134.0 2023-06-20  "
            ],
            "text/html": [
              "\n",
              "  <div id=\"df-133e7ea6-bea8-40c4-8c8c-55e36ee3209b\">\n",
              "    <div class=\"colab-df-container\">\n",
              "      <div>\n",
              "<style scoped>\n",
              "    .dataframe tbody tr th:only-of-type {\n",
              "        vertical-align: middle;\n",
              "    }\n",
              "\n",
              "    .dataframe tbody tr th {\n",
              "        vertical-align: top;\n",
              "    }\n",
              "\n",
              "    .dataframe thead th {\n",
              "        text-align: right;\n",
              "    }\n",
              "</style>\n",
              "<table border=\"1\" class=\"dataframe\">\n",
              "  <thead>\n",
              "    <tr style=\"text-align: right;\">\n",
              "      <th></th>\n",
              "      <th>Werk</th>\n",
              "      <th>Freileitung</th>\n",
              "      <th>Kabelleitung</th>\n",
              "      <th>LeitungGesamt</th>\n",
              "      <th>AnzahlMasten</th>\n",
              "      <th>AnzahlStationen</th>\n",
              "      <th>Datum</th>\n",
              "    </tr>\n",
              "  </thead>\n",
              "  <tbody>\n",
              "    <tr>\n",
              "      <th>0</th>\n",
              "      <td>AEK</td>\n",
              "      <td>0.0</td>\n",
              "      <td>10.0</td>\n",
              "      <td>10.0</td>\n",
              "      <td>0.0</td>\n",
              "      <td>0.0</td>\n",
              "      <td>2023-06-20</td>\n",
              "    </tr>\n",
              "    <tr>\n",
              "      <th>1</th>\n",
              "      <td>Axpo Grid AG</td>\n",
              "      <td>1824.0</td>\n",
              "      <td>418.0</td>\n",
              "      <td>2242.0</td>\n",
              "      <td>7010.0</td>\n",
              "      <td>37.0</td>\n",
              "      <td>2023-06-20</td>\n",
              "    </tr>\n",
              "    <tr>\n",
              "      <th>2</th>\n",
              "      <td>IBC</td>\n",
              "      <td>10.0</td>\n",
              "      <td>36.0</td>\n",
              "      <td>46.0</td>\n",
              "      <td>25.0</td>\n",
              "      <td>4.0</td>\n",
              "      <td>2023-06-20</td>\n",
              "    </tr>\n",
              "    <tr>\n",
              "      <th>3</th>\n",
              "      <td>IWB</td>\n",
              "      <td>0.0</td>\n",
              "      <td>1137.0</td>\n",
              "      <td>1137.0</td>\n",
              "      <td>0.0</td>\n",
              "      <td>145.0</td>\n",
              "      <td>2023-06-20</td>\n",
              "    </tr>\n",
              "    <tr>\n",
              "      <th>4</th>\n",
              "      <td>SEG</td>\n",
              "      <td>16.0</td>\n",
              "      <td>8.0</td>\n",
              "      <td>23.0</td>\n",
              "      <td>339.0</td>\n",
              "      <td>3.0</td>\n",
              "      <td>2023-06-20</td>\n",
              "    </tr>\n",
              "    <tr>\n",
              "      <th>5</th>\n",
              "      <td>Swissgrid</td>\n",
              "      <td>10502.0</td>\n",
              "      <td>86.0</td>\n",
              "      <td>10588.0</td>\n",
              "      <td>11975.0</td>\n",
              "      <td>134.0</td>\n",
              "      <td>2023-06-20</td>\n",
              "    </tr>\n",
              "  </tbody>\n",
              "</table>\n",
              "</div>\n",
              "      <button class=\"colab-df-convert\" onclick=\"convertToInteractive('df-133e7ea6-bea8-40c4-8c8c-55e36ee3209b')\"\n",
              "              title=\"Convert this dataframe to an interactive table.\"\n",
              "              style=\"display:none;\">\n",
              "        \n",
              "  <svg xmlns=\"http://www.w3.org/2000/svg\" height=\"24px\"viewBox=\"0 0 24 24\"\n",
              "       width=\"24px\">\n",
              "    <path d=\"M0 0h24v24H0V0z\" fill=\"none\"/>\n",
              "    <path d=\"M18.56 5.44l.94 2.06.94-2.06 2.06-.94-2.06-.94-.94-2.06-.94 2.06-2.06.94zm-11 1L8.5 8.5l.94-2.06 2.06-.94-2.06-.94L8.5 2.5l-.94 2.06-2.06.94zm10 10l.94 2.06.94-2.06 2.06-.94-2.06-.94-.94-2.06-.94 2.06-2.06.94z\"/><path d=\"M17.41 7.96l-1.37-1.37c-.4-.4-.92-.59-1.43-.59-.52 0-1.04.2-1.43.59L10.3 9.45l-7.72 7.72c-.78.78-.78 2.05 0 2.83L4 21.41c.39.39.9.59 1.41.59.51 0 1.02-.2 1.41-.59l7.78-7.78 2.81-2.81c.8-.78.8-2.07 0-2.86zM5.41 20L4 18.59l7.72-7.72 1.47 1.35L5.41 20z\"/>\n",
              "  </svg>\n",
              "      </button>\n",
              "      \n",
              "  <style>\n",
              "    .colab-df-container {\n",
              "      display:flex;\n",
              "      flex-wrap:wrap;\n",
              "      gap: 12px;\n",
              "    }\n",
              "\n",
              "    .colab-df-convert {\n",
              "      background-color: #E8F0FE;\n",
              "      border: none;\n",
              "      border-radius: 50%;\n",
              "      cursor: pointer;\n",
              "      display: none;\n",
              "      fill: #1967D2;\n",
              "      height: 32px;\n",
              "      padding: 0 0 0 0;\n",
              "      width: 32px;\n",
              "    }\n",
              "\n",
              "    .colab-df-convert:hover {\n",
              "      background-color: #E2EBFA;\n",
              "      box-shadow: 0px 1px 2px rgba(60, 64, 67, 0.3), 0px 1px 3px 1px rgba(60, 64, 67, 0.15);\n",
              "      fill: #174EA6;\n",
              "    }\n",
              "\n",
              "    [theme=dark] .colab-df-convert {\n",
              "      background-color: #3B4455;\n",
              "      fill: #D2E3FC;\n",
              "    }\n",
              "\n",
              "    [theme=dark] .colab-df-convert:hover {\n",
              "      background-color: #434B5C;\n",
              "      box-shadow: 0px 1px 3px 1px rgba(0, 0, 0, 0.15);\n",
              "      filter: drop-shadow(0px 1px 2px rgba(0, 0, 0, 0.3));\n",
              "      fill: #FFFFFF;\n",
              "    }\n",
              "  </style>\n",
              "\n",
              "      <script>\n",
              "        const buttonEl =\n",
              "          document.querySelector('#df-133e7ea6-bea8-40c4-8c8c-55e36ee3209b button.colab-df-convert');\n",
              "        buttonEl.style.display =\n",
              "          google.colab.kernel.accessAllowed ? 'block' : 'none';\n",
              "\n",
              "        async function convertToInteractive(key) {\n",
              "          const element = document.querySelector('#df-133e7ea6-bea8-40c4-8c8c-55e36ee3209b');\n",
              "          const dataTable =\n",
              "            await google.colab.kernel.invokeFunction('convertToInteractive',\n",
              "                                                     [key], {});\n",
              "          if (!dataTable) return;\n",
              "\n",
              "          const docLinkHtml = 'Like what you see? Visit the ' +\n",
              "            '<a target=\"_blank\" href=https://colab.research.google.com/notebooks/data_table.ipynb>data table notebook</a>'\n",
              "            + ' to learn more about interactive tables.';\n",
              "          element.innerHTML = '';\n",
              "          dataTable['output_type'] = 'display_data';\n",
              "          await google.colab.output.renderOutput(dataTable, element);\n",
              "          const docLink = document.createElement('div');\n",
              "          docLink.innerHTML = docLinkHtml;\n",
              "          element.appendChild(docLink);\n",
              "        }\n",
              "      </script>\n",
              "    </div>\n",
              "  </div>\n",
              "  "
            ]
          },
          "metadata": {},
          "execution_count": 169
        }
      ]
    },
    {
      "cell_type": "code",
      "source": [
        "#Barchart Anzahl Masten\n",
        "dfVis = dfVis.sort_values('AnzahlMasten',ascending=False)\n",
        "fig, ax = plt.subplots()\n",
        "ax.bar(dfVis['Werk'], dfVis['AnzahlMasten'])\n",
        "ax.set_title('Anzahl Masten')\n",
        "plt.xticks(rotation = 90)\n",
        "plt.ylabel(\"Anzahl Masten\")\n",
        "ax.bar_label(ax.containers[0], label_type='edge')\n",
        "plt.savefig('AnzahlMasten.png',bbox_inches='tight')\n",
        "plt.close()"
      ],
      "metadata": {
        "id": "ufMSOqQ40J0t"
      },
      "id": "ufMSOqQ40J0t",
      "execution_count": 160,
      "outputs": []
    },
    {
      "cell_type": "code",
      "source": [
        "#Barchart Anzahl Stationen\n",
        "dfVis = dfVis.sort_values('AnzahlStationen',ascending=False)\n",
        "fig, ax = plt.subplots()\n",
        "ax.bar(dfVis['Werk'], dfVis['AnzahlStationen'])\n",
        "ax.set_title('Anzahl Stationen')\n",
        "plt.xticks(rotation = 90)\n",
        "plt.ylabel(\"Anzahl Stationen\")\n",
        "ax.bar_label(ax.containers[0], label_type='edge')\n",
        "plt.savefig('AnzahlStationen.png',bbox_inches='tight')\n",
        "plt.close()"
      ],
      "metadata": {
        "id": "m-Ey3roy2Lbx"
      },
      "id": "m-Ey3roy2Lbx",
      "execution_count": 161,
      "outputs": []
    },
    {
      "cell_type": "code",
      "source": [
        "#Barchart Länge Leitungen\n",
        "dfVis = dfVis.sort_values('LeitungGesamt',ascending=False)\n",
        "\n",
        "fig, ax = plt.subplots()\n",
        "\n",
        "ax.bar(dfVis['Werk'], dfVis['Kabelleitung'])\n",
        "ax.bar(dfVis['Werk'], dfVis['Freileitung'])\n",
        "ax.set_title('Länge der Leitungen')\n",
        "plt.xticks(rotation = 90)\n",
        "plt.ylabel(\"km\")\n",
        "\n",
        "ax.bar_label(ax.containers[0], label_type='edge')\n",
        "ax.bar_label(ax.containers[1], label_type='edge')\n",
        "#plt.savefig('AnzahlStationen.png',bbox_inches='tight')\n",
        "#plt.close()"
      ],
      "metadata": {
        "id": "zwqTzs6cCIz8",
        "outputId": "4895bc1e-d6e4-4798-9404-9514d792970e",
        "colab": {
          "base_uri": "https://localhost:8080/",
          "height": 635
        }
      },
      "id": "zwqTzs6cCIz8",
      "execution_count": 173,
      "outputs": [
        {
          "output_type": "execute_result",
          "data": {
            "text/plain": [
              "[Text(0, 0, '10502'),\n",
              " Text(0, 0, '1824'),\n",
              " Text(0, 0, '0'),\n",
              " Text(0, 0, '10'),\n",
              " Text(0, 0, '16'),\n",
              " Text(0, 0, '0')]"
            ]
          },
          "metadata": {},
          "execution_count": 173
        },
        {
          "output_type": "display_data",
          "data": {
            "text/plain": [
              "<Figure size 640x480 with 1 Axes>"
            ],
            "image/png": "[encoded data removed]"
          },
          "metadata": {}
        }
      ]
    },
    {
      "cell_type": "code",
      "source": [
        "\n",
        "# importing package\n",
        "import matplotlib.pyplot as plt\n",
        "\n",
        "# create data\n",
        "x = ['A', 'B', 'C', 'D']\n",
        "y1 = [10, 20, 10, 30]\n",
        "y2 = [20, 25, 15, 25]\n",
        "\n",
        "# plot bars in stack manner\n",
        "plt.bar(x, y1, color='r')\n",
        "plt.bar(x, y2, bottom=y1, color='b')\n",
        "plt.show()"
      ],
      "metadata": {
        "id": "AMrA06hf5O_3"
      },
      "id": "AMrA06hf5O_3",
      "execution_count": null,
      "outputs": []
    }
  ],
  "metadata": {
    "kernelspec": {
      "display_name": "Python 3",
      "language": "python",
      "name": "python3"
    },
    "language_info": {
      "codemirror_mode": {
        "name": "ipython",
        "version": 3
      },
      "file_extension": ".py",
      "mimetype": "text/x-python",
      "name": "python",
      "nbconvert_exporter": "python",
      "pygments_lexer": "ipython3",
      "version": "3.7.11"
    },
    "colab": {
      "provenance": [],
      "include_colab_link": true
    }
  },
  "nbformat": 4,
  "nbformat_minor": 5
}