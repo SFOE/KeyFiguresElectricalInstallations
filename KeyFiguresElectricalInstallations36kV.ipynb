{
  "cells": [
    {
      "cell_type": "markdown",
      "metadata": {
        "id": "view-in-github",
        "colab_type": "text"
      },
      "source": [
        "<a href=\"https://colab.research.google.com/github/nrohrbach/KeyFiguresElectricalInstallations/blob/main/KeyFiguresElectricalInstallations36kV.ipynb\" target=\"_parent\"><img src=\"https://colab.research.google.com/assets/colab-badge.svg\" alt=\"Open In Colab\"/></a>"
      ]
    },
    {
      "cell_type": "markdown",
      "source": [
        "# Kennzahlen Geobasisdatensatz Elektrische Anlagen mit einer Nennspannung von über 36kV\n",
        "\n",
        "---\n",
        "\n",
        "Notebook um Kennzahlen des Geobasisdatensatzes \"Elektrische Anlagen mit einer Nennspannung von über 36kV abzuleiten.\n",
        "\n",
        "\n",
        "**Offene Fragen**\n",
        "\n",
        "*   Sollen bei Leitungen die Erdungen auch gezählt werden oder nicht?\n",
        "*   Hat Swissgrid auch Stationen der Netzebene 4?\n",
        "\n",
        "**ToDo**\n",
        "\n",
        "*   Kennzahlen Stationen nach Netzebene 2 und 4 unterteilen\n",
        "\n",
        "\n",
        "\n"
      ],
      "metadata": {
        "id": "TvAaPsApM6kf"
      },
      "id": "TvAaPsApM6kf"
    },
    {
      "cell_type": "code",
      "source": [
        "#pip install geopandas"
      ],
      "metadata": {
        "id": "BtBcPFkSsYlX"
      },
      "id": "BtBcPFkSsYlX",
      "execution_count": null,
      "outputs": []
    },
    {
      "cell_type": "code",
      "source": [
        "#pip install datetime"
      ],
      "metadata": {
        "id": "FIFlyBbH1nym"
      },
      "id": "FIFlyBbH1nym",
      "execution_count": null,
      "outputs": []
    },
    {
      "cell_type": "code",
      "source": [
        "import geopandas as gpd\n",
        "import pandas as pd\n",
        "from datetime import datetime"
      ],
      "metadata": {
        "id": "O1snWJw5Nm8f"
      },
      "id": "O1snWJw5Nm8f",
      "execution_count": 4,
      "outputs": []
    },
    {
      "cell_type": "code",
      "source": [
        "url = \"https://data.geo.admin.ch/ch.bfe.elektrische-anlagen_ueber_36/gpkg/2056/ElektrischeAnlagenNennspannungUeber36kV_V1.gpkg\"\n",
        "dfLeitung = gpd.read_file(url, driver=\"GPKG\", layer='ElektrischeAnlagenNennspannungUeber36kV_V1_ElektrischeAnlagen_Leitung')\n",
        "dfStation = gpd.read_file(url, driver=\"GPKG\", layer='ElektrischeAnlagenNennspannungUeber36kV_V1_ElektrischeAnlagen_Station')\n",
        "dfMast = gpd.read_file(url, driver=\"GPKG\", layer='ElektrischeAnlagenNennspannungUeber36kV_V1_ElektrischeAnlagen_Mast')"
      ],
      "metadata": {
        "id": "-xzTRhr-Nd4g",
        "colab": {
          "base_uri": "https://localhost:8080/"
        },
        "outputId": "d206c231-20b7-41d0-bc81-e9600b8f327f"
      },
      "id": "-xzTRhr-Nd4g",
      "execution_count": 5,
      "outputs": [
        {
          "output_type": "stream",
          "name": "stderr",
          "text": [
            "WARNING:fiona._env:File /vsimem/79e16e96767d403aa434b8978be6dd35 has GPKG application_id, but non conformant file extension\n",
            "WARNING:fiona._env:File /vsimem/97fc25abb7bb4d56a9d4d8f6ad53e14a has GPKG application_id, but non conformant file extension\n",
            "WARNING:fiona._env:File /vsimem/2af727df663f45afbe4ea1be179e1692 has GPKG application_id, but non conformant file extension\n"
          ]
        }
      ]
    },
    {
      "cell_type": "markdown",
      "source": [
        "## Kennzahlen Leitungen"
      ],
      "metadata": {
        "id": "PRptTEzMFt3o"
      },
      "id": "PRptTEzMFt3o"
    },
    {
      "cell_type": "code",
      "source": [
        "# Länge der Leitungen berechnen und nach Spannung aufsummieren\n",
        "dfLeitung[\"Laenge\"] = dfLeitung.length\n",
        "dfLeitungKPI = dfLeitung.groupby(['StromnetzTyp','Spannung','LeitungTyp'])['Laenge'].sum()\n",
        "dfLeitungKPI = dfLeitungKPI.to_frame().reset_index()\n",
        "dfLeitungKPI['Datum'] = datetime.today().strftime(\"%Y-%m-%d\")"
      ],
      "metadata": {
        "id": "A5dxmBTfvY3u"
      },
      "id": "A5dxmBTfvY3u",
      "execution_count": 6,
      "outputs": []
    },
    {
      "cell_type": "code",
      "source": [
        "#Speichern\n",
        "dfLeitungKPI.to_csv(\"Kennzahlen_Leitungen.csv\", header=False, index=False, mode='a')"
      ],
      "metadata": {
        "id": "Dt1dONLBRkNV"
      },
      "id": "Dt1dONLBRkNV",
      "execution_count": null,
      "outputs": []
    },
    {
      "cell_type": "markdown",
      "source": [
        "## Kennzahlen Masten"
      ],
      "metadata": {
        "id": "pH1oWHxLGONC"
      },
      "id": "pH1oWHxLGONC"
    },
    {
      "cell_type": "code",
      "source": [
        "dfMastKPI = dfMast.groupby(['StromnetzTyp','MastTyp'])['xtf_id'].count().reset_index()\n",
        "dfMastKPI = dfMastKPI.rename(columns={'xtf_id':'Anzahl'})\n",
        "dfMastKPI['Datum'] = datetime.today().strftime(\"%Y-%m-%d\")"
      ],
      "metadata": {
        "id": "cIqj0wiVGSCa"
      },
      "id": "cIqj0wiVGSCa",
      "execution_count": null,
      "outputs": []
    },
    {
      "cell_type": "code",
      "source": [
        "#Speichern\n",
        "dfMastKPI.to_csv(\"Kennzahlen_Masten.csv\", header=True, index=False, mode='a')"
      ],
      "metadata": {
        "id": "N-dEcwdHGTgn"
      },
      "id": "N-dEcwdHGTgn",
      "execution_count": null,
      "outputs": []
    },
    {
      "cell_type": "markdown",
      "source": [
        "## Kennzahlen Stationen"
      ],
      "metadata": {
        "id": "GGnwlH5EJX4A"
      },
      "id": "GGnwlH5EJX4A"
    },
    {
      "cell_type": "code",
      "source": [
        "dfStationKPI = dfStation.groupby(['StromnetzTyp','StationTyp'])['xtf_id'].count().reset_index()\n",
        "dfStationKPI = dfStationKPI.rename(columns={'xtf_id':'Anzahl'})\n",
        "dfStationKPI['Datum'] = datetime.today().strftime(\"%Y-%m-%d\")"
      ],
      "metadata": {
        "id": "Xa3Vnx8NGvEI"
      },
      "id": "Xa3Vnx8NGvEI",
      "execution_count": null,
      "outputs": []
    },
    {
      "cell_type": "code",
      "source": [
        "#Speichern\n",
        "dfStationKPI.to_csv(\"Kennzahlen_Stationen.csv\", header=True, index=False, mode='a')"
      ],
      "metadata": {
        "id": "V1XOLqR3Jo5Q"
      },
      "id": "V1XOLqR3Jo5Q",
      "execution_count": null,
      "outputs": []
    },
    {
      "cell_type": "markdown",
      "source": [
        "## Kennzahlen Werke"
      ],
      "metadata": {
        "id": "be5rdoCHR_Bs"
      },
      "id": "be5rdoCHR_Bs"
    },
    {
      "cell_type": "code",
      "source": [
        "# Leitungslänge pro Werk ableiten.\n",
        "dfWerkeLeitung = dfLeitung\n",
        "dfWerkeLeitung['Werk'] = dfWerkeLeitung['xtf_id'].str.split('_').str[0]\n",
        "dfWerkeLeitung = dfWerkeLeitung.groupby(['Werk'])['Laenge'].sum()\n",
        "dfWerkeLeitung = dfWerkeLeitung.to_frame().reset_index()\n",
        "dfWerkeLeitung = dfWerkeLeitung.rename(columns={'Laenge':'LaengeLeitung'})"
      ],
      "metadata": {
        "id": "Ae33RtXcLsxO"
      },
      "id": "Ae33RtXcLsxO",
      "execution_count": null,
      "outputs": []
    },
    {
      "cell_type": "code",
      "source": [
        "# Anzahl Masten pro Werk ableiten.\n",
        "dfWerkeMast = dfMast\n",
        "dfWerkeMast['Werk'] = dfWerkeMast['xtf_id'].str.split('_').str[0]\n",
        "dfWerkeMast = dfWerkeMast.groupby(['Werk'])['xtf_id'].count().reset_index()\n",
        "dfWerkeMast = dfWerkeMast.rename(columns={'xtf_id':'AnzahlMasten'})"
      ],
      "metadata": {
        "id": "PGtabzpdUiYk"
      },
      "id": "PGtabzpdUiYk",
      "execution_count": null,
      "outputs": []
    },
    {
      "cell_type": "code",
      "source": [
        "# Anzahl Stationen pro Werk ableiten.\n",
        "dfWerkeStation = dfStation\n",
        "dfWerkeStation['Werk'] = dfWerkeStation['xtf_id'].str.split('_').str[0]\n",
        "dfWerkeStation = dfWerkeStation.groupby(['Werk'])['xtf_id'].count().reset_index()\n",
        "dfWerkeStation = dfWerkeStation.rename(columns={'xtf_id':'AnzahlStationen'})"
      ],
      "metadata": {
        "id": "ol2pE__CUjgk"
      },
      "id": "ol2pE__CUjgk",
      "execution_count": null,
      "outputs": []
    },
    {
      "cell_type": "code",
      "source": [
        "# Zusammenführen\n",
        "dfWerke = pd.merge(dfWerkeLeitung, dfWerkeMast, how=\"left\", on=[\"Werk\"])\n",
        "dfWerke = pd.merge(dfWerke, dfWerkeStation, how=\"left\", on=[\"Werk\"])\n",
        "dfWerke = dfWerke.fillna(0)\n",
        "dfWerke['Datum'] = datetime.today().strftime(\"%Y-%m-%d\")"
      ],
      "metadata": {
        "id": "h-zBkvApU5g9"
      },
      "id": "h-zBkvApU5g9",
      "execution_count": null,
      "outputs": []
    },
    {
      "cell_type": "code",
      "source": [
        "#Speichern\n",
        "dfWerke.to_csv(\"Kennzahlen_Werke.csv\", header=True, index=False, mode='a')"
      ],
      "metadata": {
        "id": "BtD90pTTU6Rr"
      },
      "id": "BtD90pTTU6Rr",
      "execution_count": null,
      "outputs": []
    },
    {
      "cell_type": "code",
      "source": [],
      "metadata": {
        "id": "6Xltgy_xYWpz"
      },
      "id": "6Xltgy_xYWpz",
      "execution_count": null,
      "outputs": []
    },
    {
      "cell_type": "code",
      "source": [
        "dfLeitungKPI"
      ],
      "metadata": {
        "id": "NurYXs1JYlG0",
        "outputId": "24805ae3-6859-4a4f-8a57-15fef2d73f59",
        "colab": {
          "base_uri": "https://localhost:8080/",
          "height": 582
        }
      },
      "id": "NurYXs1JYlG0",
      "execution_count": 8,
      "outputs": [
        {
          "output_type": "execute_result",
          "data": {
            "text/plain": [
              "      StromnetzTyp Spannung    LeitungTyp        Laenge       Datum\n",
              "0   Allgemeinstrom   Andere   Freileitung  3.785600e+06  2023-05-03\n",
              "1   Allgemeinstrom   Andere  Kabelleitung  2.215100e+04  2023-05-03\n",
              "2   Allgemeinstrom   S110kV   Freileitung  1.390137e+06  2023-05-03\n",
              "3   Allgemeinstrom   S110kV  Kabelleitung  4.018931e+05  2023-05-03\n",
              "4   Allgemeinstrom   S132kV  Kabelleitung  9.624992e+04  2023-05-03\n",
              "5   Allgemeinstrom   S150kV   Freileitung  6.401418e+04  2023-05-03\n",
              "6   Allgemeinstrom   S150kV  Kabelleitung  3.967614e+05  2023-05-03\n",
              "7   Allgemeinstrom   S220kV   Freileitung  4.832284e+06  2023-05-03\n",
              "8   Allgemeinstrom   S220kV  Kabelleitung  2.501321e+04  2023-05-03\n",
              "9   Allgemeinstrom   S380kV   Freileitung  1.893143e+06  2023-05-03\n",
              "10  Allgemeinstrom   S380kV  Kabelleitung  2.204458e+04  2023-05-03\n",
              "11  Allgemeinstrom    S50kV   Freileitung  3.623561e+05  2023-05-03\n",
              "12  Allgemeinstrom    S50kV  Kabelleitung  6.831027e+05  2023-05-03\n",
              "13  Allgemeinstrom    S60kV   Freileitung  1.045754e+04  2023-05-03\n",
              "14  Allgemeinstrom    S60kV  Kabelleitung  3.599944e+04  2023-05-03\n",
              "15  Allgemeinstrom    S65kV   Freileitung  1.428735e+04  2023-05-03\n",
              "16  Allgemeinstrom    S65kV  Kabelleitung  1.326761e+03  2023-05-03"
            ],
            "text/html": [
              "\n",
              "  <div id=\"df-15b067e4-bafc-4ced-88a2-395929d1eb36\">\n",
              "    <div class=\"colab-df-container\">\n",
              "      <div>\n",
              "<style scoped>\n",
              "    .dataframe tbody tr th:only-of-type {\n",
              "        vertical-align: middle;\n",
              "    }\n",
              "\n",
              "    .dataframe tbody tr th {\n",
              "        vertical-align: top;\n",
              "    }\n",
              "\n",
              "    .dataframe thead th {\n",
              "        text-align: right;\n",
              "    }\n",
              "</style>\n",
              "<table border=\"1\" class=\"dataframe\">\n",
              "  <thead>\n",
              "    <tr style=\"text-align: right;\">\n",
              "      <th></th>\n",
              "      <th>StromnetzTyp</th>\n",
              "      <th>Spannung</th>\n",
              "      <th>LeitungTyp</th>\n",
              "      <th>Laenge</th>\n",
              "      <th>Datum</th>\n",
              "    </tr>\n",
              "  </thead>\n",
              "  <tbody>\n",
              "    <tr>\n",
              "      <th>0</th>\n",
              "      <td>Allgemeinstrom</td>\n",
              "      <td>Andere</td>\n",
              "      <td>Freileitung</td>\n",
              "      <td>3.785600e+06</td>\n",
              "      <td>2023-05-03</td>\n",
              "    </tr>\n",
              "    <tr>\n",
              "      <th>1</th>\n",
              "      <td>Allgemeinstrom</td>\n",
              "      <td>Andere</td>\n",
              "      <td>Kabelleitung</td>\n",
              "      <td>2.215100e+04</td>\n",
              "      <td>2023-05-03</td>\n",
              "    </tr>\n",
              "    <tr>\n",
              "      <th>2</th>\n",
              "      <td>Allgemeinstrom</td>\n",
              "      <td>S110kV</td>\n",
              "      <td>Freileitung</td>\n",
              "      <td>1.390137e+06</td>\n",
              "      <td>2023-05-03</td>\n",
              "    </tr>\n",
              "    <tr>\n",
              "      <th>3</th>\n",
              "      <td>Allgemeinstrom</td>\n",
              "      <td>S110kV</td>\n",
              "      <td>Kabelleitung</td>\n",
              "      <td>4.018931e+05</td>\n",
              "      <td>2023-05-03</td>\n",
              "    </tr>\n",
              "    <tr>\n",
              "      <th>4</th>\n",
              "      <td>Allgemeinstrom</td>\n",
              "      <td>S132kV</td>\n",
              "      <td>Kabelleitung</td>\n",
              "      <td>9.624992e+04</td>\n",
              "      <td>2023-05-03</td>\n",
              "    </tr>\n",
              "    <tr>\n",
              "      <th>5</th>\n",
              "      <td>Allgemeinstrom</td>\n",
              "      <td>S150kV</td>\n",
              "      <td>Freileitung</td>\n",
              "      <td>6.401418e+04</td>\n",
              "      <td>2023-05-03</td>\n",
              "    </tr>\n",
              "    <tr>\n",
              "      <th>6</th>\n",
              "      <td>Allgemeinstrom</td>\n",
              "      <td>S150kV</td>\n",
              "      <td>Kabelleitung</td>\n",
              "      <td>3.967614e+05</td>\n",
              "      <td>2023-05-03</td>\n",
              "    </tr>\n",
              "    <tr>\n",
              "      <th>7</th>\n",
              "      <td>Allgemeinstrom</td>\n",
              "      <td>S220kV</td>\n",
              "      <td>Freileitung</td>\n",
              "      <td>4.832284e+06</td>\n",
              "      <td>2023-05-03</td>\n",
              "    </tr>\n",
              "    <tr>\n",
              "      <th>8</th>\n",
              "      <td>Allgemeinstrom</td>\n",
              "      <td>S220kV</td>\n",
              "      <td>Kabelleitung</td>\n",
              "      <td>2.501321e+04</td>\n",
              "      <td>2023-05-03</td>\n",
              "    </tr>\n",
              "    <tr>\n",
              "      <th>9</th>\n",
              "      <td>Allgemeinstrom</td>\n",
              "      <td>S380kV</td>\n",
              "      <td>Freileitung</td>\n",
              "      <td>1.893143e+06</td>\n",
              "      <td>2023-05-03</td>\n",
              "    </tr>\n",
              "    <tr>\n",
              "      <th>10</th>\n",
              "      <td>Allgemeinstrom</td>\n",
              "      <td>S380kV</td>\n",
              "      <td>Kabelleitung</td>\n",
              "      <td>2.204458e+04</td>\n",
              "      <td>2023-05-03</td>\n",
              "    </tr>\n",
              "    <tr>\n",
              "      <th>11</th>\n",
              "      <td>Allgemeinstrom</td>\n",
              "      <td>S50kV</td>\n",
              "      <td>Freileitung</td>\n",
              "      <td>3.623561e+05</td>\n",
              "      <td>2023-05-03</td>\n",
              "    </tr>\n",
              "    <tr>\n",
              "      <th>12</th>\n",
              "      <td>Allgemeinstrom</td>\n",
              "      <td>S50kV</td>\n",
              "      <td>Kabelleitung</td>\n",
              "      <td>6.831027e+05</td>\n",
              "      <td>2023-05-03</td>\n",
              "    </tr>\n",
              "    <tr>\n",
              "      <th>13</th>\n",
              "      <td>Allgemeinstrom</td>\n",
              "      <td>S60kV</td>\n",
              "      <td>Freileitung</td>\n",
              "      <td>1.045754e+04</td>\n",
              "      <td>2023-05-03</td>\n",
              "    </tr>\n",
              "    <tr>\n",
              "      <th>14</th>\n",
              "      <td>Allgemeinstrom</td>\n",
              "      <td>S60kV</td>\n",
              "      <td>Kabelleitung</td>\n",
              "      <td>3.599944e+04</td>\n",
              "      <td>2023-05-03</td>\n",
              "    </tr>\n",
              "    <tr>\n",
              "      <th>15</th>\n",
              "      <td>Allgemeinstrom</td>\n",
              "      <td>S65kV</td>\n",
              "      <td>Freileitung</td>\n",
              "      <td>1.428735e+04</td>\n",
              "      <td>2023-05-03</td>\n",
              "    </tr>\n",
              "    <tr>\n",
              "      <th>16</th>\n",
              "      <td>Allgemeinstrom</td>\n",
              "      <td>S65kV</td>\n",
              "      <td>Kabelleitung</td>\n",
              "      <td>1.326761e+03</td>\n",
              "      <td>2023-05-03</td>\n",
              "    </tr>\n",
              "  </tbody>\n",
              "</table>\n",
              "</div>\n",
              "      <button class=\"colab-df-convert\" onclick=\"convertToInteractive('df-15b067e4-bafc-4ced-88a2-395929d1eb36')\"\n",
              "              title=\"Convert this dataframe to an interactive table.\"\n",
              "              style=\"display:none;\">\n",
              "        \n",
              "  <svg xmlns=\"http://www.w3.org/2000/svg\" height=\"24px\"viewBox=\"0 0 24 24\"\n",
              "       width=\"24px\">\n",
              "    <path d=\"M0 0h24v24H0V0z\" fill=\"none\"/>\n",
              "    <path d=\"M18.56 5.44l.94 2.06.94-2.06 2.06-.94-2.06-.94-.94-2.06-.94 2.06-2.06.94zm-11 1L8.5 8.5l.94-2.06 2.06-.94-2.06-.94L8.5 2.5l-.94 2.06-2.06.94zm10 10l.94 2.06.94-2.06 2.06-.94-2.06-.94-.94-2.06-.94 2.06-2.06.94z\"/><path d=\"M17.41 7.96l-1.37-1.37c-.4-.4-.92-.59-1.43-.59-.52 0-1.04.2-1.43.59L10.3 9.45l-7.72 7.72c-.78.78-.78 2.05 0 2.83L4 21.41c.39.39.9.59 1.41.59.51 0 1.02-.2 1.41-.59l7.78-7.78 2.81-2.81c.8-.78.8-2.07 0-2.86zM5.41 20L4 18.59l7.72-7.72 1.47 1.35L5.41 20z\"/>\n",
              "  </svg>\n",
              "      </button>\n",
              "      \n",
              "  <style>\n",
              "    .colab-df-container {\n",
              "      display:flex;\n",
              "      flex-wrap:wrap;\n",
              "      gap: 12px;\n",
              "    }\n",
              "\n",
              "    .colab-df-convert {\n",
              "      background-color: #E8F0FE;\n",
              "      border: none;\n",
              "      border-radius: 50%;\n",
              "      cursor: pointer;\n",
              "      display: none;\n",
              "      fill: #1967D2;\n",
              "      height: 32px;\n",
              "      padding: 0 0 0 0;\n",
              "      width: 32px;\n",
              "    }\n",
              "\n",
              "    .colab-df-convert:hover {\n",
              "      background-color: #E2EBFA;\n",
              "      box-shadow: 0px 1px 2px rgba(60, 64, 67, 0.3), 0px 1px 3px 1px rgba(60, 64, 67, 0.15);\n",
              "      fill: #174EA6;\n",
              "    }\n",
              "\n",
              "    [theme=dark] .colab-df-convert {\n",
              "      background-color: #3B4455;\n",
              "      fill: #D2E3FC;\n",
              "    }\n",
              "\n",
              "    [theme=dark] .colab-df-convert:hover {\n",
              "      background-color: #434B5C;\n",
              "      box-shadow: 0px 1px 3px 1px rgba(0, 0, 0, 0.15);\n",
              "      filter: drop-shadow(0px 1px 2px rgba(0, 0, 0, 0.3));\n",
              "      fill: #FFFFFF;\n",
              "    }\n",
              "  </style>\n",
              "\n",
              "      <script>\n",
              "        const buttonEl =\n",
              "          document.querySelector('#df-15b067e4-bafc-4ced-88a2-395929d1eb36 button.colab-df-convert');\n",
              "        buttonEl.style.display =\n",
              "          google.colab.kernel.accessAllowed ? 'block' : 'none';\n",
              "\n",
              "        async function convertToInteractive(key) {\n",
              "          const element = document.querySelector('#df-15b067e4-bafc-4ced-88a2-395929d1eb36');\n",
              "          const dataTable =\n",
              "            await google.colab.kernel.invokeFunction('convertToInteractive',\n",
              "                                                     [key], {});\n",
              "          if (!dataTable) return;\n",
              "\n",
              "          const docLinkHtml = 'Like what you see? Visit the ' +\n",
              "            '<a target=\"_blank\" href=https://colab.research.google.com/notebooks/data_table.ipynb>data table notebook</a>'\n",
              "            + ' to learn more about interactive tables.';\n",
              "          element.innerHTML = '';\n",
              "          dataTable['output_type'] = 'display_data';\n",
              "          await google.colab.output.renderOutput(dataTable, element);\n",
              "          const docLink = document.createElement('div');\n",
              "          docLink.innerHTML = docLinkHtml;\n",
              "          element.appendChild(docLink);\n",
              "        }\n",
              "      </script>\n",
              "    </div>\n",
              "  </div>\n",
              "  "
            ]
          },
          "metadata": {},
          "execution_count": 8
        }
      ]
    },
    {
      "cell_type": "code",
      "source": [
        "df380 = dfLeitungKPI.loc[dfLeitungKPI['Spannung']=='S380kV']\n",
        "df220 = dfLeitungKPI.loc[dfLeitungKPI['Spannung']=='S220kV']\n",
        "df150 = dfLeitungKPI.loc[(dfLeitungKPI['StromnetzTyp']=='Allgemeinstrom') & (dfLeitungKPI['Spannung'].isin(['S150kV','S132kV','S130kV','S125kV','S110kV']))]\n",
        "df66 = dfLeitungKPI.loc[(dfLeitungKPI['StromnetzTyp']=='Allgemeinstrom') & (dfLeitungKPI['Spannung'].isin(['S66kV','S65kV','S60kV','S50kV','S36kV','Andere']))]"
      ],
      "metadata": {
        "id": "2VoloNrtjS3F"
      },
      "id": "2VoloNrtjS3F",
      "execution_count": 91,
      "outputs": []
    },
    {
      "cell_type": "code",
      "source": [
        "df66"
      ],
      "metadata": {
        "id": "vOuwocIxj0Mc",
        "outputId": "fd6136fb-acbd-4328-fa44-64dcf8ba1996",
        "colab": {
          "base_uri": "https://localhost:8080/",
          "height": 300
        }
      },
      "id": "vOuwocIxj0Mc",
      "execution_count": 92,
      "outputs": [
        {
          "output_type": "execute_result",
          "data": {
            "text/plain": [
              "      StromnetzTyp Spannung    LeitungTyp        Laenge       Datum\n",
              "0   Allgemeinstrom   Andere   Freileitung  3.785600e+06  2023-05-03\n",
              "1   Allgemeinstrom   Andere  Kabelleitung  2.215100e+04  2023-05-03\n",
              "11  Allgemeinstrom    S50kV   Freileitung  3.623561e+05  2023-05-03\n",
              "12  Allgemeinstrom    S50kV  Kabelleitung  6.831027e+05  2023-05-03\n",
              "13  Allgemeinstrom    S60kV   Freileitung  1.045754e+04  2023-05-03\n",
              "14  Allgemeinstrom    S60kV  Kabelleitung  3.599944e+04  2023-05-03\n",
              "15  Allgemeinstrom    S65kV   Freileitung  1.428735e+04  2023-05-03\n",
              "16  Allgemeinstrom    S65kV  Kabelleitung  1.326761e+03  2023-05-03"
            ],
            "text/html": [
              "\n",
              "  <div id=\"df-43ae4d23-236f-42cd-bc73-fcaff8f12438\">\n",
              "    <div class=\"colab-df-container\">\n",
              "      <div>\n",
              "<style scoped>\n",
              "    .dataframe tbody tr th:only-of-type {\n",
              "        vertical-align: middle;\n",
              "    }\n",
              "\n",
              "    .dataframe tbody tr th {\n",
              "        vertical-align: top;\n",
              "    }\n",
              "\n",
              "    .dataframe thead th {\n",
              "        text-align: right;\n",
              "    }\n",
              "</style>\n",
              "<table border=\"1\" class=\"dataframe\">\n",
              "  <thead>\n",
              "    <tr style=\"text-align: right;\">\n",
              "      <th></th>\n",
              "      <th>StromnetzTyp</th>\n",
              "      <th>Spannung</th>\n",
              "      <th>LeitungTyp</th>\n",
              "      <th>Laenge</th>\n",
              "      <th>Datum</th>\n",
              "    </tr>\n",
              "  </thead>\n",
              "  <tbody>\n",
              "    <tr>\n",
              "      <th>0</th>\n",
              "      <td>Allgemeinstrom</td>\n",
              "      <td>Andere</td>\n",
              "      <td>Freileitung</td>\n",
              "      <td>3.785600e+06</td>\n",
              "      <td>2023-05-03</td>\n",
              "    </tr>\n",
              "    <tr>\n",
              "      <th>1</th>\n",
              "      <td>Allgemeinstrom</td>\n",
              "      <td>Andere</td>\n",
              "      <td>Kabelleitung</td>\n",
              "      <td>2.215100e+04</td>\n",
              "      <td>2023-05-03</td>\n",
              "    </tr>\n",
              "    <tr>\n",
              "      <th>11</th>\n",
              "      <td>Allgemeinstrom</td>\n",
              "      <td>S50kV</td>\n",
              "      <td>Freileitung</td>\n",
              "      <td>3.623561e+05</td>\n",
              "      <td>2023-05-03</td>\n",
              "    </tr>\n",
              "    <tr>\n",
              "      <th>12</th>\n",
              "      <td>Allgemeinstrom</td>\n",
              "      <td>S50kV</td>\n",
              "      <td>Kabelleitung</td>\n",
              "      <td>6.831027e+05</td>\n",
              "      <td>2023-05-03</td>\n",
              "    </tr>\n",
              "    <tr>\n",
              "      <th>13</th>\n",
              "      <td>Allgemeinstrom</td>\n",
              "      <td>S60kV</td>\n",
              "      <td>Freileitung</td>\n",
              "      <td>1.045754e+04</td>\n",
              "      <td>2023-05-03</td>\n",
              "    </tr>\n",
              "    <tr>\n",
              "      <th>14</th>\n",
              "      <td>Allgemeinstrom</td>\n",
              "      <td>S60kV</td>\n",
              "      <td>Kabelleitung</td>\n",
              "      <td>3.599944e+04</td>\n",
              "      <td>2023-05-03</td>\n",
              "    </tr>\n",
              "    <tr>\n",
              "      <th>15</th>\n",
              "      <td>Allgemeinstrom</td>\n",
              "      <td>S65kV</td>\n",
              "      <td>Freileitung</td>\n",
              "      <td>1.428735e+04</td>\n",
              "      <td>2023-05-03</td>\n",
              "    </tr>\n",
              "    <tr>\n",
              "      <th>16</th>\n",
              "      <td>Allgemeinstrom</td>\n",
              "      <td>S65kV</td>\n",
              "      <td>Kabelleitung</td>\n",
              "      <td>1.326761e+03</td>\n",
              "      <td>2023-05-03</td>\n",
              "    </tr>\n",
              "  </tbody>\n",
              "</table>\n",
              "</div>\n",
              "      <button class=\"colab-df-convert\" onclick=\"convertToInteractive('df-43ae4d23-236f-42cd-bc73-fcaff8f12438')\"\n",
              "              title=\"Convert this dataframe to an interactive table.\"\n",
              "              style=\"display:none;\">\n",
              "        \n",
              "  <svg xmlns=\"http://www.w3.org/2000/svg\" height=\"24px\"viewBox=\"0 0 24 24\"\n",
              "       width=\"24px\">\n",
              "    <path d=\"M0 0h24v24H0V0z\" fill=\"none\"/>\n",
              "    <path d=\"M18.56 5.44l.94 2.06.94-2.06 2.06-.94-2.06-.94-.94-2.06-.94 2.06-2.06.94zm-11 1L8.5 8.5l.94-2.06 2.06-.94-2.06-.94L8.5 2.5l-.94 2.06-2.06.94zm10 10l.94 2.06.94-2.06 2.06-.94-2.06-.94-.94-2.06-.94 2.06-2.06.94z\"/><path d=\"M17.41 7.96l-1.37-1.37c-.4-.4-.92-.59-1.43-.59-.52 0-1.04.2-1.43.59L10.3 9.45l-7.72 7.72c-.78.78-.78 2.05 0 2.83L4 21.41c.39.39.9.59 1.41.59.51 0 1.02-.2 1.41-.59l7.78-7.78 2.81-2.81c.8-.78.8-2.07 0-2.86zM5.41 20L4 18.59l7.72-7.72 1.47 1.35L5.41 20z\"/>\n",
              "  </svg>\n",
              "      </button>\n",
              "      \n",
              "  <style>\n",
              "    .colab-df-container {\n",
              "      display:flex;\n",
              "      flex-wrap:wrap;\n",
              "      gap: 12px;\n",
              "    }\n",
              "\n",
              "    .colab-df-convert {\n",
              "      background-color: #E8F0FE;\n",
              "      border: none;\n",
              "      border-radius: 50%;\n",
              "      cursor: pointer;\n",
              "      display: none;\n",
              "      fill: #1967D2;\n",
              "      height: 32px;\n",
              "      padding: 0 0 0 0;\n",
              "      width: 32px;\n",
              "    }\n",
              "\n",
              "    .colab-df-convert:hover {\n",
              "      background-color: #E2EBFA;\n",
              "      box-shadow: 0px 1px 2px rgba(60, 64, 67, 0.3), 0px 1px 3px 1px rgba(60, 64, 67, 0.15);\n",
              "      fill: #174EA6;\n",
              "    }\n",
              "\n",
              "    [theme=dark] .colab-df-convert {\n",
              "      background-color: #3B4455;\n",
              "      fill: #D2E3FC;\n",
              "    }\n",
              "\n",
              "    [theme=dark] .colab-df-convert:hover {\n",
              "      background-color: #434B5C;\n",
              "      box-shadow: 0px 1px 3px 1px rgba(0, 0, 0, 0.15);\n",
              "      filter: drop-shadow(0px 1px 2px rgba(0, 0, 0, 0.3));\n",
              "      fill: #FFFFFF;\n",
              "    }\n",
              "  </style>\n",
              "\n",
              "      <script>\n",
              "        const buttonEl =\n",
              "          document.querySelector('#df-43ae4d23-236f-42cd-bc73-fcaff8f12438 button.colab-df-convert');\n",
              "        buttonEl.style.display =\n",
              "          google.colab.kernel.accessAllowed ? 'block' : 'none';\n",
              "\n",
              "        async function convertToInteractive(key) {\n",
              "          const element = document.querySelector('#df-43ae4d23-236f-42cd-bc73-fcaff8f12438');\n",
              "          const dataTable =\n",
              "            await google.colab.kernel.invokeFunction('convertToInteractive',\n",
              "                                                     [key], {});\n",
              "          if (!dataTable) return;\n",
              "\n",
              "          const docLinkHtml = 'Like what you see? Visit the ' +\n",
              "            '<a target=\"_blank\" href=https://colab.research.google.com/notebooks/data_table.ipynb>data table notebook</a>'\n",
              "            + ' to learn more about interactive tables.';\n",
              "          element.innerHTML = '';\n",
              "          dataTable['output_type'] = 'display_data';\n",
              "          await google.colab.output.renderOutput(dataTable, element);\n",
              "          const docLink = document.createElement('div');\n",
              "          docLink.innerHTML = docLinkHtml;\n",
              "          element.appendChild(docLink);\n",
              "        }\n",
              "      </script>\n",
              "    </div>\n",
              "  </div>\n",
              "  "
            ]
          },
          "metadata": {},
          "execution_count": 92
        }
      ]
    },
    {
      "cell_type": "code",
      "source": [
        "dfLeitungStorymap = pd.DataFrame()"
      ],
      "metadata": {
        "id": "HCPc_NyVcvli"
      },
      "id": "HCPc_NyVcvli",
      "execution_count": 80,
      "outputs": []
    },
    {
      "cell_type": "code",
      "source": [
        "dfLeitungStorymap['220kV_Kabel'] = dfLeitungKPI.loc[(dfLeitungKPI['StromnetzTyp']=='Allgemeinstrom') & (dfLeitungKPI['Spannung']=='S220kV') & (dfLeitungKPI['LeitungTyp']=='Kabelleitung')]['Laenge']\n",
        "dfLeitungStorymap['380kV_Kabel'] = dfLeitungKPI.loc[(dfLeitungKPI['StromnetzTyp']=='Allgemeinstrom') & (dfLeitungKPI['Spannung']=='S380kV') & (dfLeitungKPI['LeitungTyp']=='Kabelleitung')]['Laenge']\n",
        "\n",
        "\n",
        "dfLeitungStorymap['220kV_Total'] = dfLeitungKPI.loc[(dfLeitungKPI['StromnetzTyp']=='Allgemeinstrom') & (dfLeitungKPI['Spannung']=='S220kV')]['Laenge'].sum()\n",
        "dfLeitungStorymap['380kV_Total'] = dfLeitungKPI.loc[(dfLeitungKPI['StromnetzTyp']=='Allgemeinstrom') & (dfLeitungKPI['Spannung']=='S380kV')]['Laenge'].sum()\n",
        "\n",
        "dfLeitungStorymap"
      ],
      "metadata": {
        "id": "oxxHCFIBW0AK",
        "outputId": "651a0a94-1ce6-403c-ab62-efb7566cbb19",
        "colab": {
          "base_uri": "https://localhost:8080/",
          "height": 81
        }
      },
      "id": "oxxHCFIBW0AK",
      "execution_count": 81,
      "outputs": [
        {
          "output_type": "execute_result",
          "data": {
            "text/plain": [
              "    220kV_Kabel  380kV_Kabel   220kV_Total   380kV_Total\n",
              "8  25013.209003          NaN  4.857297e+06  1.915187e+06"
            ],
            "text/html": [
              "\n",
              "  <div id=\"df-16973c9a-3dc7-4bf5-983c-ef062bee2fda\">\n",
              "    <div class=\"colab-df-container\">\n",
              "      <div>\n",
              "<style scoped>\n",
              "    .dataframe tbody tr th:only-of-type {\n",
              "        vertical-align: middle;\n",
              "    }\n",
              "\n",
              "    .dataframe tbody tr th {\n",
              "        vertical-align: top;\n",
              "    }\n",
              "\n",
              "    .dataframe thead th {\n",
              "        text-align: right;\n",
              "    }\n",
              "</style>\n",
              "<table border=\"1\" class=\"dataframe\">\n",
              "  <thead>\n",
              "    <tr style=\"text-align: right;\">\n",
              "      <th></th>\n",
              "      <th>220kV_Kabel</th>\n",
              "      <th>380kV_Kabel</th>\n",
              "      <th>220kV_Total</th>\n",
              "      <th>380kV_Total</th>\n",
              "    </tr>\n",
              "  </thead>\n",
              "  <tbody>\n",
              "    <tr>\n",
              "      <th>8</th>\n",
              "      <td>25013.209003</td>\n",
              "      <td>NaN</td>\n",
              "      <td>4.857297e+06</td>\n",
              "      <td>1.915187e+06</td>\n",
              "    </tr>\n",
              "  </tbody>\n",
              "</table>\n",
              "</div>\n",
              "      <button class=\"colab-df-convert\" onclick=\"convertToInteractive('df-16973c9a-3dc7-4bf5-983c-ef062bee2fda')\"\n",
              "              title=\"Convert this dataframe to an interactive table.\"\n",
              "              style=\"display:none;\">\n",
              "        \n",
              "  <svg xmlns=\"http://www.w3.org/2000/svg\" height=\"24px\"viewBox=\"0 0 24 24\"\n",
              "       width=\"24px\">\n",
              "    <path d=\"M0 0h24v24H0V0z\" fill=\"none\"/>\n",
              "    <path d=\"M18.56 5.44l.94 2.06.94-2.06 2.06-.94-2.06-.94-.94-2.06-.94 2.06-2.06.94zm-11 1L8.5 8.5l.94-2.06 2.06-.94-2.06-.94L8.5 2.5l-.94 2.06-2.06.94zm10 10l.94 2.06.94-2.06 2.06-.94-2.06-.94-.94-2.06-.94 2.06-2.06.94z\"/><path d=\"M17.41 7.96l-1.37-1.37c-.4-.4-.92-.59-1.43-.59-.52 0-1.04.2-1.43.59L10.3 9.45l-7.72 7.72c-.78.78-.78 2.05 0 2.83L4 21.41c.39.39.9.59 1.41.59.51 0 1.02-.2 1.41-.59l7.78-7.78 2.81-2.81c.8-.78.8-2.07 0-2.86zM5.41 20L4 18.59l7.72-7.72 1.47 1.35L5.41 20z\"/>\n",
              "  </svg>\n",
              "      </button>\n",
              "      \n",
              "  <style>\n",
              "    .colab-df-container {\n",
              "      display:flex;\n",
              "      flex-wrap:wrap;\n",
              "      gap: 12px;\n",
              "    }\n",
              "\n",
              "    .colab-df-convert {\n",
              "      background-color: #E8F0FE;\n",
              "      border: none;\n",
              "      border-radius: 50%;\n",
              "      cursor: pointer;\n",
              "      display: none;\n",
              "      fill: #1967D2;\n",
              "      height: 32px;\n",
              "      padding: 0 0 0 0;\n",
              "      width: 32px;\n",
              "    }\n",
              "\n",
              "    .colab-df-convert:hover {\n",
              "      background-color: #E2EBFA;\n",
              "      box-shadow: 0px 1px 2px rgba(60, 64, 67, 0.3), 0px 1px 3px 1px rgba(60, 64, 67, 0.15);\n",
              "      fill: #174EA6;\n",
              "    }\n",
              "\n",
              "    [theme=dark] .colab-df-convert {\n",
              "      background-color: #3B4455;\n",
              "      fill: #D2E3FC;\n",
              "    }\n",
              "\n",
              "    [theme=dark] .colab-df-convert:hover {\n",
              "      background-color: #434B5C;\n",
              "      box-shadow: 0px 1px 3px 1px rgba(0, 0, 0, 0.15);\n",
              "      filter: drop-shadow(0px 1px 2px rgba(0, 0, 0, 0.3));\n",
              "      fill: #FFFFFF;\n",
              "    }\n",
              "  </style>\n",
              "\n",
              "      <script>\n",
              "        const buttonEl =\n",
              "          document.querySelector('#df-16973c9a-3dc7-4bf5-983c-ef062bee2fda button.colab-df-convert');\n",
              "        buttonEl.style.display =\n",
              "          google.colab.kernel.accessAllowed ? 'block' : 'none';\n",
              "\n",
              "        async function convertToInteractive(key) {\n",
              "          const element = document.querySelector('#df-16973c9a-3dc7-4bf5-983c-ef062bee2fda');\n",
              "          const dataTable =\n",
              "            await google.colab.kernel.invokeFunction('convertToInteractive',\n",
              "                                                     [key], {});\n",
              "          if (!dataTable) return;\n",
              "\n",
              "          const docLinkHtml = 'Like what you see? Visit the ' +\n",
              "            '<a target=\"_blank\" href=https://colab.research.google.com/notebooks/data_table.ipynb>data table notebook</a>'\n",
              "            + ' to learn more about interactive tables.';\n",
              "          element.innerHTML = '';\n",
              "          dataTable['output_type'] = 'display_data';\n",
              "          await google.colab.output.renderOutput(dataTable, element);\n",
              "          const docLink = document.createElement('div');\n",
              "          docLink.innerHTML = docLinkHtml;\n",
              "          element.appendChild(docLink);\n",
              "        }\n",
              "      </script>\n",
              "    </div>\n",
              "  </div>\n",
              "  "
            ]
          },
          "metadata": {},
          "execution_count": 81
        }
      ]
    },
    {
      "cell_type": "code",
      "source": [
        "dfLeitungKPI.loc[(dfLeitungKPI['StromnetzTyp']=='Allgemeinstrom') & (dfLeitungKPI['Spannung'].isin(['S150kV','S132kV','S130kV','S125kV','S110kV']))]['Laenge'].sum()"
      ],
      "metadata": {
        "id": "V8H05U7bWmyc",
        "outputId": "38d0dcb1-314e-4554-d4a9-e5353d9f26b4",
        "colab": {
          "base_uri": "https://localhost:8080/"
        }
      },
      "id": "V8H05U7bWmyc",
      "execution_count": 60,
      "outputs": [
        {
          "output_type": "execute_result",
          "data": {
            "text/plain": [
              "2349055.7257298105"
            ]
          },
          "metadata": {},
          "execution_count": 60
        }
      ]
    },
    {
      "cell_type": "code",
      "source": [
        "dfLeitungKPI.loc[(dfLeitungKPI['StromnetzTyp']=='Allgemeinstrom') & (dfLeitungKPI['Spannung']=='S380kV')]['Laenge'].sum()"
      ],
      "metadata": {
        "id": "11f3tqxzcCMP",
        "outputId": "e0513f5c-743a-4848-cf87-5d1f95e861e2",
        "colab": {
          "base_uri": "https://localhost:8080/"
        }
      },
      "id": "11f3tqxzcCMP",
      "execution_count": 29,
      "outputs": [
        {
          "output_type": "execute_result",
          "data": {
            "text/plain": [
              "1915187.111823888"
            ]
          },
          "metadata": {},
          "execution_count": 29
        }
      ]
    },
    {
      "cell_type": "code",
      "source": [
        "dfLeitungStorymap['150kV_Kabel'] = dfLeitungKPI.loc[(dfLeitungKPI['StromnetzTyp']=='Allgemeinstrom') & (dfLeitungKPI['Spannung'].isin(['S150kV','S132kV','S130kV','S125kV','S110kV'])) & (dfLeitungKPI['LeitungTyp']=='Kabelleitung')]['Laenge']"
      ],
      "metadata": {
        "id": "7P3U3SGmctoU"
      },
      "id": "7P3U3SGmctoU",
      "execution_count": null,
      "outputs": []
    }
  ],
  "metadata": {
    "kernelspec": {
      "display_name": "Python 3",
      "language": "python",
      "name": "python3"
    },
    "language_info": {
      "codemirror_mode": {
        "name": "ipython",
        "version": 3
      },
      "file_extension": ".py",
      "mimetype": "text/x-python",
      "name": "python",
      "nbconvert_exporter": "python",
      "pygments_lexer": "ipython3",
      "version": "3.7.11"
    },
    "colab": {
      "provenance": [],
      "include_colab_link": true
    }
  },
  "nbformat": 4,
  "nbformat_minor": 5
}