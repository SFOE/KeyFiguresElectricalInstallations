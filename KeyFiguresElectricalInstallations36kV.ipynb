{
  "cells": [
    {
      "cell_type": "markdown",
      "metadata": {
        "id": "view-in-github",
        "colab_type": "text"
      },
      "source": [
        "<a href=\"https://colab.research.google.com/github/nrohrbach/KeyFiguresElectricalInstallations/blob/main/KeyFiguresElectricalInstallations36kV.ipynb\" target=\"_parent\"><img src=\"https://colab.research.google.com/assets/colab-badge.svg\" alt=\"Open In Colab\"/></a>"
      ]
    },
    {
      "cell_type": "markdown",
      "source": [
        "# Kennzahlen Geobasisdatensatz Elektrische Anlagen mit einer Nennspannung von über 36kV\n",
        "\n",
        "---\n",
        "\n",
        "Notebook um Kennzahlen des Geobasisdatensatzes \"Elektrische Anlagen mit einer Nennspannung von über 36kV abzuleiten.\n",
        "\n",
        "\n",
        "**Offene Fragen**\n",
        "\n",
        "*   Sollen bei Leitungen die Erdungen auch gezählt werden oder nicht?\n",
        "*   Hat Swissgrid auch Stationen der Netzebene 4?\n",
        "\n",
        "**ToDo**\n",
        "\n",
        "*   Kennzahlen Stationen nach Netzebene 2 und 4 unterteilen\n",
        "\n",
        "\n",
        "\n"
      ],
      "metadata": {
        "id": "TvAaPsApM6kf"
      },
      "id": "TvAaPsApM6kf"
    },
    {
      "cell_type": "code",
      "source": [
        "#pip install geopandas"
      ],
      "metadata": {
        "id": "BtBcPFkSsYlX"
      },
      "id": "BtBcPFkSsYlX",
      "execution_count": null,
      "outputs": []
    },
    {
      "cell_type": "code",
      "source": [
        "#pip install datetime"
      ],
      "metadata": {
        "id": "FIFlyBbH1nym"
      },
      "id": "FIFlyBbH1nym",
      "execution_count": null,
      "outputs": []
    },
    {
      "cell_type": "code",
      "source": [
        "import geopandas as gpd\n",
        "from datetime import datetime"
      ],
      "metadata": {
        "id": "O1snWJw5Nm8f"
      },
      "id": "O1snWJw5Nm8f",
      "execution_count": 43,
      "outputs": []
    },
    {
      "cell_type": "code",
      "source": [
        "url = \"https://data.geo.admin.ch/ch.bfe.elektrische-anlagen_ueber_36/gpkg/2056/ElektrischeAnlagenNennspannungUeber36kV_V1.gpkg\"\n",
        "dfLeitung = gpd.read_file(url, driver=\"GPKG\", layer='ElektrischeAnlagenNennspannungUeber36kV_V1_ElektrischeAnlagen_Leitung')\n",
        "dfStation = gpd.read_file(url, driver=\"GPKG\", layer='ElektrischeAnlagenNennspannungUeber36kV_V1_ElektrischeAnlagen_Station')\n",
        "dfMast = gpd.read_file(url, driver=\"GPKG\", layer='ElektrischeAnlagenNennspannungUeber36kV_V1_ElektrischeAnlagen_Mast')"
      ],
      "metadata": {
        "id": "-xzTRhr-Nd4g",
        "colab": {
          "base_uri": "https://localhost:8080/"
        },
        "outputId": "87256b17-8af0-484f-c390-3da65ef18361"
      },
      "id": "-xzTRhr-Nd4g",
      "execution_count": 127,
      "outputs": [
        {
          "output_type": "stream",
          "name": "stderr",
          "text": [
            "WARNING:fiona._env:File /vsimem/aa6557b8d5a24acc89afbb5d5408b839 has GPKG application_id, but non conformant file extension\n",
            "WARNING:fiona._env:File /vsimem/16a73d72af444c7dbf49e444fbd37fed has GPKG application_id, but non conformant file extension\n",
            "WARNING:fiona._env:File /vsimem/33b5a6f3f0fe44558c6f91731be26906 has GPKG application_id, but non conformant file extension\n"
          ]
        }
      ]
    },
    {
      "cell_type": "markdown",
      "source": [
        "## Kennzahlen Leitungen"
      ],
      "metadata": {
        "id": "PRptTEzMFt3o"
      },
      "id": "PRptTEzMFt3o"
    },
    {
      "cell_type": "code",
      "source": [
        "# Länge der Leitungen berechnen und nach Spannung aufsummieren\n",
        "dfLeitung[\"Laenge\"] = dfLeitung.length\n",
        "dfLeitungKPI = dfLeitung.groupby(['StromnetzTyp','Spannung','LeitungTyp'])['Laenge'].sum()\n",
        "dfLeitungKPI = dfLeitungKPI.to_frame().reset_index()\n",
        "dfLeitungKPI['Datum'] = datetime.today().strftime(\"%Y-%m-%d\")"
      ],
      "metadata": {
        "id": "A5dxmBTfvY3u"
      },
      "id": "A5dxmBTfvY3u",
      "execution_count": 128,
      "outputs": []
    },
    {
      "cell_type": "code",
      "source": [
        "#Speichern\n",
        "dfLeitungKPI.to_csv(\"Kennzahlen_Leitungen.csv\", header=False, index=False, mode='a')"
      ],
      "metadata": {
        "id": "Dt1dONLBRkNV"
      },
      "id": "Dt1dONLBRkNV",
      "execution_count": 106,
      "outputs": []
    },
    {
      "cell_type": "markdown",
      "source": [
        "## Kennzahlen Masten"
      ],
      "metadata": {
        "id": "pH1oWHxLGONC"
      },
      "id": "pH1oWHxLGONC"
    },
    {
      "cell_type": "code",
      "source": [
        "dfMastKPI = dfMast.groupby(['StromnetzTyp','MastTyp'])['xtf_id'].count().reset_index()\n",
        "dfMastKPI = dfMastKPI.rename(columns={'xtf_id':'Anzahl'})\n",
        "dfMastKPI['Datum'] = datetime.today().strftime(\"%Y-%m-%d\")"
      ],
      "metadata": {
        "id": "cIqj0wiVGSCa"
      },
      "id": "cIqj0wiVGSCa",
      "execution_count": 107,
      "outputs": []
    },
    {
      "cell_type": "code",
      "source": [
        "#Speichern\n",
        "dfMastKPI.to_csv(\"Kennzahlen_Masten.csv\", header=True, index=False, mode='a')"
      ],
      "metadata": {
        "id": "N-dEcwdHGTgn"
      },
      "id": "N-dEcwdHGTgn",
      "execution_count": 108,
      "outputs": []
    },
    {
      "cell_type": "markdown",
      "source": [
        "## Kennzahlen Stationen"
      ],
      "metadata": {
        "id": "GGnwlH5EJX4A"
      },
      "id": "GGnwlH5EJX4A"
    },
    {
      "cell_type": "code",
      "source": [
        "dfStationKPI = dfStation.groupby(['StromnetzTyp','StationTyp'])['xtf_id'].count().reset_index()\n",
        "dfStationKPI = dfStationKPI.rename(columns={'xtf_id':'Anzahl'})\n",
        "dfStationKPI['Datum'] = datetime.today().strftime(\"%Y-%m-%d\")"
      ],
      "metadata": {
        "id": "Xa3Vnx8NGvEI"
      },
      "id": "Xa3Vnx8NGvEI",
      "execution_count": 111,
      "outputs": []
    },
    {
      "cell_type": "code",
      "source": [
        "#Speichern\n",
        "dfStationKPI.to_csv(\"Kennzahlen_Stationen.csv\", header=True, index=False, mode='a')\n"
      ],
      "metadata": {
        "id": "V1XOLqR3Jo5Q"
      },
      "id": "V1XOLqR3Jo5Q",
      "execution_count": 113,
      "outputs": []
    },
    {
      "cell_type": "markdown",
      "source": [
        "## Kennzahlen Werke"
      ],
      "metadata": {
        "id": "be5rdoCHR_Bs"
      },
      "id": "be5rdoCHR_Bs"
    },
    {
      "cell_type": "code",
      "source": [
        "# Leitungslänge pro Werk ableiten.\n",
        "dfWerkeLeitung = dfLeitung\n",
        "dfWerkeLeitung['Werk'] = dfWerkeLeitung['xtf_id'].str.split('_').str[0]\n",
        "dfWerkeLeitung = dfWerkeLeitung.groupby(['Werk'])['Laenge'].sum()\n",
        "dfWerkeLeitung = dfWerkeLeitung.to_frame().reset_index()"
      ],
      "metadata": {
        "id": "Ae33RtXcLsxO"
      },
      "id": "Ae33RtXcLsxO",
      "execution_count": 135,
      "outputs": []
    },
    {
      "cell_type": "code",
      "source": [],
      "metadata": {
        "id": "sqnsUSRgSCkE",
        "outputId": "3d4e70e4-88bf-416f-bd0f-34d2a6b8a9c6",
        "colab": {
          "base_uri": "https://localhost:8080/",
          "height": 206
        }
      },
      "id": "sqnsUSRgSCkE",
      "execution_count": 134,
      "outputs": [
        {
          "output_type": "execute_result",
          "data": {
            "text/plain": [
              "        Werk        Laenge\n",
              "0       axpo  2.241945e+06\n",
              "1        ibc  4.645698e+04\n",
              "2        iwb  1.137061e+06\n",
              "3    lagoule  2.334900e+04\n",
              "4  swissgrid  1.058801e+07"
            ],
            "text/html": [
              "\n",
              "  <div id=\"df-8813d87a-36e4-4d3e-852c-ce3d2621a6b4\">\n",
              "    <div class=\"colab-df-container\">\n",
              "      <div>\n",
              "<style scoped>\n",
              "    .dataframe tbody tr th:only-of-type {\n",
              "        vertical-align: middle;\n",
              "    }\n",
              "\n",
              "    .dataframe tbody tr th {\n",
              "        vertical-align: top;\n",
              "    }\n",
              "\n",
              "    .dataframe thead th {\n",
              "        text-align: right;\n",
              "    }\n",
              "</style>\n",
              "<table border=\"1\" class=\"dataframe\">\n",
              "  <thead>\n",
              "    <tr style=\"text-align: right;\">\n",
              "      <th></th>\n",
              "      <th>Werk</th>\n",
              "      <th>Laenge</th>\n",
              "    </tr>\n",
              "  </thead>\n",
              "  <tbody>\n",
              "    <tr>\n",
              "      <th>0</th>\n",
              "      <td>axpo</td>\n",
              "      <td>2.241945e+06</td>\n",
              "    </tr>\n",
              "    <tr>\n",
              "      <th>1</th>\n",
              "      <td>ibc</td>\n",
              "      <td>4.645698e+04</td>\n",
              "    </tr>\n",
              "    <tr>\n",
              "      <th>2</th>\n",
              "      <td>iwb</td>\n",
              "      <td>1.137061e+06</td>\n",
              "    </tr>\n",
              "    <tr>\n",
              "      <th>3</th>\n",
              "      <td>lagoule</td>\n",
              "      <td>2.334900e+04</td>\n",
              "    </tr>\n",
              "    <tr>\n",
              "      <th>4</th>\n",
              "      <td>swissgrid</td>\n",
              "      <td>1.058801e+07</td>\n",
              "    </tr>\n",
              "  </tbody>\n",
              "</table>\n",
              "</div>\n",
              "      <button class=\"colab-df-convert\" onclick=\"convertToInteractive('df-8813d87a-36e4-4d3e-852c-ce3d2621a6b4')\"\n",
              "              title=\"Convert this dataframe to an interactive table.\"\n",
              "              style=\"display:none;\">\n",
              "        \n",
              "  <svg xmlns=\"http://www.w3.org/2000/svg\" height=\"24px\"viewBox=\"0 0 24 24\"\n",
              "       width=\"24px\">\n",
              "    <path d=\"M0 0h24v24H0V0z\" fill=\"none\"/>\n",
              "    <path d=\"M18.56 5.44l.94 2.06.94-2.06 2.06-.94-2.06-.94-.94-2.06-.94 2.06-2.06.94zm-11 1L8.5 8.5l.94-2.06 2.06-.94-2.06-.94L8.5 2.5l-.94 2.06-2.06.94zm10 10l.94 2.06.94-2.06 2.06-.94-2.06-.94-.94-2.06-.94 2.06-2.06.94z\"/><path d=\"M17.41 7.96l-1.37-1.37c-.4-.4-.92-.59-1.43-.59-.52 0-1.04.2-1.43.59L10.3 9.45l-7.72 7.72c-.78.78-.78 2.05 0 2.83L4 21.41c.39.39.9.59 1.41.59.51 0 1.02-.2 1.41-.59l7.78-7.78 2.81-2.81c.8-.78.8-2.07 0-2.86zM5.41 20L4 18.59l7.72-7.72 1.47 1.35L5.41 20z\"/>\n",
              "  </svg>\n",
              "      </button>\n",
              "      \n",
              "  <style>\n",
              "    .colab-df-container {\n",
              "      display:flex;\n",
              "      flex-wrap:wrap;\n",
              "      gap: 12px;\n",
              "    }\n",
              "\n",
              "    .colab-df-convert {\n",
              "      background-color: #E8F0FE;\n",
              "      border: none;\n",
              "      border-radius: 50%;\n",
              "      cursor: pointer;\n",
              "      display: none;\n",
              "      fill: #1967D2;\n",
              "      height: 32px;\n",
              "      padding: 0 0 0 0;\n",
              "      width: 32px;\n",
              "    }\n",
              "\n",
              "    .colab-df-convert:hover {\n",
              "      background-color: #E2EBFA;\n",
              "      box-shadow: 0px 1px 2px rgba(60, 64, 67, 0.3), 0px 1px 3px 1px rgba(60, 64, 67, 0.15);\n",
              "      fill: #174EA6;\n",
              "    }\n",
              "\n",
              "    [theme=dark] .colab-df-convert {\n",
              "      background-color: #3B4455;\n",
              "      fill: #D2E3FC;\n",
              "    }\n",
              "\n",
              "    [theme=dark] .colab-df-convert:hover {\n",
              "      background-color: #434B5C;\n",
              "      box-shadow: 0px 1px 3px 1px rgba(0, 0, 0, 0.15);\n",
              "      filter: drop-shadow(0px 1px 2px rgba(0, 0, 0, 0.3));\n",
              "      fill: #FFFFFF;\n",
              "    }\n",
              "  </style>\n",
              "\n",
              "      <script>\n",
              "        const buttonEl =\n",
              "          document.querySelector('#df-8813d87a-36e4-4d3e-852c-ce3d2621a6b4 button.colab-df-convert');\n",
              "        buttonEl.style.display =\n",
              "          google.colab.kernel.accessAllowed ? 'block' : 'none';\n",
              "\n",
              "        async function convertToInteractive(key) {\n",
              "          const element = document.querySelector('#df-8813d87a-36e4-4d3e-852c-ce3d2621a6b4');\n",
              "          const dataTable =\n",
              "            await google.colab.kernel.invokeFunction('convertToInteractive',\n",
              "                                                     [key], {});\n",
              "          if (!dataTable) return;\n",
              "\n",
              "          const docLinkHtml = 'Like what you see? Visit the ' +\n",
              "            '<a target=\"_blank\" href=https://colab.research.google.com/notebooks/data_table.ipynb>data table notebook</a>'\n",
              "            + ' to learn more about interactive tables.';\n",
              "          element.innerHTML = '';\n",
              "          dataTable['output_type'] = 'display_data';\n",
              "          await google.colab.output.renderOutput(dataTable, element);\n",
              "          const docLink = document.createElement('div');\n",
              "          docLink.innerHTML = docLinkHtml;\n",
              "          element.appendChild(docLink);\n",
              "        }\n",
              "      </script>\n",
              "    </div>\n",
              "  </div>\n",
              "  "
            ]
          },
          "metadata": {},
          "execution_count": 134
        }
      ]
    },
    {
      "cell_type": "code",
      "source": [],
      "metadata": {
        "id": "dbOfts7UTmar"
      },
      "id": "dbOfts7UTmar",
      "execution_count": null,
      "outputs": []
    }
  ],
  "metadata": {
    "kernelspec": {
      "display_name": "Python 3",
      "language": "python",
      "name": "python3"
    },
    "language_info": {
      "codemirror_mode": {
        "name": "ipython",
        "version": 3
      },
      "file_extension": ".py",
      "mimetype": "text/x-python",
      "name": "python",
      "nbconvert_exporter": "python",
      "pygments_lexer": "ipython3",
      "version": "3.7.11"
    },
    "colab": {
      "provenance": [],
      "include_colab_link": true
    }
  },
  "nbformat": 4,
  "nbformat_minor": 5
}