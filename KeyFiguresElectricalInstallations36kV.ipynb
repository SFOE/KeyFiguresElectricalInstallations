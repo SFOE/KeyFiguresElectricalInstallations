{
  "cells": [
    {
      "cell_type": "markdown",
      "source": [
        "# Key Figures Electrical Installations >36kV\n",
        "Notebook to get key figures of the geodataset Electrical installations with a nominal voltage exceeding 36 kV"
      ],
      "metadata": {
        "id": "TvAaPsApM6kf"
      },
      "id": "TvAaPsApM6kf"
    },
    {
      "cell_type": "code",
      "source": [
        "pip install geopandas"
      ],
      "metadata": {
        "id": "BtBcPFkSsYlX"
      },
      "id": "BtBcPFkSsYlX",
      "execution_count": null,
      "outputs": []
    },
    {
      "cell_type": "code",
      "source": [
        "import geopandas as gpd"
      ],
      "metadata": {
        "id": "O1snWJw5Nm8f"
      },
      "id": "O1snWJw5Nm8f",
      "execution_count": 2,
      "outputs": []
    },
    {
      "cell_type": "code",
      "source": [
        "url = \"https://data.geo.admin.ch/ch.bfe.elektrische-anlagen_ueber_36/gpkg/2056/ElektrischeAnlagenNennspannungUeber36kV_V1.gpkg\"\n",
        "dfLeitung = gpd.read_file(url, driver=\"GPKG\", layer='ElektrischeAnlagenNennspannungUeber36kV_V1_ElektrischeAnlagen_Leitung')"
      ],
      "metadata": {
        "id": "-xzTRhr-Nd4g",
        "colab": {
          "base_uri": "https://localhost:8080/"
        },
        "outputId": "8806695d-fa88-4ddd-9fe9-f99674ff7e00"
      },
      "id": "-xzTRhr-Nd4g",
      "execution_count": 8,
      "outputs": [
        {
          "output_type": "stream",
          "name": "stderr",
          "text": [
            "WARNING:fiona._env:File /vsimem/0b2d88d892044e2bb68ea43a6b693a28 has GPKG application_id, but non conformant file extension\n"
          ]
        }
      ]
    },
    {
      "cell_type": "code",
      "source": [
        "dfLeitung[\"Length\"] = dfLeitung.length\n",
        "dfLength = dfLeitung.groupby(['Spannung'])['Length'].sum()"
      ],
      "metadata": {
        "id": "A5dxmBTfvY3u"
      },
      "id": "A5dxmBTfvY3u",
      "execution_count": 18,
      "outputs": []
    },
    {
      "cell_type": "code",
      "source": [
        "dfLeitung[dfLeitung['Spannung'] =='Andere'].groupby(['StromnetzTyp'])['Length'].sum()"
      ],
      "metadata": {
        "id": "0pa4XTODNkLv",
        "outputId": "19eb7d7a-09b2-455f-fc16-8dfeca03562d",
        "colab": {
          "base_uri": "https://localhost:8080/"
        }
      },
      "id": "0pa4XTODNkLv",
      "execution_count": 16,
      "outputs": [
        {
          "output_type": "execute_result",
          "data": {
            "text/plain": [
              "StromnetzTyp\n",
              "Allgemeinstrom    3.807751e+06\n",
              "Name: Length, dtype: float64"
            ]
          },
          "metadata": {},
          "execution_count": 16
        }
      ]
    },
    {
      "cell_type": "code",
      "source": [
        "dfLength.to_frame().transpose()"
      ],
      "metadata": {
        "id": "LR7tfhWtOVo2",
        "outputId": "8e925676-ce1c-4773-c8d6-a0f9099433f4",
        "colab": {
          "base_uri": "https://localhost:8080/",
          "height": 81
        }
      },
      "id": "LR7tfhWtOVo2",
      "execution_count": 23,
      "outputs": [
        {
          "output_type": "execute_result",
          "data": {
            "text/plain": [
              "Spannung        Andere        S110kV        S132kV         S150kV  \\\n",
              "Length    3.807751e+06  1.792030e+06  96249.917978  460775.593508   \n",
              "\n",
              "Spannung        S220kV        S380kV         S50kV         S60kV         S65kV  \n",
              "Length    4.857297e+06  1.915187e+06  1.045459e+06  46456.976728  15614.107936  "
            ],
            "text/html": [
              "\n",
              "  <div id=\"df-b2d42fde-1345-45de-977f-26ee001f1bea\">\n",
              "    <div class=\"colab-df-container\">\n",
              "      <div>\n",
              "<style scoped>\n",
              "    .dataframe tbody tr th:only-of-type {\n",
              "        vertical-align: middle;\n",
              "    }\n",
              "\n",
              "    .dataframe tbody tr th {\n",
              "        vertical-align: top;\n",
              "    }\n",
              "\n",
              "    .dataframe thead th {\n",
              "        text-align: right;\n",
              "    }\n",
              "</style>\n",
              "<table border=\"1\" class=\"dataframe\">\n",
              "  <thead>\n",
              "    <tr style=\"text-align: right;\">\n",
              "      <th>Spannung</th>\n",
              "      <th>Andere</th>\n",
              "      <th>S110kV</th>\n",
              "      <th>S132kV</th>\n",
              "      <th>S150kV</th>\n",
              "      <th>S220kV</th>\n",
              "      <th>S380kV</th>\n",
              "      <th>S50kV</th>\n",
              "      <th>S60kV</th>\n",
              "      <th>S65kV</th>\n",
              "    </tr>\n",
              "  </thead>\n",
              "  <tbody>\n",
              "    <tr>\n",
              "      <th>Length</th>\n",
              "      <td>3.807751e+06</td>\n",
              "      <td>1.792030e+06</td>\n",
              "      <td>96249.917978</td>\n",
              "      <td>460775.593508</td>\n",
              "      <td>4.857297e+06</td>\n",
              "      <td>1.915187e+06</td>\n",
              "      <td>1.045459e+06</td>\n",
              "      <td>46456.976728</td>\n",
              "      <td>15614.107936</td>\n",
              "    </tr>\n",
              "  </tbody>\n",
              "</table>\n",
              "</div>\n",
              "      <button class=\"colab-df-convert\" onclick=\"convertToInteractive('df-b2d42fde-1345-45de-977f-26ee001f1bea')\"\n",
              "              title=\"Convert this dataframe to an interactive table.\"\n",
              "              style=\"display:none;\">\n",
              "        \n",
              "  <svg xmlns=\"http://www.w3.org/2000/svg\" height=\"24px\"viewBox=\"0 0 24 24\"\n",
              "       width=\"24px\">\n",
              "    <path d=\"M0 0h24v24H0V0z\" fill=\"none\"/>\n",
              "    <path d=\"M18.56 5.44l.94 2.06.94-2.06 2.06-.94-2.06-.94-.94-2.06-.94 2.06-2.06.94zm-11 1L8.5 8.5l.94-2.06 2.06-.94-2.06-.94L8.5 2.5l-.94 2.06-2.06.94zm10 10l.94 2.06.94-2.06 2.06-.94-2.06-.94-.94-2.06-.94 2.06-2.06.94z\"/><path d=\"M17.41 7.96l-1.37-1.37c-.4-.4-.92-.59-1.43-.59-.52 0-1.04.2-1.43.59L10.3 9.45l-7.72 7.72c-.78.78-.78 2.05 0 2.83L4 21.41c.39.39.9.59 1.41.59.51 0 1.02-.2 1.41-.59l7.78-7.78 2.81-2.81c.8-.78.8-2.07 0-2.86zM5.41 20L4 18.59l7.72-7.72 1.47 1.35L5.41 20z\"/>\n",
              "  </svg>\n",
              "      </button>\n",
              "      \n",
              "  <style>\n",
              "    .colab-df-container {\n",
              "      display:flex;\n",
              "      flex-wrap:wrap;\n",
              "      gap: 12px;\n",
              "    }\n",
              "\n",
              "    .colab-df-convert {\n",
              "      background-color: #E8F0FE;\n",
              "      border: none;\n",
              "      border-radius: 50%;\n",
              "      cursor: pointer;\n",
              "      display: none;\n",
              "      fill: #1967D2;\n",
              "      height: 32px;\n",
              "      padding: 0 0 0 0;\n",
              "      width: 32px;\n",
              "    }\n",
              "\n",
              "    .colab-df-convert:hover {\n",
              "      background-color: #E2EBFA;\n",
              "      box-shadow: 0px 1px 2px rgba(60, 64, 67, 0.3), 0px 1px 3px 1px rgba(60, 64, 67, 0.15);\n",
              "      fill: #174EA6;\n",
              "    }\n",
              "\n",
              "    [theme=dark] .colab-df-convert {\n",
              "      background-color: #3B4455;\n",
              "      fill: #D2E3FC;\n",
              "    }\n",
              "\n",
              "    [theme=dark] .colab-df-convert:hover {\n",
              "      background-color: #434B5C;\n",
              "      box-shadow: 0px 1px 3px 1px rgba(0, 0, 0, 0.15);\n",
              "      filter: drop-shadow(0px 1px 2px rgba(0, 0, 0, 0.3));\n",
              "      fill: #FFFFFF;\n",
              "    }\n",
              "  </style>\n",
              "\n",
              "      <script>\n",
              "        const buttonEl =\n",
              "          document.querySelector('#df-b2d42fde-1345-45de-977f-26ee001f1bea button.colab-df-convert');\n",
              "        buttonEl.style.display =\n",
              "          google.colab.kernel.accessAllowed ? 'block' : 'none';\n",
              "\n",
              "        async function convertToInteractive(key) {\n",
              "          const element = document.querySelector('#df-b2d42fde-1345-45de-977f-26ee001f1bea');\n",
              "          const dataTable =\n",
              "            await google.colab.kernel.invokeFunction('convertToInteractive',\n",
              "                                                     [key], {});\n",
              "          if (!dataTable) return;\n",
              "\n",
              "          const docLinkHtml = 'Like what you see? Visit the ' +\n",
              "            '<a target=\"_blank\" href=https://colab.research.google.com/notebooks/data_table.ipynb>data table notebook</a>'\n",
              "            + ' to learn more about interactive tables.';\n",
              "          element.innerHTML = '';\n",
              "          dataTable['output_type'] = 'display_data';\n",
              "          await google.colab.output.renderOutput(dataTable, element);\n",
              "          const docLink = document.createElement('div');\n",
              "          docLink.innerHTML = docLinkHtml;\n",
              "          element.appendChild(docLink);\n",
              "        }\n",
              "      </script>\n",
              "    </div>\n",
              "  </div>\n",
              "  "
            ]
          },
          "metadata": {},
          "execution_count": 23
        }
      ]
    },
    {
      "cell_type": "code",
      "source": [],
      "metadata": {
        "id": "Dt1dONLBRkNV"
      },
      "id": "Dt1dONLBRkNV",
      "execution_count": 3,
      "outputs": []
    }
  ],
  "metadata": {
    "kernelspec": {
      "display_name": "Python 3",
      "language": "python",
      "name": "python3"
    },
    "language_info": {
      "codemirror_mode": {
        "name": "ipython",
        "version": 3
      },
      "file_extension": ".py",
      "mimetype": "text/x-python",
      "name": "python",
      "nbconvert_exporter": "python",
      "pygments_lexer": "ipython3",
      "version": "3.7.11"
    },
    "colab": {
      "provenance": []
    }
  },
  "nbformat": 4,
  "nbformat_minor": 5
}