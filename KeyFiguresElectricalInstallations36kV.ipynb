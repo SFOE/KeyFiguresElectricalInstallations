{
  "cells": [
    {
      "cell_type": "markdown",
      "metadata": {
        "id": "view-in-github",
        "colab_type": "text"
      },
      "source": [
        "<a href=\"https://colab.research.google.com/github/nrohrbach/KeyFiguresElectricalInstallations/blob/main/KeyFiguresElectricalInstallations36kV.ipynb\" target=\"_parent\"><img src=\"https://colab.research.google.com/assets/colab-badge.svg\" alt=\"Open In Colab\"/></a>"
      ]
    },
    {
      "cell_type": "markdown",
      "source": [
        "# Kennzahlen Geobasisdatensatz Elektrische Anlagen mit einer Nennspannung von über 36kV\n",
        "\n",
        "---\n",
        "\n",
        "Notebook um Kennzahlen des Geobasisdatensatzes \"Elektrische Anlagen mit einer Nennspannung von über 36kV abzuleiten.\n",
        "\n",
        "\n",
        "\n",
        "\n"
      ],
      "metadata": {
        "id": "TvAaPsApM6kf"
      },
      "id": "TvAaPsApM6kf"
    },
    {
      "cell_type": "code",
      "source": [
        "#pip install geopandas"
      ],
      "metadata": {
        "id": "BtBcPFkSsYlX"
      },
      "id": "BtBcPFkSsYlX",
      "execution_count": 4,
      "outputs": []
    },
    {
      "cell_type": "code",
      "source": [
        "#pip install datetime"
      ],
      "metadata": {
        "id": "FIFlyBbH1nym"
      },
      "id": "FIFlyBbH1nym",
      "execution_count": 5,
      "outputs": []
    },
    {
      "cell_type": "code",
      "source": [
        "#pip install numpy"
      ],
      "metadata": {
        "id": "SgnmLfym-vE4"
      },
      "id": "SgnmLfym-vE4",
      "execution_count": 6,
      "outputs": []
    },
    {
      "cell_type": "code",
      "source": [
        "import geopandas as gpd\n",
        "import pandas as pd\n",
        "import numpy as np\n",
        "from datetime import datetime\n",
        "import matplotlib.pyplot as plt\n",
        "%matplotlib inline"
      ],
      "metadata": {
        "id": "O1snWJw5Nm8f"
      },
      "id": "O1snWJw5Nm8f",
      "execution_count": 7,
      "outputs": []
    },
    {
      "cell_type": "code",
      "source": [
        "# Neu\n",
        "pip install owslib"
      ],
      "metadata": {
        "id": "gmKo0RhtjURp",
        "outputId": "cbf36734-1cfa-4b9f-baae-be7e5f9e7886",
        "colab": {
          "base_uri": "https://localhost:8080/"
        }
      },
      "id": "gmKo0RhtjURp",
      "execution_count": 11,
      "outputs": [
        {
          "output_type": "stream",
          "name": "stdout",
          "text": [
            "Collecting owslib\n",
            "  Downloading OWSLib-0.29.2-py2.py3-none-any.whl (221 kB)\n",
            "\u001b[?25l     \u001b[90m━━━━━━━━━━━━━━━━━━━━━━━━━━━━━━━━━━━━━━━━\u001b[0m \u001b[32m0.0/221.1 kB\u001b[0m \u001b[31m?\u001b[0m eta \u001b[36m-:--:--\u001b[0m\r\u001b[2K     \u001b[91m━━━━━━━━━━━\u001b[0m\u001b[90m╺\u001b[0m\u001b[90m━━━━━━━━━━━━━━━━━━━━━━━━━━━━\u001b[0m \u001b[32m61.4/221.1 kB\u001b[0m \u001b[31m1.7 MB/s\u001b[0m eta \u001b[36m0:00:01\u001b[0m\r\u001b[2K     \u001b[90m━━━━━━━━━━━━━━━━━━━━━━━━━━━━━━━━━━━━━━━\u001b[0m \u001b[32m221.1/221.1 kB\u001b[0m \u001b[31m3.3 MB/s\u001b[0m eta \u001b[36m0:00:00\u001b[0m\n",
            "\u001b[?25hRequirement already satisfied: lxml in /usr/local/lib/python3.10/dist-packages (from owslib) (4.9.3)\n",
            "Requirement already satisfied: python-dateutil>=1.5 in /usr/local/lib/python3.10/dist-packages (from owslib) (2.8.2)\n",
            "Requirement already satisfied: pytz in /usr/local/lib/python3.10/dist-packages (from owslib) (2022.7.1)\n",
            "Requirement already satisfied: pyyaml in /usr/local/lib/python3.10/dist-packages (from owslib) (6.0.1)\n",
            "Requirement already satisfied: requests>=1.0 in /usr/local/lib/python3.10/dist-packages (from owslib) (2.27.1)\n",
            "Requirement already satisfied: six>=1.5 in /usr/local/lib/python3.10/dist-packages (from python-dateutil>=1.5->owslib) (1.16.0)\n",
            "Requirement already satisfied: urllib3<1.27,>=1.21.1 in /usr/local/lib/python3.10/dist-packages (from requests>=1.0->owslib) (1.26.16)\n",
            "Requirement already satisfied: certifi>=2017.4.17 in /usr/local/lib/python3.10/dist-packages (from requests>=1.0->owslib) (2023.7.22)\n",
            "Requirement already satisfied: charset-normalizer~=2.0.0 in /usr/local/lib/python3.10/dist-packages (from requests>=1.0->owslib) (2.0.12)\n",
            "Requirement already satisfied: idna<4,>=2.5 in /usr/local/lib/python3.10/dist-packages (from requests>=1.0->owslib) (3.4)\n",
            "Installing collected packages: owslib\n",
            "Successfully installed owslib-0.29.2\n"
          ]
        }
      ]
    },
    {
      "cell_type": "code",
      "source": [
        "from owslib.wfs import WebFeatureService\n",
        "from requests import Request"
      ],
      "metadata": {
        "id": "vBpPurrcjPmg"
      },
      "id": "vBpPurrcjPmg",
      "execution_count": 17,
      "outputs": []
    },
    {
      "cell_type": "code",
      "source": [
        "# WFS-Domain (auf PROD schalten)\n",
        "url = \"https://integration.geodienste.ch/db/elektrische_anlagen_ueber_36kv_v1_0_0/deu\"\n",
        "\n",
        "# Initialize\n",
        "wfs = WebFeatureService(url=url)\n",
        "\n",
        "# Parameter für Datenfetching (Count 100 entfernen)\n",
        "paramsLeitung = dict(service='WFS', version=\"2.0.0\", request='GetFeature', typeName='leitung', outputFormat='geojson', count=100, startIndex=0)\n",
        "paramsStation = dict(service='WFS', version=\"2.0.0\", request='GetFeature', typeName='station_punkt', outputFormat='geojson', count=100, startIndex=0)\n",
        "paramsMast = dict(service='WFS', version=\"2.0.0\", request='GetFeature', typeName='mast', outputFormat='geojson', count=100, startIndex=0)\n",
        "\n",
        "# Parse URL mit Parametern\n",
        "urlleitung = Request('GET', url, params=paramsLeitung).prepare().url\n",
        "urlstation = Request('GET', url, params=paramsStation).prepare().url\n",
        "urlmast = Request('GET', url, params=paramsMast).prepare().url"
      ],
      "metadata": {
        "id": "iWF0-Ah1jdTo"
      },
      "id": "iWF0-Ah1jdTo",
      "execution_count": 51,
      "outputs": []
    },
    {
      "cell_type": "code",
      "source": [],
      "metadata": {
        "id": "IyYdaZkClIXG"
      },
      "id": "IyYdaZkClIXG",
      "execution_count": 36,
      "outputs": []
    },
    {
      "cell_type": "code",
      "source": [],
      "metadata": {
        "id": "S4lN7PAkiWFz"
      },
      "id": "S4lN7PAkiWFz",
      "execution_count": 51,
      "outputs": []
    },
    {
      "cell_type": "code",
      "source": [
        "leitung = gpd.read_file(urlleitung)"
      ],
      "metadata": {
        "id": "_mKKm-gPlSXM"
      },
      "id": "_mKKm-gPlSXM",
      "execution_count": 39,
      "outputs": []
    },
    {
      "cell_type": "code",
      "source": [
        "leitung.rename(columns ={'id':'Leitung_ID',\n",
        "                         'bezeichnung':'Bezeichnung',\n",
        "                         'eigentuemer':'Eigentuemer',\n",
        "                         'eigentum_vollstaendig':'EigentumVollstaendig',\n",
        "                         'lagegenauigkeit':'Lagegenauigkeit',\n",
        "                         'stromnetz_typ':'StromnetzTyp',\n",
        "                         'leitung_typ':'LeitungTyp',\n",
        "                         'spannung':'Spannung',\n",
        "                         'betriebsstatus':'Betriebsstatus',\n",
        "                         'frequenz':'Frequenz'})"
      ],
      "metadata": {
        "id": "nYvtqbPaopoH",
        "outputId": "8a90c1bd-45ad-45b3-b468-d0c15f692299",
        "colab": {
          "base_uri": "https://localhost:8080/",
          "height": 468
        }
      },
      "id": "nYvtqbPaopoH",
      "execution_count": 52,
      "outputs": [
        {
          "output_type": "execute_result",
          "data": {
            "text/plain": [
              "    Leitung_ID             Bezeichnung Eigentuemer  EigentumVollstaendig  \\\n",
              "0   0000082188        Lodrino - Iragna         AET                     0   \n",
              "1   0000082683     Quartino - Sigirino         AET                     0   \n",
              "2   0000264240   Pollegio - Acquarossa         AET                     0   \n",
              "3   0000303507  Monte Carasso - Iragna         AET                     0   \n",
              "4   0000303508  Monte Carasso - Iragna         AET                     0   \n",
              "..         ...                     ...         ...                   ...   \n",
              "95  0001093059   Pollegio - Acquarossa         AET                     0   \n",
              "96  0001093077   Pollegio - Acquarossa         AET                     0   \n",
              "97  0001093095   Pollegio - Acquarossa         AET                     0   \n",
              "98  0001093118   Pollegio - Acquarossa         AET                     0   \n",
              "99  0001093136   Pollegio - Acquarossa         AET                     0   \n",
              "\n",
              "   eigentum_vollstaendig_de Lagegenauigkeit    StromnetzTyp   LeitungTyp  \\\n",
              "0                        Ja           genau  Allgemeinstrom  Freileitung   \n",
              "1                        Ja           genau  Allgemeinstrom  Freileitung   \n",
              "2                        Ja           genau  Allgemeinstrom  Freileitung   \n",
              "3                        Ja           genau  Allgemeinstrom  Freileitung   \n",
              "4                        Ja           genau  Allgemeinstrom  Freileitung   \n",
              "..                      ...             ...             ...          ...   \n",
              "95                       Ja           genau  Allgemeinstrom  Freileitung   \n",
              "96                       Ja           genau  Allgemeinstrom  Freileitung   \n",
              "97                       Ja           genau  Allgemeinstrom  Freileitung   \n",
              "98                       Ja           genau  Allgemeinstrom  Freileitung   \n",
              "99                       Ja           genau  Allgemeinstrom  Freileitung   \n",
              "\n",
              "   Spannung Betriebsstatus Frequenz  \\\n",
              "0     S50kV      inBetrieb    F50Hz   \n",
              "1     S50kV      inBetrieb    F50Hz   \n",
              "2     S50kV      inBetrieb    F50Hz   \n",
              "3    S150kV      inBetrieb    F50Hz   \n",
              "4    S150kV      inBetrieb    F50Hz   \n",
              "..      ...            ...      ...   \n",
              "95    S50kV      inBetrieb    F50Hz   \n",
              "96    S50kV      inBetrieb    F50Hz   \n",
              "97    S50kV      inBetrieb    F50Hz   \n",
              "98    S50kV      inBetrieb    F50Hz   \n",
              "99    S50kV      inBetrieb    F50Hz   \n",
              "\n",
              "                                             geometry  \n",
              "0   LINESTRING (2719066.726 1129062.315, 2718981.3...  \n",
              "1   LINESTRING (2713103.311 1111239.582, 2713088.9...  \n",
              "2   LINESTRING (2718072.166 1137753.881, 2718073.4...  \n",
              "3   LINESTRING (2721644.410 1122496.540, 2721497.8...  \n",
              "4   LINESTRING (2721109.740 1116880.080, 2721138.3...  \n",
              "..                                                ...  \n",
              "95  LINESTRING (2718120.632 1138431.455, 2718128.1...  \n",
              "96  LINESTRING (2718128.125 1138531.738, 2718135.4...  \n",
              "97  LINESTRING (2718135.461 1138631.156, 2718143.0...  \n",
              "98  LINESTRING (2718143.022 1138730.424, 2718150.1...  \n",
              "99  LINESTRING (2718150.182 1138829.747, 2718162.1...  \n",
              "\n",
              "[100 rows x 12 columns]"
            ],
            "text/html": [
              "\n",
              "\n",
              "  <div id=\"df-cad2d603-11ef-4b78-88c7-ba7197124e1c\">\n",
              "    <div class=\"colab-df-container\">\n",
              "      <div>\n",
              "<style scoped>\n",
              "    .dataframe tbody tr th:only-of-type {\n",
              "        vertical-align: middle;\n",
              "    }\n",
              "\n",
              "    .dataframe tbody tr th {\n",
              "        vertical-align: top;\n",
              "    }\n",
              "\n",
              "    .dataframe thead th {\n",
              "        text-align: right;\n",
              "    }\n",
              "</style>\n",
              "<table border=\"1\" class=\"dataframe\">\n",
              "  <thead>\n",
              "    <tr style=\"text-align: right;\">\n",
              "      <th></th>\n",
              "      <th>Leitung_ID</th>\n",
              "      <th>Bezeichnung</th>\n",
              "      <th>Eigentuemer</th>\n",
              "      <th>EigentumVollstaendig</th>\n",
              "      <th>eigentum_vollstaendig_de</th>\n",
              "      <th>Lagegenauigkeit</th>\n",
              "      <th>StromnetzTyp</th>\n",
              "      <th>LeitungTyp</th>\n",
              "      <th>Spannung</th>\n",
              "      <th>Betriebsstatus</th>\n",
              "      <th>Frequenz</th>\n",
              "      <th>geometry</th>\n",
              "    </tr>\n",
              "  </thead>\n",
              "  <tbody>\n",
              "    <tr>\n",
              "      <th>0</th>\n",
              "      <td>0000082188</td>\n",
              "      <td>Lodrino - Iragna</td>\n",
              "      <td>AET</td>\n",
              "      <td>0</td>\n",
              "      <td>Ja</td>\n",
              "      <td>genau</td>\n",
              "      <td>Allgemeinstrom</td>\n",
              "      <td>Freileitung</td>\n",
              "      <td>S50kV</td>\n",
              "      <td>inBetrieb</td>\n",
              "      <td>F50Hz</td>\n",
              "      <td>LINESTRING (2719066.726 1129062.315, 2718981.3...</td>\n",
              "    </tr>\n",
              "    <tr>\n",
              "      <th>1</th>\n",
              "      <td>0000082683</td>\n",
              "      <td>Quartino - Sigirino</td>\n",
              "      <td>AET</td>\n",
              "      <td>0</td>\n",
              "      <td>Ja</td>\n",
              "      <td>genau</td>\n",
              "      <td>Allgemeinstrom</td>\n",
              "      <td>Freileitung</td>\n",
              "      <td>S50kV</td>\n",
              "      <td>inBetrieb</td>\n",
              "      <td>F50Hz</td>\n",
              "      <td>LINESTRING (2713103.311 1111239.582, 2713088.9...</td>\n",
              "    </tr>\n",
              "    <tr>\n",
              "      <th>2</th>\n",
              "      <td>0000264240</td>\n",
              "      <td>Pollegio - Acquarossa</td>\n",
              "      <td>AET</td>\n",
              "      <td>0</td>\n",
              "      <td>Ja</td>\n",
              "      <td>genau</td>\n",
              "      <td>Allgemeinstrom</td>\n",
              "      <td>Freileitung</td>\n",
              "      <td>S50kV</td>\n",
              "      <td>inBetrieb</td>\n",
              "      <td>F50Hz</td>\n",
              "      <td>LINESTRING (2718072.166 1137753.881, 2718073.4...</td>\n",
              "    </tr>\n",
              "    <tr>\n",
              "      <th>3</th>\n",
              "      <td>0000303507</td>\n",
              "      <td>Monte Carasso - Iragna</td>\n",
              "      <td>AET</td>\n",
              "      <td>0</td>\n",
              "      <td>Ja</td>\n",
              "      <td>genau</td>\n",
              "      <td>Allgemeinstrom</td>\n",
              "      <td>Freileitung</td>\n",
              "      <td>S150kV</td>\n",
              "      <td>inBetrieb</td>\n",
              "      <td>F50Hz</td>\n",
              "      <td>LINESTRING (2721644.410 1122496.540, 2721497.8...</td>\n",
              "    </tr>\n",
              "    <tr>\n",
              "      <th>4</th>\n",
              "      <td>0000303508</td>\n",
              "      <td>Monte Carasso - Iragna</td>\n",
              "      <td>AET</td>\n",
              "      <td>0</td>\n",
              "      <td>Ja</td>\n",
              "      <td>genau</td>\n",
              "      <td>Allgemeinstrom</td>\n",
              "      <td>Freileitung</td>\n",
              "      <td>S150kV</td>\n",
              "      <td>inBetrieb</td>\n",
              "      <td>F50Hz</td>\n",
              "      <td>LINESTRING (2721109.740 1116880.080, 2721138.3...</td>\n",
              "    </tr>\n",
              "    <tr>\n",
              "      <th>...</th>\n",
              "      <td>...</td>\n",
              "      <td>...</td>\n",
              "      <td>...</td>\n",
              "      <td>...</td>\n",
              "      <td>...</td>\n",
              "      <td>...</td>\n",
              "      <td>...</td>\n",
              "      <td>...</td>\n",
              "      <td>...</td>\n",
              "      <td>...</td>\n",
              "      <td>...</td>\n",
              "      <td>...</td>\n",
              "    </tr>\n",
              "    <tr>\n",
              "      <th>95</th>\n",
              "      <td>0001093059</td>\n",
              "      <td>Pollegio - Acquarossa</td>\n",
              "      <td>AET</td>\n",
              "      <td>0</td>\n",
              "      <td>Ja</td>\n",
              "      <td>genau</td>\n",
              "      <td>Allgemeinstrom</td>\n",
              "      <td>Freileitung</td>\n",
              "      <td>S50kV</td>\n",
              "      <td>inBetrieb</td>\n",
              "      <td>F50Hz</td>\n",
              "      <td>LINESTRING (2718120.632 1138431.455, 2718128.1...</td>\n",
              "    </tr>\n",
              "    <tr>\n",
              "      <th>96</th>\n",
              "      <td>0001093077</td>\n",
              "      <td>Pollegio - Acquarossa</td>\n",
              "      <td>AET</td>\n",
              "      <td>0</td>\n",
              "      <td>Ja</td>\n",
              "      <td>genau</td>\n",
              "      <td>Allgemeinstrom</td>\n",
              "      <td>Freileitung</td>\n",
              "      <td>S50kV</td>\n",
              "      <td>inBetrieb</td>\n",
              "      <td>F50Hz</td>\n",
              "      <td>LINESTRING (2718128.125 1138531.738, 2718135.4...</td>\n",
              "    </tr>\n",
              "    <tr>\n",
              "      <th>97</th>\n",
              "      <td>0001093095</td>\n",
              "      <td>Pollegio - Acquarossa</td>\n",
              "      <td>AET</td>\n",
              "      <td>0</td>\n",
              "      <td>Ja</td>\n",
              "      <td>genau</td>\n",
              "      <td>Allgemeinstrom</td>\n",
              "      <td>Freileitung</td>\n",
              "      <td>S50kV</td>\n",
              "      <td>inBetrieb</td>\n",
              "      <td>F50Hz</td>\n",
              "      <td>LINESTRING (2718135.461 1138631.156, 2718143.0...</td>\n",
              "    </tr>\n",
              "    <tr>\n",
              "      <th>98</th>\n",
              "      <td>0001093118</td>\n",
              "      <td>Pollegio - Acquarossa</td>\n",
              "      <td>AET</td>\n",
              "      <td>0</td>\n",
              "      <td>Ja</td>\n",
              "      <td>genau</td>\n",
              "      <td>Allgemeinstrom</td>\n",
              "      <td>Freileitung</td>\n",
              "      <td>S50kV</td>\n",
              "      <td>inBetrieb</td>\n",
              "      <td>F50Hz</td>\n",
              "      <td>LINESTRING (2718143.022 1138730.424, 2718150.1...</td>\n",
              "    </tr>\n",
              "    <tr>\n",
              "      <th>99</th>\n",
              "      <td>0001093136</td>\n",
              "      <td>Pollegio - Acquarossa</td>\n",
              "      <td>AET</td>\n",
              "      <td>0</td>\n",
              "      <td>Ja</td>\n",
              "      <td>genau</td>\n",
              "      <td>Allgemeinstrom</td>\n",
              "      <td>Freileitung</td>\n",
              "      <td>S50kV</td>\n",
              "      <td>inBetrieb</td>\n",
              "      <td>F50Hz</td>\n",
              "      <td>LINESTRING (2718150.182 1138829.747, 2718162.1...</td>\n",
              "    </tr>\n",
              "  </tbody>\n",
              "</table>\n",
              "<p>100 rows × 12 columns</p>\n",
              "</div>\n",
              "      <button class=\"colab-df-convert\" onclick=\"convertToInteractive('df-cad2d603-11ef-4b78-88c7-ba7197124e1c')\"\n",
              "              title=\"Convert this dataframe to an interactive table.\"\n",
              "              style=\"display:none;\">\n",
              "\n",
              "  <svg xmlns=\"http://www.w3.org/2000/svg\" height=\"24px\"viewBox=\"0 0 24 24\"\n",
              "       width=\"24px\">\n",
              "    <path d=\"M0 0h24v24H0V0z\" fill=\"none\"/>\n",
              "    <path d=\"M18.56 5.44l.94 2.06.94-2.06 2.06-.94-2.06-.94-.94-2.06-.94 2.06-2.06.94zm-11 1L8.5 8.5l.94-2.06 2.06-.94-2.06-.94L8.5 2.5l-.94 2.06-2.06.94zm10 10l.94 2.06.94-2.06 2.06-.94-2.06-.94-.94-2.06-.94 2.06-2.06.94z\"/><path d=\"M17.41 7.96l-1.37-1.37c-.4-.4-.92-.59-1.43-.59-.52 0-1.04.2-1.43.59L10.3 9.45l-7.72 7.72c-.78.78-.78 2.05 0 2.83L4 21.41c.39.39.9.59 1.41.59.51 0 1.02-.2 1.41-.59l7.78-7.78 2.81-2.81c.8-.78.8-2.07 0-2.86zM5.41 20L4 18.59l7.72-7.72 1.47 1.35L5.41 20z\"/>\n",
              "  </svg>\n",
              "      </button>\n",
              "\n",
              "\n",
              "\n",
              "    <div id=\"df-f8c171be-66c0-4f7c-a5bd-65e246eed7d4\">\n",
              "      <button class=\"colab-df-quickchart\" onclick=\"quickchart('df-f8c171be-66c0-4f7c-a5bd-65e246eed7d4')\"\n",
              "              title=\"Suggest charts.\"\n",
              "              style=\"display:none;\">\n",
              "\n",
              "<svg xmlns=\"http://www.w3.org/2000/svg\" height=\"24px\"viewBox=\"0 0 24 24\"\n",
              "     width=\"24px\">\n",
              "    <g>\n",
              "        <path d=\"M19 3H5c-1.1 0-2 .9-2 2v14c0 1.1.9 2 2 2h14c1.1 0 2-.9 2-2V5c0-1.1-.9-2-2-2zM9 17H7v-7h2v7zm4 0h-2V7h2v10zm4 0h-2v-4h2v4z\"/>\n",
              "    </g>\n",
              "</svg>\n",
              "      </button>\n",
              "    </div>\n",
              "\n",
              "<style>\n",
              "  .colab-df-quickchart {\n",
              "    background-color: #E8F0FE;\n",
              "    border: none;\n",
              "    border-radius: 50%;\n",
              "    cursor: pointer;\n",
              "    display: none;\n",
              "    fill: #1967D2;\n",
              "    height: 32px;\n",
              "    padding: 0 0 0 0;\n",
              "    width: 32px;\n",
              "  }\n",
              "\n",
              "  .colab-df-quickchart:hover {\n",
              "    background-color: #E2EBFA;\n",
              "    box-shadow: 0px 1px 2px rgba(60, 64, 67, 0.3), 0px 1px 3px 1px rgba(60, 64, 67, 0.15);\n",
              "    fill: #174EA6;\n",
              "  }\n",
              "\n",
              "  [theme=dark] .colab-df-quickchart {\n",
              "    background-color: #3B4455;\n",
              "    fill: #D2E3FC;\n",
              "  }\n",
              "\n",
              "  [theme=dark] .colab-df-quickchart:hover {\n",
              "    background-color: #434B5C;\n",
              "    box-shadow: 0px 1px 3px 1px rgba(0, 0, 0, 0.15);\n",
              "    filter: drop-shadow(0px 1px 2px rgba(0, 0, 0, 0.3));\n",
              "    fill: #FFFFFF;\n",
              "  }\n",
              "</style>\n",
              "\n",
              "    <script>\n",
              "      async function quickchart(key) {\n",
              "        const containerElement = document.querySelector('#' + key);\n",
              "        const charts = await google.colab.kernel.invokeFunction(\n",
              "            'suggestCharts', [key], {});\n",
              "      }\n",
              "    </script>\n",
              "\n",
              "      <script>\n",
              "\n",
              "function displayQuickchartButton(domScope) {\n",
              "  let quickchartButtonEl =\n",
              "    domScope.querySelector('#df-f8c171be-66c0-4f7c-a5bd-65e246eed7d4 button.colab-df-quickchart');\n",
              "  quickchartButtonEl.style.display =\n",
              "    google.colab.kernel.accessAllowed ? 'block' : 'none';\n",
              "}\n",
              "\n",
              "        displayQuickchartButton(document);\n",
              "      </script>\n",
              "      <style>\n",
              "    .colab-df-container {\n",
              "      display:flex;\n",
              "      flex-wrap:wrap;\n",
              "      gap: 12px;\n",
              "    }\n",
              "\n",
              "    .colab-df-convert {\n",
              "      background-color: #E8F0FE;\n",
              "      border: none;\n",
              "      border-radius: 50%;\n",
              "      cursor: pointer;\n",
              "      display: none;\n",
              "      fill: #1967D2;\n",
              "      height: 32px;\n",
              "      padding: 0 0 0 0;\n",
              "      width: 32px;\n",
              "    }\n",
              "\n",
              "    .colab-df-convert:hover {\n",
              "      background-color: #E2EBFA;\n",
              "      box-shadow: 0px 1px 2px rgba(60, 64, 67, 0.3), 0px 1px 3px 1px rgba(60, 64, 67, 0.15);\n",
              "      fill: #174EA6;\n",
              "    }\n",
              "\n",
              "    [theme=dark] .colab-df-convert {\n",
              "      background-color: #3B4455;\n",
              "      fill: #D2E3FC;\n",
              "    }\n",
              "\n",
              "    [theme=dark] .colab-df-convert:hover {\n",
              "      background-color: #434B5C;\n",
              "      box-shadow: 0px 1px 3px 1px rgba(0, 0, 0, 0.15);\n",
              "      filter: drop-shadow(0px 1px 2px rgba(0, 0, 0, 0.3));\n",
              "      fill: #FFFFFF;\n",
              "    }\n",
              "  </style>\n",
              "\n",
              "      <script>\n",
              "        const buttonEl =\n",
              "          document.querySelector('#df-cad2d603-11ef-4b78-88c7-ba7197124e1c button.colab-df-convert');\n",
              "        buttonEl.style.display =\n",
              "          google.colab.kernel.accessAllowed ? 'block' : 'none';\n",
              "\n",
              "        async function convertToInteractive(key) {\n",
              "          const element = document.querySelector('#df-cad2d603-11ef-4b78-88c7-ba7197124e1c');\n",
              "          const dataTable =\n",
              "            await google.colab.kernel.invokeFunction('convertToInteractive',\n",
              "                                                     [key], {});\n",
              "          if (!dataTable) return;\n",
              "\n",
              "          const docLinkHtml = 'Like what you see? Visit the ' +\n",
              "            '<a target=\"_blank\" href=https://colab.research.google.com/notebooks/data_table.ipynb>data table notebook</a>'\n",
              "            + ' to learn more about interactive tables.';\n",
              "          element.innerHTML = '';\n",
              "          dataTable['output_type'] = 'display_data';\n",
              "          await google.colab.output.renderOutput(dataTable, element);\n",
              "          const docLink = document.createElement('div');\n",
              "          docLink.innerHTML = docLinkHtml;\n",
              "          element.appendChild(docLink);\n",
              "        }\n",
              "      </script>\n",
              "    </div>\n",
              "  </div>\n"
            ]
          },
          "metadata": {},
          "execution_count": 52
        }
      ]
    },
    {
      "cell_type": "code",
      "source": [
        "#pip install geodatasets\n",
        "import geodatasets"
      ],
      "metadata": {
        "id": "Ixaqm9LOmfhl"
      },
      "id": "Ixaqm9LOmfhl",
      "execution_count": 44,
      "outputs": []
    },
    {
      "cell_type": "code",
      "source": [
        "leitung.plot()"
      ],
      "metadata": {
        "id": "SVK4XZ-zmaC8",
        "outputId": "2d0e14e2-5c11-4ae3-dae1-418e6119671f",
        "colab": {
          "base_uri": "https://localhost:8080/",
          "height": 480
        }
      },
      "id": "SVK4XZ-zmaC8",
      "execution_count": 46,
      "outputs": [
        {
          "output_type": "execute_result",
          "data": {
            "text/plain": [
              "<Axes: >"
            ]
          },
          "metadata": {},
          "execution_count": 46
        },
        {
          "output_type": "display_data",
          "data": {
            "text/plain": [
              "<Figure size 640x480 with 1 Axes>"
            ],
            "image/png": "[encoded data removed]"
          },
          "metadata": {}
        }
      ]
    },
    {
      "cell_type": "code",
      "source": [
        "leitung.head()"
      ],
      "metadata": {
        "id": "DOlKh4P-m7ys",
        "outputId": "f7ac71c0-4fc6-446d-d515-05b007a1df18",
        "colab": {
          "base_uri": "https://localhost:8080/",
          "height": 250
        }
      },
      "id": "DOlKh4P-m7ys",
      "execution_count": 47,
      "outputs": [
        {
          "output_type": "execute_result",
          "data": {
            "text/plain": [
              "           id             bezeichnung eigentuemer  eigentum_vollstaendig  \\\n",
              "0  0000082188        Lodrino - Iragna         AET                      0   \n",
              "1  0000082683     Quartino - Sigirino         AET                      0   \n",
              "2  0000264240   Pollegio - Acquarossa         AET                      0   \n",
              "3  0000303507  Monte Carasso - Iragna         AET                      0   \n",
              "4  0000303508  Monte Carasso - Iragna         AET                      0   \n",
              "\n",
              "  eigentum_vollstaendig_de lagegenauigkeit   stromnetz_typ  leitung_typ  \\\n",
              "0                       Ja           genau  Allgemeinstrom  Freileitung   \n",
              "1                       Ja           genau  Allgemeinstrom  Freileitung   \n",
              "2                       Ja           genau  Allgemeinstrom  Freileitung   \n",
              "3                       Ja           genau  Allgemeinstrom  Freileitung   \n",
              "4                       Ja           genau  Allgemeinstrom  Freileitung   \n",
              "\n",
              "  spannung betriebsstatus frequenz  \\\n",
              "0    S50kV      inBetrieb    F50Hz   \n",
              "1    S50kV      inBetrieb    F50Hz   \n",
              "2    S50kV      inBetrieb    F50Hz   \n",
              "3   S150kV      inBetrieb    F50Hz   \n",
              "4   S150kV      inBetrieb    F50Hz   \n",
              "\n",
              "                                            geometry  \n",
              "0  LINESTRING (2719066.726 1129062.315, 2718981.3...  \n",
              "1  LINESTRING (2713103.311 1111239.582, 2713088.9...  \n",
              "2  LINESTRING (2718072.166 1137753.881, 2718073.4...  \n",
              "3  LINESTRING (2721644.410 1122496.540, 2721497.8...  \n",
              "4  LINESTRING (2721109.740 1116880.080, 2721138.3...  "
            ],
            "text/html": [
              "\n",
              "\n",
              "  <div id=\"df-e83c0c54-6413-41e4-a33b-d3294337fd4e\">\n",
              "    <div class=\"colab-df-container\">\n",
              "      <div>\n",
              "<style scoped>\n",
              "    .dataframe tbody tr th:only-of-type {\n",
              "        vertical-align: middle;\n",
              "    }\n",
              "\n",
              "    .dataframe tbody tr th {\n",
              "        vertical-align: top;\n",
              "    }\n",
              "\n",
              "    .dataframe thead th {\n",
              "        text-align: right;\n",
              "    }\n",
              "</style>\n",
              "<table border=\"1\" class=\"dataframe\">\n",
              "  <thead>\n",
              "    <tr style=\"text-align: right;\">\n",
              "      <th></th>\n",
              "      <th>id</th>\n",
              "      <th>bezeichnung</th>\n",
              "      <th>eigentuemer</th>\n",
              "      <th>eigentum_vollstaendig</th>\n",
              "      <th>eigentum_vollstaendig_de</th>\n",
              "      <th>lagegenauigkeit</th>\n",
              "      <th>stromnetz_typ</th>\n",
              "      <th>leitung_typ</th>\n",
              "      <th>spannung</th>\n",
              "      <th>betriebsstatus</th>\n",
              "      <th>frequenz</th>\n",
              "      <th>geometry</th>\n",
              "    </tr>\n",
              "  </thead>\n",
              "  <tbody>\n",
              "    <tr>\n",
              "      <th>0</th>\n",
              "      <td>0000082188</td>\n",
              "      <td>Lodrino - Iragna</td>\n",
              "      <td>AET</td>\n",
              "      <td>0</td>\n",
              "      <td>Ja</td>\n",
              "      <td>genau</td>\n",
              "      <td>Allgemeinstrom</td>\n",
              "      <td>Freileitung</td>\n",
              "      <td>S50kV</td>\n",
              "      <td>inBetrieb</td>\n",
              "      <td>F50Hz</td>\n",
              "      <td>LINESTRING (2719066.726 1129062.315, 2718981.3...</td>\n",
              "    </tr>\n",
              "    <tr>\n",
              "      <th>1</th>\n",
              "      <td>0000082683</td>\n",
              "      <td>Quartino - Sigirino</td>\n",
              "      <td>AET</td>\n",
              "      <td>0</td>\n",
              "      <td>Ja</td>\n",
              "      <td>genau</td>\n",
              "      <td>Allgemeinstrom</td>\n",
              "      <td>Freileitung</td>\n",
              "      <td>S50kV</td>\n",
              "      <td>inBetrieb</td>\n",
              "      <td>F50Hz</td>\n",
              "      <td>LINESTRING (2713103.311 1111239.582, 2713088.9...</td>\n",
              "    </tr>\n",
              "    <tr>\n",
              "      <th>2</th>\n",
              "      <td>0000264240</td>\n",
              "      <td>Pollegio - Acquarossa</td>\n",
              "      <td>AET</td>\n",
              "      <td>0</td>\n",
              "      <td>Ja</td>\n",
              "      <td>genau</td>\n",
              "      <td>Allgemeinstrom</td>\n",
              "      <td>Freileitung</td>\n",
              "      <td>S50kV</td>\n",
              "      <td>inBetrieb</td>\n",
              "      <td>F50Hz</td>\n",
              "      <td>LINESTRING (2718072.166 1137753.881, 2718073.4...</td>\n",
              "    </tr>\n",
              "    <tr>\n",
              "      <th>3</th>\n",
              "      <td>0000303507</td>\n",
              "      <td>Monte Carasso - Iragna</td>\n",
              "      <td>AET</td>\n",
              "      <td>0</td>\n",
              "      <td>Ja</td>\n",
              "      <td>genau</td>\n",
              "      <td>Allgemeinstrom</td>\n",
              "      <td>Freileitung</td>\n",
              "      <td>S150kV</td>\n",
              "      <td>inBetrieb</td>\n",
              "      <td>F50Hz</td>\n",
              "      <td>LINESTRING (2721644.410 1122496.540, 2721497.8...</td>\n",
              "    </tr>\n",
              "    <tr>\n",
              "      <th>4</th>\n",
              "      <td>0000303508</td>\n",
              "      <td>Monte Carasso - Iragna</td>\n",
              "      <td>AET</td>\n",
              "      <td>0</td>\n",
              "      <td>Ja</td>\n",
              "      <td>genau</td>\n",
              "      <td>Allgemeinstrom</td>\n",
              "      <td>Freileitung</td>\n",
              "      <td>S150kV</td>\n",
              "      <td>inBetrieb</td>\n",
              "      <td>F50Hz</td>\n",
              "      <td>LINESTRING (2721109.740 1116880.080, 2721138.3...</td>\n",
              "    </tr>\n",
              "  </tbody>\n",
              "</table>\n",
              "</div>\n",
              "      <button class=\"colab-df-convert\" onclick=\"convertToInteractive('df-e83c0c54-6413-41e4-a33b-d3294337fd4e')\"\n",
              "              title=\"Convert this dataframe to an interactive table.\"\n",
              "              style=\"display:none;\">\n",
              "\n",
              "  <svg xmlns=\"http://www.w3.org/2000/svg\" height=\"24px\"viewBox=\"0 0 24 24\"\n",
              "       width=\"24px\">\n",
              "    <path d=\"M0 0h24v24H0V0z\" fill=\"none\"/>\n",
              "    <path d=\"M18.56 5.44l.94 2.06.94-2.06 2.06-.94-2.06-.94-.94-2.06-.94 2.06-2.06.94zm-11 1L8.5 8.5l.94-2.06 2.06-.94-2.06-.94L8.5 2.5l-.94 2.06-2.06.94zm10 10l.94 2.06.94-2.06 2.06-.94-2.06-.94-.94-2.06-.94 2.06-2.06.94z\"/><path d=\"M17.41 7.96l-1.37-1.37c-.4-.4-.92-.59-1.43-.59-.52 0-1.04.2-1.43.59L10.3 9.45l-7.72 7.72c-.78.78-.78 2.05 0 2.83L4 21.41c.39.39.9.59 1.41.59.51 0 1.02-.2 1.41-.59l7.78-7.78 2.81-2.81c.8-.78.8-2.07 0-2.86zM5.41 20L4 18.59l7.72-7.72 1.47 1.35L5.41 20z\"/>\n",
              "  </svg>\n",
              "      </button>\n",
              "\n",
              "\n",
              "\n",
              "    <div id=\"df-1806d4e8-2ed7-47bc-a576-7f83a6469830\">\n",
              "      <button class=\"colab-df-quickchart\" onclick=\"quickchart('df-1806d4e8-2ed7-47bc-a576-7f83a6469830')\"\n",
              "              title=\"Suggest charts.\"\n",
              "              style=\"display:none;\">\n",
              "\n",
              "<svg xmlns=\"http://www.w3.org/2000/svg\" height=\"24px\"viewBox=\"0 0 24 24\"\n",
              "     width=\"24px\">\n",
              "    <g>\n",
              "        <path d=\"M19 3H5c-1.1 0-2 .9-2 2v14c0 1.1.9 2 2 2h14c1.1 0 2-.9 2-2V5c0-1.1-.9-2-2-2zM9 17H7v-7h2v7zm4 0h-2V7h2v10zm4 0h-2v-4h2v4z\"/>\n",
              "    </g>\n",
              "</svg>\n",
              "      </button>\n",
              "    </div>\n",
              "\n",
              "<style>\n",
              "  .colab-df-quickchart {\n",
              "    background-color: #E8F0FE;\n",
              "    border: none;\n",
              "    border-radius: 50%;\n",
              "    cursor: pointer;\n",
              "    display: none;\n",
              "    fill: #1967D2;\n",
              "    height: 32px;\n",
              "    padding: 0 0 0 0;\n",
              "    width: 32px;\n",
              "  }\n",
              "\n",
              "  .colab-df-quickchart:hover {\n",
              "    background-color: #E2EBFA;\n",
              "    box-shadow: 0px 1px 2px rgba(60, 64, 67, 0.3), 0px 1px 3px 1px rgba(60, 64, 67, 0.15);\n",
              "    fill: #174EA6;\n",
              "  }\n",
              "\n",
              "  [theme=dark] .colab-df-quickchart {\n",
              "    background-color: #3B4455;\n",
              "    fill: #D2E3FC;\n",
              "  }\n",
              "\n",
              "  [theme=dark] .colab-df-quickchart:hover {\n",
              "    background-color: #434B5C;\n",
              "    box-shadow: 0px 1px 3px 1px rgba(0, 0, 0, 0.15);\n",
              "    filter: drop-shadow(0px 1px 2px rgba(0, 0, 0, 0.3));\n",
              "    fill: #FFFFFF;\n",
              "  }\n",
              "</style>\n",
              "\n",
              "    <script>\n",
              "      async function quickchart(key) {\n",
              "        const containerElement = document.querySelector('#' + key);\n",
              "        const charts = await google.colab.kernel.invokeFunction(\n",
              "            'suggestCharts', [key], {});\n",
              "      }\n",
              "    </script>\n",
              "\n",
              "      <script>\n",
              "\n",
              "function displayQuickchartButton(domScope) {\n",
              "  let quickchartButtonEl =\n",
              "    domScope.querySelector('#df-1806d4e8-2ed7-47bc-a576-7f83a6469830 button.colab-df-quickchart');\n",
              "  quickchartButtonEl.style.display =\n",
              "    google.colab.kernel.accessAllowed ? 'block' : 'none';\n",
              "}\n",
              "\n",
              "        displayQuickchartButton(document);\n",
              "      </script>\n",
              "      <style>\n",
              "    .colab-df-container {\n",
              "      display:flex;\n",
              "      flex-wrap:wrap;\n",
              "      gap: 12px;\n",
              "    }\n",
              "\n",
              "    .colab-df-convert {\n",
              "      background-color: #E8F0FE;\n",
              "      border: none;\n",
              "      border-radius: 50%;\n",
              "      cursor: pointer;\n",
              "      display: none;\n",
              "      fill: #1967D2;\n",
              "      height: 32px;\n",
              "      padding: 0 0 0 0;\n",
              "      width: 32px;\n",
              "    }\n",
              "\n",
              "    .colab-df-convert:hover {\n",
              "      background-color: #E2EBFA;\n",
              "      box-shadow: 0px 1px 2px rgba(60, 64, 67, 0.3), 0px 1px 3px 1px rgba(60, 64, 67, 0.15);\n",
              "      fill: #174EA6;\n",
              "    }\n",
              "\n",
              "    [theme=dark] .colab-df-convert {\n",
              "      background-color: #3B4455;\n",
              "      fill: #D2E3FC;\n",
              "    }\n",
              "\n",
              "    [theme=dark] .colab-df-convert:hover {\n",
              "      background-color: #434B5C;\n",
              "      box-shadow: 0px 1px 3px 1px rgba(0, 0, 0, 0.15);\n",
              "      filter: drop-shadow(0px 1px 2px rgba(0, 0, 0, 0.3));\n",
              "      fill: #FFFFFF;\n",
              "    }\n",
              "  </style>\n",
              "\n",
              "      <script>\n",
              "        const buttonEl =\n",
              "          document.querySelector('#df-e83c0c54-6413-41e4-a33b-d3294337fd4e button.colab-df-convert');\n",
              "        buttonEl.style.display =\n",
              "          google.colab.kernel.accessAllowed ? 'block' : 'none';\n",
              "\n",
              "        async function convertToInteractive(key) {\n",
              "          const element = document.querySelector('#df-e83c0c54-6413-41e4-a33b-d3294337fd4e');\n",
              "          const dataTable =\n",
              "            await google.colab.kernel.invokeFunction('convertToInteractive',\n",
              "                                                     [key], {});\n",
              "          if (!dataTable) return;\n",
              "\n",
              "          const docLinkHtml = 'Like what you see? Visit the ' +\n",
              "            '<a target=\"_blank\" href=https://colab.research.google.com/notebooks/data_table.ipynb>data table notebook</a>'\n",
              "            + ' to learn more about interactive tables.';\n",
              "          element.innerHTML = '';\n",
              "          dataTable['output_type'] = 'display_data';\n",
              "          await google.colab.output.renderOutput(dataTable, element);\n",
              "          const docLink = document.createElement('div');\n",
              "          docLink.innerHTML = docLinkHtml;\n",
              "          element.appendChild(docLink);\n",
              "        }\n",
              "      </script>\n",
              "    </div>\n",
              "  </div>\n"
            ]
          },
          "metadata": {},
          "execution_count": 47
        }
      ]
    },
    {
      "cell_type": "code",
      "source": [
        "wfs.contents"
      ],
      "metadata": {
        "id": "zwPqKwmbiV9z",
        "outputId": "9c53f92d-61a9-4bb2-cd8e-a7a6e667c5e1",
        "colab": {
          "base_uri": "https://localhost:8080/"
        }
      },
      "id": "zwPqKwmbiV9z",
      "execution_count": 14,
      "outputs": [
        {
          "output_type": "execute_result",
          "data": {
            "text/plain": [
              "{'station_flaeche': <owslib.feature.wfs100.ContentMetadata at 0x7edd2273f820>,\n",
              " 'leitung': <owslib.feature.wfs100.ContentMetadata at 0x7edd2273f6d0>,\n",
              " 'station_punkt': <owslib.feature.wfs100.ContentMetadata at 0x7edd2273f580>,\n",
              " 'mast': <owslib.feature.wfs100.ContentMetadata at 0x7edd2273f730>}"
            ]
          },
          "metadata": {},
          "execution_count": 14
        }
      ]
    },
    {
      "cell_type": "code",
      "source": [
        "url = \"https://data.geo.admin.ch/ch.bfe.elektrische-anlagen_ueber_36/gpkg/2056/ElektrischeAnlagenNennspannungUeber36kV_V1.gpkg\"\n",
        "dfLeitung = gpd.read_file(url, driver=\"GPKG\", layer='ElektrischeAnlagenNennspannungUeber36kV_V1_ElektrischeAnlagen_Leitung')\n",
        "dfStation = gpd.read_file(url, driver=\"GPKG\", layer='ElektrischeAnlagenNennspannungUeber36kV_V1_ElektrischeAnlagen_Station')\n",
        "dfMast = gpd.read_file(url, driver=\"GPKG\", layer='ElektrischeAnlagenNennspannungUeber36kV_V1_ElektrischeAnlagen_Mast')"
      ],
      "metadata": {
        "id": "-xzTRhr-Nd4g",
        "outputId": "c4c11a3e-33f5-4d07-a233-60e7e783f8ed",
        "colab": {
          "base_uri": "https://localhost:8080/"
        }
      },
      "id": "-xzTRhr-Nd4g",
      "execution_count": 48,
      "outputs": [
        {
          "output_type": "stream",
          "name": "stderr",
          "text": [
            "WARNING:fiona._env:File /vsimem/8b4b1e04b7fb4458a01218f50a2f8b98 has GPKG application_id, but non conformant file extension\n",
            "WARNING:fiona._env:File /vsimem/1e88314f278e49259a90ee00e3253fc0 has GPKG application_id, but non conformant file extension\n",
            "WARNING:fiona._env:File /vsimem/5c938139fb314f48b530e42bc332b2c4 has GPKG application_id, but non conformant file extension\n"
          ]
        }
      ]
    },
    {
      "cell_type": "code",
      "source": [
        "dfLeitung.head()"
      ],
      "metadata": {
        "id": "8MIKb3sZnEWK",
        "outputId": "6a53e870-e188-4d64-a22a-5c496a6619b2",
        "colab": {
          "base_uri": "https://localhost:8080/",
          "height": 206
        }
      },
      "id": "8MIKb3sZnEWK",
      "execution_count": 49,
      "outputs": [
        {
          "output_type": "execute_result",
          "data": {
            "text/plain": [
              "           xtf_id Leitung_ID Bezeichnung Eigentuemer  EigentumVollstaendig  \\\n",
              "0  iwb_0_44158429   44158429         NaN         IWB                  True   \n",
              "1  iwb_0_44158430   44158430         NaN         IWB                  True   \n",
              "2  iwb_0_44158431   44158431         NaN         IWB                  True   \n",
              "3  iwb_0_44163589   44163589         NaN         IWB                  True   \n",
              "4  iwb_0_44163590   44163590         NaN         IWB                  True   \n",
              "\n",
              "  Lagegenauigkeit    StromnetzTyp    LeitungTyp Spannung  SpannungAndere  \\\n",
              "0         ungenau  Allgemeinstrom  Kabelleitung    S50kV             NaN   \n",
              "1         ungenau  Allgemeinstrom  Kabelleitung    S50kV             NaN   \n",
              "2         ungenau  Allgemeinstrom  Kabelleitung    S50kV             NaN   \n",
              "3         ungenau  Allgemeinstrom  Kabelleitung    S50kV             NaN   \n",
              "4         ungenau  Allgemeinstrom  Kabelleitung    S50kV             NaN   \n",
              "\n",
              "  Betriebsstatus     Frequenz  \\\n",
              "0  ausserBetrieb  Gleichstrom   \n",
              "1  ausserBetrieb  Gleichstrom   \n",
              "2  ausserBetrieb  Gleichstrom   \n",
              "3  ausserBetrieb  Gleichstrom   \n",
              "4  ausserBetrieb  Gleichstrom   \n",
              "\n",
              "                                            geometry  \n",
              "0  LINESTRING (2611874.219 1265385.912, 2611864.0...  \n",
              "1  LINESTRING (2611874.219 1265385.912, 2611864.0...  \n",
              "2  LINESTRING (2611874.219 1265385.912, 2611864.0...  \n",
              "3  LINESTRING (2613120.882 1265219.918, 2613121.9...  \n",
              "4  LINESTRING (2613122.385 1265237.170, 2613122.7...  "
            ],
            "text/html": [
              "\n",
              "\n",
              "  <div id=\"df-2c8e0366-0ae4-4a6d-8c30-04e84ff7d976\">\n",
              "    <div class=\"colab-df-container\">\n",
              "      <div>\n",
              "<style scoped>\n",
              "    .dataframe tbody tr th:only-of-type {\n",
              "        vertical-align: middle;\n",
              "    }\n",
              "\n",
              "    .dataframe tbody tr th {\n",
              "        vertical-align: top;\n",
              "    }\n",
              "\n",
              "    .dataframe thead th {\n",
              "        text-align: right;\n",
              "    }\n",
              "</style>\n",
              "<table border=\"1\" class=\"dataframe\">\n",
              "  <thead>\n",
              "    <tr style=\"text-align: right;\">\n",
              "      <th></th>\n",
              "      <th>xtf_id</th>\n",
              "      <th>Leitung_ID</th>\n",
              "      <th>Bezeichnung</th>\n",
              "      <th>Eigentuemer</th>\n",
              "      <th>EigentumVollstaendig</th>\n",
              "      <th>Lagegenauigkeit</th>\n",
              "      <th>StromnetzTyp</th>\n",
              "      <th>LeitungTyp</th>\n",
              "      <th>Spannung</th>\n",
              "      <th>SpannungAndere</th>\n",
              "      <th>Betriebsstatus</th>\n",
              "      <th>Frequenz</th>\n",
              "      <th>geometry</th>\n",
              "    </tr>\n",
              "  </thead>\n",
              "  <tbody>\n",
              "    <tr>\n",
              "      <th>0</th>\n",
              "      <td>iwb_0_44158429</td>\n",
              "      <td>44158429</td>\n",
              "      <td>NaN</td>\n",
              "      <td>IWB</td>\n",
              "      <td>True</td>\n",
              "      <td>ungenau</td>\n",
              "      <td>Allgemeinstrom</td>\n",
              "      <td>Kabelleitung</td>\n",
              "      <td>S50kV</td>\n",
              "      <td>NaN</td>\n",
              "      <td>ausserBetrieb</td>\n",
              "      <td>Gleichstrom</td>\n",
              "      <td>LINESTRING (2611874.219 1265385.912, 2611864.0...</td>\n",
              "    </tr>\n",
              "    <tr>\n",
              "      <th>1</th>\n",
              "      <td>iwb_0_44158430</td>\n",
              "      <td>44158430</td>\n",
              "      <td>NaN</td>\n",
              "      <td>IWB</td>\n",
              "      <td>True</td>\n",
              "      <td>ungenau</td>\n",
              "      <td>Allgemeinstrom</td>\n",
              "      <td>Kabelleitung</td>\n",
              "      <td>S50kV</td>\n",
              "      <td>NaN</td>\n",
              "      <td>ausserBetrieb</td>\n",
              "      <td>Gleichstrom</td>\n",
              "      <td>LINESTRING (2611874.219 1265385.912, 2611864.0...</td>\n",
              "    </tr>\n",
              "    <tr>\n",
              "      <th>2</th>\n",
              "      <td>iwb_0_44158431</td>\n",
              "      <td>44158431</td>\n",
              "      <td>NaN</td>\n",
              "      <td>IWB</td>\n",
              "      <td>True</td>\n",
              "      <td>ungenau</td>\n",
              "      <td>Allgemeinstrom</td>\n",
              "      <td>Kabelleitung</td>\n",
              "      <td>S50kV</td>\n",
              "      <td>NaN</td>\n",
              "      <td>ausserBetrieb</td>\n",
              "      <td>Gleichstrom</td>\n",
              "      <td>LINESTRING (2611874.219 1265385.912, 2611864.0...</td>\n",
              "    </tr>\n",
              "    <tr>\n",
              "      <th>3</th>\n",
              "      <td>iwb_0_44163589</td>\n",
              "      <td>44163589</td>\n",
              "      <td>NaN</td>\n",
              "      <td>IWB</td>\n",
              "      <td>True</td>\n",
              "      <td>ungenau</td>\n",
              "      <td>Allgemeinstrom</td>\n",
              "      <td>Kabelleitung</td>\n",
              "      <td>S50kV</td>\n",
              "      <td>NaN</td>\n",
              "      <td>ausserBetrieb</td>\n",
              "      <td>Gleichstrom</td>\n",
              "      <td>LINESTRING (2613120.882 1265219.918, 2613121.9...</td>\n",
              "    </tr>\n",
              "    <tr>\n",
              "      <th>4</th>\n",
              "      <td>iwb_0_44163590</td>\n",
              "      <td>44163590</td>\n",
              "      <td>NaN</td>\n",
              "      <td>IWB</td>\n",
              "      <td>True</td>\n",
              "      <td>ungenau</td>\n",
              "      <td>Allgemeinstrom</td>\n",
              "      <td>Kabelleitung</td>\n",
              "      <td>S50kV</td>\n",
              "      <td>NaN</td>\n",
              "      <td>ausserBetrieb</td>\n",
              "      <td>Gleichstrom</td>\n",
              "      <td>LINESTRING (2613122.385 1265237.170, 2613122.7...</td>\n",
              "    </tr>\n",
              "  </tbody>\n",
              "</table>\n",
              "</div>\n",
              "      <button class=\"colab-df-convert\" onclick=\"convertToInteractive('df-2c8e0366-0ae4-4a6d-8c30-04e84ff7d976')\"\n",
              "              title=\"Convert this dataframe to an interactive table.\"\n",
              "              style=\"display:none;\">\n",
              "\n",
              "  <svg xmlns=\"http://www.w3.org/2000/svg\" height=\"24px\"viewBox=\"0 0 24 24\"\n",
              "       width=\"24px\">\n",
              "    <path d=\"M0 0h24v24H0V0z\" fill=\"none\"/>\n",
              "    <path d=\"M18.56 5.44l.94 2.06.94-2.06 2.06-.94-2.06-.94-.94-2.06-.94 2.06-2.06.94zm-11 1L8.5 8.5l.94-2.06 2.06-.94-2.06-.94L8.5 2.5l-.94 2.06-2.06.94zm10 10l.94 2.06.94-2.06 2.06-.94-2.06-.94-.94-2.06-.94 2.06-2.06.94z\"/><path d=\"M17.41 7.96l-1.37-1.37c-.4-.4-.92-.59-1.43-.59-.52 0-1.04.2-1.43.59L10.3 9.45l-7.72 7.72c-.78.78-.78 2.05 0 2.83L4 21.41c.39.39.9.59 1.41.59.51 0 1.02-.2 1.41-.59l7.78-7.78 2.81-2.81c.8-.78.8-2.07 0-2.86zM5.41 20L4 18.59l7.72-7.72 1.47 1.35L5.41 20z\"/>\n",
              "  </svg>\n",
              "      </button>\n",
              "\n",
              "\n",
              "\n",
              "    <div id=\"df-ebc426ee-0473-4f6a-b5c3-0fa9d6982b0d\">\n",
              "      <button class=\"colab-df-quickchart\" onclick=\"quickchart('df-ebc426ee-0473-4f6a-b5c3-0fa9d6982b0d')\"\n",
              "              title=\"Suggest charts.\"\n",
              "              style=\"display:none;\">\n",
              "\n",
              "<svg xmlns=\"http://www.w3.org/2000/svg\" height=\"24px\"viewBox=\"0 0 24 24\"\n",
              "     width=\"24px\">\n",
              "    <g>\n",
              "        <path d=\"M19 3H5c-1.1 0-2 .9-2 2v14c0 1.1.9 2 2 2h14c1.1 0 2-.9 2-2V5c0-1.1-.9-2-2-2zM9 17H7v-7h2v7zm4 0h-2V7h2v10zm4 0h-2v-4h2v4z\"/>\n",
              "    </g>\n",
              "</svg>\n",
              "      </button>\n",
              "    </div>\n",
              "\n",
              "<style>\n",
              "  .colab-df-quickchart {\n",
              "    background-color: #E8F0FE;\n",
              "    border: none;\n",
              "    border-radius: 50%;\n",
              "    cursor: pointer;\n",
              "    display: none;\n",
              "    fill: #1967D2;\n",
              "    height: 32px;\n",
              "    padding: 0 0 0 0;\n",
              "    width: 32px;\n",
              "  }\n",
              "\n",
              "  .colab-df-quickchart:hover {\n",
              "    background-color: #E2EBFA;\n",
              "    box-shadow: 0px 1px 2px rgba(60, 64, 67, 0.3), 0px 1px 3px 1px rgba(60, 64, 67, 0.15);\n",
              "    fill: #174EA6;\n",
              "  }\n",
              "\n",
              "  [theme=dark] .colab-df-quickchart {\n",
              "    background-color: #3B4455;\n",
              "    fill: #D2E3FC;\n",
              "  }\n",
              "\n",
              "  [theme=dark] .colab-df-quickchart:hover {\n",
              "    background-color: #434B5C;\n",
              "    box-shadow: 0px 1px 3px 1px rgba(0, 0, 0, 0.15);\n",
              "    filter: drop-shadow(0px 1px 2px rgba(0, 0, 0, 0.3));\n",
              "    fill: #FFFFFF;\n",
              "  }\n",
              "</style>\n",
              "\n",
              "    <script>\n",
              "      async function quickchart(key) {\n",
              "        const containerElement = document.querySelector('#' + key);\n",
              "        const charts = await google.colab.kernel.invokeFunction(\n",
              "            'suggestCharts', [key], {});\n",
              "      }\n",
              "    </script>\n",
              "\n",
              "      <script>\n",
              "\n",
              "function displayQuickchartButton(domScope) {\n",
              "  let quickchartButtonEl =\n",
              "    domScope.querySelector('#df-ebc426ee-0473-4f6a-b5c3-0fa9d6982b0d button.colab-df-quickchart');\n",
              "  quickchartButtonEl.style.display =\n",
              "    google.colab.kernel.accessAllowed ? 'block' : 'none';\n",
              "}\n",
              "\n",
              "        displayQuickchartButton(document);\n",
              "      </script>\n",
              "      <style>\n",
              "    .colab-df-container {\n",
              "      display:flex;\n",
              "      flex-wrap:wrap;\n",
              "      gap: 12px;\n",
              "    }\n",
              "\n",
              "    .colab-df-convert {\n",
              "      background-color: #E8F0FE;\n",
              "      border: none;\n",
              "      border-radius: 50%;\n",
              "      cursor: pointer;\n",
              "      display: none;\n",
              "      fill: #1967D2;\n",
              "      height: 32px;\n",
              "      padding: 0 0 0 0;\n",
              "      width: 32px;\n",
              "    }\n",
              "\n",
              "    .colab-df-convert:hover {\n",
              "      background-color: #E2EBFA;\n",
              "      box-shadow: 0px 1px 2px rgba(60, 64, 67, 0.3), 0px 1px 3px 1px rgba(60, 64, 67, 0.15);\n",
              "      fill: #174EA6;\n",
              "    }\n",
              "\n",
              "    [theme=dark] .colab-df-convert {\n",
              "      background-color: #3B4455;\n",
              "      fill: #D2E3FC;\n",
              "    }\n",
              "\n",
              "    [theme=dark] .colab-df-convert:hover {\n",
              "      background-color: #434B5C;\n",
              "      box-shadow: 0px 1px 3px 1px rgba(0, 0, 0, 0.15);\n",
              "      filter: drop-shadow(0px 1px 2px rgba(0, 0, 0, 0.3));\n",
              "      fill: #FFFFFF;\n",
              "    }\n",
              "  </style>\n",
              "\n",
              "      <script>\n",
              "        const buttonEl =\n",
              "          document.querySelector('#df-2c8e0366-0ae4-4a6d-8c30-04e84ff7d976 button.colab-df-convert');\n",
              "        buttonEl.style.display =\n",
              "          google.colab.kernel.accessAllowed ? 'block' : 'none';\n",
              "\n",
              "        async function convertToInteractive(key) {\n",
              "          const element = document.querySelector('#df-2c8e0366-0ae4-4a6d-8c30-04e84ff7d976');\n",
              "          const dataTable =\n",
              "            await google.colab.kernel.invokeFunction('convertToInteractive',\n",
              "                                                     [key], {});\n",
              "          if (!dataTable) return;\n",
              "\n",
              "          const docLinkHtml = 'Like what you see? Visit the ' +\n",
              "            '<a target=\"_blank\" href=https://colab.research.google.com/notebooks/data_table.ipynb>data table notebook</a>'\n",
              "            + ' to learn more about interactive tables.';\n",
              "          element.innerHTML = '';\n",
              "          dataTable['output_type'] = 'display_data';\n",
              "          await google.colab.output.renderOutput(dataTable, element);\n",
              "          const docLink = document.createElement('div');\n",
              "          docLink.innerHTML = docLinkHtml;\n",
              "          element.appendChild(docLink);\n",
              "        }\n",
              "      </script>\n",
              "    </div>\n",
              "  </div>\n"
            ]
          },
          "metadata": {},
          "execution_count": 49
        }
      ]
    },
    {
      "cell_type": "markdown",
      "source": [
        "## Kennzahlen Leitungen"
      ],
      "metadata": {
        "id": "PRptTEzMFt3o"
      },
      "id": "PRptTEzMFt3o"
    },
    {
      "cell_type": "code",
      "source": [
        "# Länge der Leitungen berechnen und nach Spannung aufsummieren\n",
        "dfLeitung[\"Laenge\"] = dfLeitung.length\n",
        "dfLeitungKPI = dfLeitung.groupby(['StromnetzTyp','Spannung','LeitungTyp'])['Laenge'].sum()\n",
        "dfLeitungKPI = dfLeitungKPI.to_frame().reset_index()\n",
        "dfLeitungKPI['Datum'] = datetime.today().strftime(\"%Y-%m-%d\")"
      ],
      "metadata": {
        "id": "A5dxmBTfvY3u"
      },
      "id": "A5dxmBTfvY3u",
      "execution_count": null,
      "outputs": []
    },
    {
      "cell_type": "code",
      "source": [
        "#Speichern\n",
        "dfLeitungKPI.to_csv(\"data/Kennzahlen_Leitungen.csv\", header=False, index=False, mode='a')"
      ],
      "metadata": {
        "id": "Dt1dONLBRkNV"
      },
      "id": "Dt1dONLBRkNV",
      "execution_count": null,
      "outputs": []
    },
    {
      "cell_type": "markdown",
      "source": [
        "## Kennzahlen Masten"
      ],
      "metadata": {
        "id": "pH1oWHxLGONC"
      },
      "id": "pH1oWHxLGONC"
    },
    {
      "cell_type": "code",
      "source": [
        "dfMastKPI = dfMast.groupby(['StromnetzTyp','MastTyp'])['xtf_id'].count().reset_index()\n",
        "dfMastKPI = dfMastKPI.rename(columns={'xtf_id':'Anzahl'})\n",
        "dfMastKPI['Datum'] = datetime.today().strftime(\"%Y-%m-%d\")"
      ],
      "metadata": {
        "id": "cIqj0wiVGSCa"
      },
      "id": "cIqj0wiVGSCa",
      "execution_count": null,
      "outputs": []
    },
    {
      "cell_type": "code",
      "source": [
        "#Speichern\n",
        "dfMastKPI.to_csv(\"data/Kennzahlen_Masten.csv\", header=False, index=False, mode='a')"
      ],
      "metadata": {
        "id": "N-dEcwdHGTgn"
      },
      "id": "N-dEcwdHGTgn",
      "execution_count": null,
      "outputs": []
    },
    {
      "cell_type": "markdown",
      "source": [
        "## Kennzahlen Stationen"
      ],
      "metadata": {
        "id": "GGnwlH5EJX4A"
      },
      "id": "GGnwlH5EJX4A"
    },
    {
      "cell_type": "code",
      "source": [
        "dfStationKPI = dfStation.groupby(['StromnetzTyp','StationTyp'])['xtf_id'].count().reset_index()\n",
        "dfStationKPI = dfStationKPI.rename(columns={'xtf_id':'Anzahl'})\n",
        "dfStationKPI['Datum'] = datetime.today().strftime(\"%Y-%m-%d\")"
      ],
      "metadata": {
        "id": "Xa3Vnx8NGvEI"
      },
      "id": "Xa3Vnx8NGvEI",
      "execution_count": null,
      "outputs": []
    },
    {
      "cell_type": "code",
      "source": [
        "#Speichern\n",
        "dfStationKPI.to_csv(\"data/Kennzahlen_Stationen.csv\", header=False, index=False, mode='a')"
      ],
      "metadata": {
        "id": "V1XOLqR3Jo5Q"
      },
      "id": "V1XOLqR3Jo5Q",
      "execution_count": null,
      "outputs": []
    },
    {
      "cell_type": "markdown",
      "source": [
        "## Kennzahlen Werke"
      ],
      "metadata": {
        "id": "be5rdoCHR_Bs"
      },
      "id": "be5rdoCHR_Bs"
    },
    {
      "cell_type": "code",
      "source": [
        "# Leitungslänge pro Werk ableiten.\n",
        "dfWerkeLeitung = dfLeitung.groupby(['Eigentuemer','LeitungTyp'])['Laenge'].sum()\n",
        "dfWerkeLeitung = dfWerkeLeitung.to_frame().reset_index()\n",
        "dfWerkeLeitung = pd.pivot(dfWerkeLeitung,index='Eigentuemer',columns='LeitungTyp')\n",
        "dfWerkeLeitung = dfWerkeLeitung.reset_index()\n",
        "dfWerkeLeitung.columns = dfWerkeLeitung.columns.droplevel()\n",
        "dfWerkeLeitung.columns = ['Werk','Freileitung','Kabelleitung']\n",
        "dfWerkeLeitung = dfWerkeLeitung.fillna(0)\n",
        "dfWerkeLeitung['LeitungGesamt']= dfWerkeLeitung['Kabelleitung']+dfWerkeLeitung['Freileitung']"
      ],
      "metadata": {
        "id": "4nqMeP4onPy_"
      },
      "id": "4nqMeP4onPy_",
      "execution_count": null,
      "outputs": []
    },
    {
      "cell_type": "code",
      "source": [
        "# Anzahl Masten pro Werk ableiten.\n",
        "dfWerkeMast = dfMast\n",
        "dfWerkeMast['Werk'] = dfWerkeMast['Eigentuemer']\n",
        "dfWerkeMast = dfWerkeMast.groupby(['Werk'])['xtf_id'].count().reset_index()\n",
        "dfWerkeMast = dfWerkeMast.rename(columns={'xtf_id':'AnzahlMasten'})"
      ],
      "metadata": {
        "id": "PGtabzpdUiYk"
      },
      "id": "PGtabzpdUiYk",
      "execution_count": null,
      "outputs": []
    },
    {
      "cell_type": "code",
      "source": [
        "# Anzahl Stationen pro Werk ableiten.\n",
        "dfWerkeStation = dfStation\n",
        "dfWerkeStation['Werk'] = dfWerkeStation['Eigentuemer']\n",
        "dfWerkeStation = dfWerkeStation.groupby(['Werk'])['xtf_id'].count().reset_index()\n",
        "dfWerkeStation = dfWerkeStation.rename(columns={'xtf_id':'AnzahlStationen'})"
      ],
      "metadata": {
        "id": "ol2pE__CUjgk"
      },
      "id": "ol2pE__CUjgk",
      "execution_count": null,
      "outputs": []
    },
    {
      "cell_type": "code",
      "source": [
        "# Zusammenführen\n",
        "dfWerke = pd.merge(dfWerkeLeitung, dfWerkeMast, how=\"left\", on=[\"Werk\"])\n",
        "dfWerke = pd.merge(dfWerke, dfWerkeStation, how=\"left\", on=[\"Werk\"])\n",
        "dfWerke = dfWerke.fillna(0)\n",
        "dfWerke['Datum'] = datetime.today().strftime(\"%Y-%m-%d\")"
      ],
      "metadata": {
        "id": "h-zBkvApU5g9"
      },
      "id": "h-zBkvApU5g9",
      "execution_count": null,
      "outputs": []
    },
    {
      "cell_type": "code",
      "source": [
        "#Speichern\n",
        "dfWerke.to_csv(\"data/Kennzahlen_Werke.csv\", header=False, index=False, mode='a')"
      ],
      "metadata": {
        "id": "BtD90pTTU6Rr"
      },
      "id": "BtD90pTTU6Rr",
      "execution_count": null,
      "outputs": []
    },
    {
      "cell_type": "markdown",
      "source": [
        "### Kennzahlen für Visualisierung in Storymap ableiten"
      ],
      "metadata": {
        "id": "StNwzcm9AaFu"
      },
      "id": "StNwzcm9AaFu"
    },
    {
      "cell_type": "code",
      "source": [
        "dfLeitungStorymap = dfLeitungKPI\n",
        "\n",
        "# Gewünschte Kategorien definieren\n",
        "Bedingungen = [dfLeitungStorymap['Spannung']=='S380kV',\n",
        "               dfLeitungStorymap['Spannung']=='S220kV',\n",
        "               (dfLeitungStorymap['StromnetzTyp']=='Allgemeinstrom') & (dfLeitungStorymap['Spannung'].isin(['S150kV','S132kV','S130kV','S125kV','S110kV'])),\n",
        "               (dfLeitungStorymap['StromnetzTyp']=='Allgemeinstrom') & (dfLeitungStorymap['Spannung'].isin(['S66kV','S65kV','S60kV','S50kV','S36kV','Andere'])),\n",
        "               (dfLeitungStorymap['StromnetzTyp']=='Bahnstrom') & (dfLeitungStorymap['Spannung']=='S132kV'),\n",
        "               (dfLeitungStorymap['StromnetzTyp']=='Bahnstrom') & (dfLeitungStorymap['Spannung'].isin(['S66kV','Andere']))\n",
        "               ]\n",
        "\n",
        "Spannungen = ['s380','s220','s150','s66','s132B','s66B']\n",
        "\n",
        "# Neues Attribut \"Kategorie\" erstellen welches für alle Objekte die gewünschte Kategorie bestimmt\n",
        "dfLeitungStorymap['Kategorie'] =  np.select(Bedingungen,Spannungen)"
      ],
      "metadata": {
        "id": "pTRV_22WvXn2"
      },
      "id": "pTRV_22WvXn2",
      "execution_count": null,
      "outputs": []
    },
    {
      "cell_type": "code",
      "source": [
        "# Dataframe für Totale Länge vorbereiten\n",
        "dfTotal = dfLeitungStorymap.groupby('Kategorie').sum(numeric_only=True).reset_index()\n",
        "dfTotal['Kategorie'] = 'Total_'+ dfTotal['Kategorie']\n",
        "dfTotal = dfTotal.transpose()\n",
        "dfTotal.columns = dfTotal.iloc[0]\n",
        "dfTotal = dfTotal[1:]\n",
        "dfTotal['Datum'] = datetime.today().strftime(\"%Y-%m-%d\")"
      ],
      "metadata": {
        "id": "LcuJ0bh_vkRl"
      },
      "id": "LcuJ0bh_vkRl",
      "execution_count": null,
      "outputs": []
    },
    {
      "cell_type": "code",
      "source": [
        "# Dataframe für Länge von Kabel vorbereiten\n",
        "dfKabel = dfLeitungStorymap.loc[dfLeitungStorymap['LeitungTyp']=='Kabelleitung'].groupby('Kategorie').sum(numeric_only=True).reset_index()\n",
        "dfKabel['Kategorie'] = 'Kabel_'+ dfKabel['Kategorie']\n",
        "dfKabel = dfKabel.transpose()\n",
        "dfKabel.columns = dfKabel.iloc[0]\n",
        "dfKabel = dfKabel[1:]\n",
        "dfKabel['Datum'] = datetime.today().strftime(\"%Y-%m-%d\")"
      ],
      "metadata": {
        "id": "kCBR3i-ZvkPF"
      },
      "id": "kCBR3i-ZvkPF",
      "execution_count": null,
      "outputs": []
    },
    {
      "cell_type": "code",
      "source": [
        "# Zusammenführen\n",
        "dfStorymap = pd.merge(dfTotal, dfKabel, how='left', on=[\"Datum\"])"
      ],
      "metadata": {
        "id": "HegE9FV7XF3Z"
      },
      "id": "HegE9FV7XF3Z",
      "execution_count": null,
      "outputs": []
    },
    {
      "cell_type": "code",
      "source": [
        "#Temporäre Platzhalter für die Bahnstromkategorien erstellen. kann später gelöscht werden!\n",
        "dfStorymap['Total_s132B'] = 1\n",
        "dfStorymap['Kabel_s132B'] = 1\n",
        "dfStorymap['Total_s66B'] = 1\n",
        "dfStorymap['Kabel_s66B'] = 1"
      ],
      "metadata": {
        "id": "K-SEPYHuaE8e"
      },
      "id": "K-SEPYHuaE8e",
      "execution_count": null,
      "outputs": []
    },
    {
      "cell_type": "code",
      "source": [
        "#Speichern\n",
        "dfStorymap.to_csv(\"data/Kennzahlen_Storymap.csv\", header=False, index=False, mode='a')"
      ],
      "metadata": {
        "id": "oyMD6TWfXYfj"
      },
      "id": "oyMD6TWfXYfj",
      "execution_count": null,
      "outputs": []
    },
    {
      "cell_type": "markdown",
      "source": [
        "### Visualisierungen Werke"
      ],
      "metadata": {
        "id": "YqQRyW_ncLAT"
      },
      "id": "YqQRyW_ncLAT"
    },
    {
      "cell_type": "code",
      "source": [
        "#Daten für Visualisierung laden\n",
        "df = pd.read_csv(\"data/Kennzahlen_Werke.csv\", parse_dates=['Datum'])\n",
        "dfVis = df\n",
        "dfVis['Freileitung'] = dfVis['Freileitung']/1000\n",
        "dfVis['Kabelleitung'] = dfVis['Kabelleitung']/1000\n",
        "dfVis['LeitungGesamt'] = dfVis['LeitungGesamt']/1000\n",
        "dfVis['Freileitung'] = dfVis['Freileitung'].round(0)\n",
        "dfVis['Kabelleitung'] = dfVis['Kabelleitung'].round(0)\n",
        "dfVis['LeitungGesamt'] = dfVis['LeitungGesamt'].round(0)\n",
        "dfVis = df.loc[df['Datum'] == datetime.today().strftime(\"%Y-%m-%d\")]"
      ],
      "metadata": {
        "id": "h-iOxBcgYbVg"
      },
      "id": "h-iOxBcgYbVg",
      "execution_count": null,
      "outputs": []
    },
    {
      "cell_type": "markdown",
      "source": [
        "#### Anzahl Masten pro Werkbetreiber"
      ],
      "metadata": {
        "id": "ZOunrA7sEiJM"
      },
      "id": "ZOunrA7sEiJM"
    },
    {
      "cell_type": "code",
      "source": [
        "#Barchart Anzahl Masten\n",
        "dfVis = dfVis.sort_values('AnzahlMasten',ascending=False)\n",
        "fig, ax = plt.subplots()\n",
        "ax.bar(dfVis['Werk'], dfVis['AnzahlMasten'])\n",
        "ax.set_title('Anzahl Masten')\n",
        "plt.xticks(rotation = 90)\n",
        "plt.ylabel(\"Anzahl Masten\")\n",
        "ax.bar_label(ax.containers[0], label_type='edge')\n",
        "plt.savefig('plots/AnzahlMasten.png',bbox_inches='tight')\n",
        "plt.close()"
      ],
      "metadata": {
        "id": "ufMSOqQ40J0t"
      },
      "id": "ufMSOqQ40J0t",
      "execution_count": null,
      "outputs": []
    },
    {
      "cell_type": "markdown",
      "source": [
        "#### Anzahl Stationen pro Werkbetreiber"
      ],
      "metadata": {
        "id": "yU-JFKUuEpiz"
      },
      "id": "yU-JFKUuEpiz"
    },
    {
      "cell_type": "code",
      "source": [
        "#Barchart Anzahl Stationen\n",
        "dfVis = dfVis.sort_values('AnzahlStationen',ascending=False)\n",
        "fig, ax = plt.subplots()\n",
        "ax.bar(dfVis['Werk'], dfVis['AnzahlStationen'])\n",
        "ax.set_title('Anzahl Stationen')\n",
        "plt.xticks(rotation = 90)\n",
        "plt.ylabel(\"Anzahl Stationen\")\n",
        "ax.bar_label(ax.containers[0], label_type='edge')\n",
        "plt.savefig('plots/AnzahlStationen.png',bbox_inches='tight')\n",
        "plt.close()"
      ],
      "metadata": {
        "id": "m-Ey3roy2Lbx"
      },
      "id": "m-Ey3roy2Lbx",
      "execution_count": null,
      "outputs": []
    },
    {
      "cell_type": "markdown",
      "source": [
        "#### Länge der Leitungen pro Werkbetreiber"
      ],
      "metadata": {
        "id": "XSIrEb4TErbk"
      },
      "id": "XSIrEb4TErbk"
    },
    {
      "cell_type": "code",
      "source": [
        "#Barchart Länge Leitungen\n",
        "dfVis = dfVis.sort_values('LeitungGesamt',ascending=False)\n",
        "\n",
        "#bar chart properties\n",
        "x = np.arange(len(dfVis['Werk']))\n",
        "width = 0.3\n",
        "\n",
        "#draw grouped bar chart\n",
        "fig, ax = plt.subplots()\n",
        "bar1 = ax.bar(x - width/2, dfVis['Freileitung'], width, label='Freileitung')\n",
        "bar2 = ax.bar(x + width/2, dfVis['Kabelleitung'], width, label='Kabelleitung')\n",
        "\n",
        "#ax.set_xlabel('Year')\n",
        "ax.set_ylabel('Länge (km)')\n",
        "ax.set_title('Länge der Leitungen')\n",
        "ax.set_xticks(x, dfVis['Werk'])\n",
        "ax.legend()\n",
        "\n",
        "#setting bar labels\n",
        "ax.bar_label(bar1)\n",
        "ax.bar_label(bar2)\n",
        "plt.xticks(rotation = 90)\n",
        "\n",
        "plt.savefig('plots/LaengeLeitungen.png',bbox_inches='tight')\n",
        "plt.close()"
      ],
      "metadata": {
        "id": "P6YydczLQ9FF"
      },
      "id": "P6YydczLQ9FF",
      "execution_count": null,
      "outputs": []
    },
    {
      "cell_type": "markdown",
      "source": [
        "### Visualisierungen Masten"
      ],
      "metadata": {
        "id": "SOX-r9khEwN1"
      },
      "id": "SOX-r9khEwN1"
    },
    {
      "cell_type": "code",
      "source": [
        "#Zeitliche Entwicklung Anzahl Masten\n",
        "dfAnzahlMasten = pd.read_csv(\"data/Kennzahlen_Masten.csv\", parse_dates=['Datum'])\n",
        "dfAnzahlMastenEntwicklung = dfAnzahlMasten.pivot(index=\"Datum\", columns=[\"MastTyp\",\"StromnetzTyp\"],values=\"Anzahl\")\n",
        "dfAnzahlMastenEntwicklung.plot(figsize=(15,10))\n",
        "plt.legend(loc='lower left')\n",
        "plt.title(\"Übersicht Anzahl Masten\")\n",
        "plt.savefig('plots/UebersichtAnzahlMasten.png')\n",
        "plt.close()"
      ],
      "metadata": {
        "id": "cusvFpStU0EJ"
      },
      "id": "cusvFpStU0EJ",
      "execution_count": null,
      "outputs": []
    },
    {
      "cell_type": "markdown",
      "source": [
        "### Visualisierung Stationen"
      ],
      "metadata": {
        "id": "_oyEBJJEE221"
      },
      "id": "_oyEBJJEE221"
    },
    {
      "cell_type": "code",
      "source": [
        "#Zeitliche Entwicklung Anzahl Stationen\n",
        "dfAnzahlStationen = pd.read_csv(\"data/Kennzahlen_Stationen.csv\", parse_dates=['Datum'])\n",
        "dfAnzahlStationen = dfAnzahlStationen.pivot(index=\"Datum\", columns=[\"StationTyp\",\"StromnetzTyp\"],values=\"Anzahl\")\n",
        "dfAnzahlStationen.plot(figsize=(15,10))\n",
        "plt.legend(loc='lower left')\n",
        "plt.title(\"Übersicht Anzahl Stationen\")\n",
        "plt.savefig('plots/UebersichtAnzahlStationen.png')\n",
        "plt.close()"
      ],
      "metadata": {
        "id": "ZuiZW9tXVP4R"
      },
      "id": "ZuiZW9tXVP4R",
      "execution_count": null,
      "outputs": []
    },
    {
      "cell_type": "markdown",
      "source": [
        "### Visualisierung Leitungen\n"
      ],
      "metadata": {
        "id": "F59FEU0QE4nW"
      },
      "id": "F59FEU0QE4nW"
    },
    {
      "cell_type": "code",
      "source": [
        "#Zeitliche Entwicklung Länge der Leitungen - Daten vorbereiten\n",
        "dfLaengeLeitungen = pd.read_csv(\"data/Kennzahlen_Leitungen.csv\", parse_dates=['Datum'])\n",
        "dfLaengeLeitungen['Laenge'] = dfLaengeLeitungen['Laenge']/1000\n",
        "dfLaengeLeitungen['Laenge'] = dfLaengeLeitungen['Laenge'].round(0)"
      ],
      "metadata": {
        "id": "E8PacBEeVcAk"
      },
      "id": "E8PacBEeVcAk",
      "execution_count": null,
      "outputs": []
    },
    {
      "cell_type": "markdown",
      "source": [
        "#### Leitungslänge pro Leitungstyp - zeitliche Entwicklung"
      ],
      "metadata": {
        "id": "SVpJL8qtE9x8"
      },
      "id": "SVpJL8qtE9x8"
    },
    {
      "cell_type": "code",
      "source": [
        "#Zeitliche Entwicklung Länge der Leitungen - Leitungstyp\n",
        "dfLaengeLeitungTyp = dfLaengeLeitungen.groupby(['LeitungTyp','Datum'])['Laenge'].sum().reset_index()\n",
        "dfLaengeLeitungTyp = dfLaengeLeitungTyp.pivot(index=\"Datum\", columns=[\"LeitungTyp\"],values=\"Laenge\")\n",
        "dfLaengeLeitungTyp.plot(figsize=(15,10))\n",
        "plt.legend(loc='lower left')\n",
        "plt.title(\"Länge der Leitungen (km) - Leitungstyp\")\n",
        "plt.savefig('plots/LaengeLeitungen_Typ.png')\n",
        "plt.close()"
      ],
      "metadata": {
        "id": "Ml7JNM_beh2G"
      },
      "id": "Ml7JNM_beh2G",
      "execution_count": null,
      "outputs": []
    },
    {
      "cell_type": "markdown",
      "source": [
        "#### Leitungslänge pro Spannungsebene - zeitliche Entwicklung"
      ],
      "metadata": {
        "id": "Gzrd7g9vFHh9"
      },
      "id": "Gzrd7g9vFHh9"
    },
    {
      "cell_type": "code",
      "source": [
        "#Zeitliche Entwicklung Länge der Leitungen - Spannung\n",
        "dfLaengeLeitungTyp = dfLaengeLeitungen.groupby(['Spannung','Datum'])['Laenge'].sum().reset_index()\n",
        "dfLaengeLeitungTyp = dfLaengeLeitungTyp.pivot(index=\"Datum\", columns=[\"Spannung\"],values=\"Laenge\")\n",
        "dfLaengeLeitungTyp.plot(figsize=(15,10))\n",
        "plt.legend(loc='lower left')\n",
        "plt.title(\"Länge der Leitungen (km) - Spannung\")\n",
        "plt.savefig('plots/LaengeLeitungen_Spannung.png')\n",
        "plt.close()"
      ],
      "metadata": {
        "id": "gfqjqdEbf1ud"
      },
      "id": "gfqjqdEbf1ud",
      "execution_count": null,
      "outputs": []
    },
    {
      "cell_type": "markdown",
      "source": [
        "#### Leitungslänge pro Stromnetztyp - zeitliche Entwicklung"
      ],
      "metadata": {
        "id": "BqPpm7FbFKVM"
      },
      "id": "BqPpm7FbFKVM"
    },
    {
      "cell_type": "code",
      "source": [
        "#Zeitliche Entwicklung Länge der Leitungen - StromnetzTyp\n",
        "dfLaengeLeitungTyp = dfLaengeLeitungen.groupby(['StromnetzTyp','Datum'])['Laenge'].sum().reset_index()\n",
        "dfLaengeLeitungTyp = dfLaengeLeitungTyp.pivot(index=\"Datum\", columns=[\"StromnetzTyp\"],values=\"Laenge\")\n",
        "dfLaengeLeitungTyp.plot(figsize=(15,10))\n",
        "plt.legend(loc='lower left')\n",
        "plt.title(\"Länge der Leitungen (km) - StromnetzTyp\")\n",
        "plt.savefig('plots/LaengeLeitungen_StromnetzTyp.png')\n",
        "plt.close()"
      ],
      "metadata": {
        "id": "Awg0WZImgGyK"
      },
      "id": "Awg0WZImgGyK",
      "execution_count": null,
      "outputs": []
    },
    {
      "cell_type": "markdown",
      "source": [
        "#### Leitungslänge nach Spannung"
      ],
      "metadata": {
        "id": "3nqVaes9FM7Z"
      },
      "id": "3nqVaes9FM7Z"
    },
    {
      "cell_type": "code",
      "source": [
        "#Barchart Länge Leitungen nach Spannung\n",
        "\n",
        "#Daten vorbereiten\n",
        "dfLeitungenBarChart = dfLaengeLeitungen.pivot_table(index='Spannung',columns=['LeitungTyp'],values='Laenge', aggfunc='sum').reset_index()\n",
        "dfLeitungenBarChart = dfLeitungenBarChart.fillna(0)\n",
        "dfLeitungenBarChart['Spannung'] = dfLeitungenBarChart['Spannung'].replace({'S':''},regex=True)\n",
        "dfLeitungenBarChart = dfLeitungenBarChart.sort_values('Freileitung',ascending=False)\n",
        "\n",
        "#bar chart properties\n",
        "x = np.arange(len(dfLeitungenBarChart['Spannung']))\n",
        "width = 0.3\n",
        "\n",
        "#draw grouped bar chart\n",
        "fig, ax = plt.subplots(figsize=(15,10))\n",
        "bar1 = ax.bar(x - width/2, dfLeitungenBarChart['Freileitung'], width, label='Freileitung')\n",
        "bar2 = ax.bar(x + width/2, dfLeitungenBarChart['Kabelleitung'], width, label='Kabelleitung')\n",
        "\n",
        "#ax.set_xlabel('Year')\n",
        "ax.set_ylabel('Länge (km)')\n",
        "ax.set_title('Länge der Leitungen')\n",
        "ax.set_xticks(x, dfLeitungenBarChart['Spannung'])\n",
        "\n",
        "#setting bar labels\n",
        "ax.bar_label(bar1)\n",
        "ax.bar_label(bar2)\n",
        "plt.xticks(rotation = 90)\n",
        "plt.legend(loc='upper right')\n",
        "plt.savefig('plots/LaengeLeitungen_Spannung_Uebersicht.png',bbox_inches='tight')\n",
        "plt.close()"
      ],
      "metadata": {
        "id": "Tefs2SwBwz4B"
      },
      "id": "Tefs2SwBwz4B",
      "execution_count": null,
      "outputs": []
    },
    {
      "cell_type": "markdown",
      "source": [
        "#### Masttyp Übersicht"
      ],
      "metadata": {
        "id": "_Bn9J5T7FYNH"
      },
      "id": "_Bn9J5T7FYNH"
    },
    {
      "cell_type": "code",
      "source": [
        "#Daten vorbereiten\n",
        "dfAnzahlMastenUebersicht = dfAnzahlMasten\n",
        "dfAnzahlMastenUebersicht = dfAnzahlMastenUebersicht.loc[dfAnzahlMastenUebersicht['Datum'] == datetime.today().strftime(\"%Y-%m-%d\")]\n",
        "\n",
        "#Barchart\n",
        "x = np.arange(len(dfAnzahlMastenUebersicht['MastTyp']))\n",
        "fig, ax = plt.subplots(figsize=(15,10))\n",
        "bar1 = ax.bar(x, dfAnzahlMastenUebersicht['Anzahl'], label='MastTyp')\n",
        "ax.set_ylabel('Anzahl Masten')\n",
        "ax.set_title('Anzahl Masten')\n",
        "ax.set_xticks(x, dfAnzahlMastenUebersicht['MastTyp'])\n",
        "ax.bar_label(bar1)\n",
        "plt.savefig('plots/AnzahlMasten_Uebersicht.png',bbox_inches='tight')\n",
        "plt.close()"
      ],
      "metadata": {
        "id": "baCONmEtBcoq"
      },
      "id": "baCONmEtBcoq",
      "execution_count": null,
      "outputs": []
    },
    {
      "cell_type": "code",
      "source": [],
      "metadata": {
        "id": "2Ztw06ATe4ZD"
      },
      "id": "2Ztw06ATe4ZD",
      "execution_count": null,
      "outputs": []
    }
  ],
  "metadata": {
    "kernelspec": {
      "display_name": "Python 3",
      "language": "python",
      "name": "python3"
    },
    "language_info": {
      "codemirror_mode": {
        "name": "ipython",
        "version": 3
      },
      "file_extension": ".py",
      "mimetype": "text/x-python",
      "name": "python",
      "nbconvert_exporter": "python",
      "pygments_lexer": "ipython3",
      "version": "3.7.11"
    },
    "colab": {
      "provenance": [],
      "include_colab_link": true
    }
  },
  "nbformat": 4,
  "nbformat_minor": 5
}